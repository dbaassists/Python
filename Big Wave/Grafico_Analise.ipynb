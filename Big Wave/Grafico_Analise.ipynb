{
 "cells": [
  {
   "cell_type": "code",
   "execution_count": null,
   "id": "3a3ff825",
   "metadata": {},
   "outputs": [],
   "source": [
    "import pandas as pd\n",
    "import matplotlib.pyplot as plt \n",
    "import numpy as np "
   ]
  },
  {
   "cell_type": "code",
   "execution_count": null,
   "id": "83bb9f36",
   "metadata": {},
   "outputs": [],
   "source": [
    "arquivo = 'C:\\\\Temp\\\\controleMemoriaCPU.txt'\n",
    "\n",
    "dfGrafico = pd.read_csv(arquivo,sep=';',usecols=[0,1],names=['Percentual','Data'],parse_dates=[1])"
   ]
  },
  {
   "cell_type": "code",
   "execution_count": null,
   "id": "7d87c8e1",
   "metadata": {},
   "outputs": [],
   "source": [
    "plt.figure(figsize=(18, 8))\n",
    "plt.plot(dfGrafico['Data'],dfGrafico['Percentual'],markersize=5, linestyle='--', linewidth=2)  \n",
    "plt.scatter(dfGrafico['Data'], dfGrafico['Percentual'], color = \"r\", marker = \"*\", s =100)\n",
    "plt.xlabel(\"Data\")  \n",
    "plt.ylabel(\"Percentual\")  \n",
    "plt.title(\"Consumo Memória\")  \n",
    "plt.xticks(rotation = 90)\n",
    "plt.show() "
   ]
  }
 ],
 "metadata": {
  "kernelspec": {
   "display_name": "Python 3 (ipykernel)",
   "language": "python",
   "name": "python3"
  },
  "language_info": {
   "codemirror_mode": {
    "name": "ipython",
    "version": 3
   },
   "file_extension": ".py",
   "mimetype": "text/x-python",
   "name": "python",
   "nbconvert_exporter": "python",
   "pygments_lexer": "ipython3",
   "version": "3.9.12"
  }
 },
 "nbformat": 4,
 "nbformat_minor": 5
}
