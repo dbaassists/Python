{
 "cells": [
  {
   "cell_type": "code",
   "execution_count": 1,
   "id": "37482c49",
   "metadata": {},
   "outputs": [],
   "source": [
    "# import required modules\n",
    "import pandas as pd\n",
    "import numpy as np\n",
    "import time\n",
    "import os\n",
    "import datetime"
   ]
  },
  {
   "cell_type": "code",
   "execution_count": 2,
   "id": "f0db3e70",
   "metadata": {},
   "outputs": [],
   "source": [
    "# estado ativo (valor 1) ou inativo (valor 0).\n",
    "\n",
    "arquivoControle = open('controle.txt','w')\n",
    "arquivoControle.write('1')\n",
    "arquivoControle.close()"
   ]
  },
  {
   "cell_type": "code",
   "execution_count": 3,
   "id": "daa1aa09",
   "metadata": {},
   "outputs": [],
   "source": [
    "#%run Monitoramento_Memoria.ipynb"
   ]
  },
  {
   "cell_type": "code",
   "execution_count": null,
   "id": "f83f915b",
   "metadata": {
    "scrolled": false
   },
   "outputs": [
    {
     "name": "stdout",
     "output_type": "stream",
     "text": [
      "C:\\Temp\\Covid19\\Vacina_Arquivos_SP\\part-00000-d9b389a6-321f-4785-9861-cfd747c55ac4.c000.csv\n",
      "inicio leitura arquivo: 2022-08-09 23:12:43.061411\n"
     ]
    }
   ],
   "source": [
    "\n",
    "s_time_chunk = time.time()\n",
    "\n",
    "diretorio = 'C:\\\\Temp\\\\Covid19\\\\Vacina_Arquivos_SP'\n",
    "\n",
    "dfVacina = pd.DataFrame()\n",
    "\n",
    "for arquivoVacina in os.listdir(diretorio):\n",
    "    \n",
    "    arquivo = os.path.join(diretorio, arquivoVacina) \n",
    "\n",
    "    print(arquivo)\n",
    "        \n",
    "    print('inicio leitura arquivo: ' + str(datetime.datetime.now()))\n",
    "    \n",
    "    df = pd.read_csv(arquivo\n",
    "                     ,sep=';'\n",
    "                    ,usecols=[1,4,9,10,11,13,27,28,30]\n",
    "                    ,names=['paciente_id'\n",
    "                             ,'paciente_enumSexoBiologico'\n",
    "                             ,'paciente_endereco_nmMunicipio'\n",
    "                             ,'paciente_endereco_nmPais'\n",
    "                             ,'paciente_endereco_uf'\n",
    "                             ,'paciente_nacionalidade_enumNacionalidade'\n",
    "                             ,'vacina_dataAplicacao'\n",
    "                             ,'vacina_descricao_dose'\n",
    "                             ,'vacina_nome']\n",
    "                    ,dtype={'paciente_id':'str'\n",
    "                             ,'paciente_enumSexoBiologico':'str'\n",
    "                             ,'paciente_endereco_nmMunicipio':'str'\n",
    "                             ,'paciente_endereco_nmPais':'str'\n",
    "                             ,'paciente_endereco_uf':'str'\n",
    "                             ,'paciente_nacionalidade_enumNacionalidade':'str'\n",
    "                             ,'vacina_dataAplicacao':'str'\n",
    "                             ,'vacina_descricao_dose':'str'\n",
    "                             ,'vacina_nome':'str'}\n",
    "                    ,engine='python')\n",
    "    \n",
    "    print('fim leitura arquivo: ' + str(datetime.datetime.now()))\n",
    "    \n",
    "    df['arquivo'] = arquivo\n",
    "    df['data_inicial'] = datetime.datetime.now()\n",
    "    df['data_final'] = datetime.datetime.now()\n",
    "    \n",
    "    print('inicio append: ' + str(datetime.datetime.now()))\n",
    "    dfVacina = dfVacina.append(df)\n",
    "    print('fim append: ' + str(datetime.datetime.now()))\n",
    "    \n",
    "    \n",
    "arquivoControle = open('controle.txt','w')\n",
    "arquivoControle.write('0')\n",
    "arquivoControle.close()\n",
    "    "
   ]
  },
  {
   "cell_type": "code",
   "execution_count": null,
   "id": "d74abd4f",
   "metadata": {},
   "outputs": [],
   "source": [
    "#dfVacina.groupby(['arquivo']).agg(qtd=('arquivo','sum'))"
   ]
  },
  {
   "cell_type": "code",
   "execution_count": null,
   "id": "e7befcb8",
   "metadata": {},
   "outputs": [],
   "source": [
    "#dfVacina.info()\n"
   ]
  },
  {
   "cell_type": "markdown",
   "id": "6ffb50cb",
   "metadata": {},
   "source": [
    "https://acervolima.com/trabalhar-com-grandes-arquivos-csv-em-python/\n",
    "\n",
    "https://opendatasus.saude.gov.br/en/dataset/covid-19-vacinacao/resource/84707ab9-8497-4f2f-8a0d-b873489a63bf\n",
    "\n",
    "https://opendatasus.saude.gov.br/en/dataset/covid-19-vacinacao/resource/5093679f-12c3-4d6b-b7bd-07694de54173\n",
    "\n",
    "https://opendatasus.saude.gov.br/en/dataset/covid-19-vacinacao/resource/10aed154-04c8-4cf4-b78a-8f0fa1bc5af4\n",
    "\n",
    "https://panda.ime.usp.br/pensepy/static/pensepy/10-Arquivos/files.html"
   ]
  },
  {
   "cell_type": "code",
   "execution_count": null,
   "id": "30ed3be7",
   "metadata": {},
   "outputs": [],
   "source": [
    "#arquivoControle = open('controle.txt','w')\n",
    "#arquivoControle.write('1')\n",
    "#arquivoControle.close()"
   ]
  },
  {
   "cell_type": "code",
   "execution_count": null,
   "id": "01c9882d",
   "metadata": {},
   "outputs": [],
   "source": [
    "#arquivoControle = open('controle.txt','r')\n",
    "#conteudo = arquivoControle.read()\n",
    "#print(conteudo)"
   ]
  }
 ],
 "metadata": {
  "kernelspec": {
   "display_name": "Python 3 (ipykernel)",
   "language": "python",
   "name": "python3"
  },
  "language_info": {
   "codemirror_mode": {
    "name": "ipython",
    "version": 3
   },
   "file_extension": ".py",
   "mimetype": "text/x-python",
   "name": "python",
   "nbconvert_exporter": "python",
   "pygments_lexer": "ipython3",
   "version": "3.9.12"
  }
 },
 "nbformat": 4,
 "nbformat_minor": 5
}
