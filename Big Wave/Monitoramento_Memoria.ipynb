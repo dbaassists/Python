{
 "cells": [
  {
   "cell_type": "code",
   "execution_count": 1,
   "id": "93758cdc",
   "metadata": {
    "scrolled": true
   },
   "outputs": [],
   "source": [
    "import psutil \n",
    "import time \n",
    "import datetime\n",
    "\n",
    "v_ini = '1'\n",
    "conteudo = '1'\n",
    "\n",
    "controleMemoriaCPU = open('controleMemoriaCPU.txt','w')\n",
    "\n",
    "while v_ini == conteudo:\n",
    "\n",
    "    time.sleep(15)\n",
    "    \n",
    "    arquivoControle = open('controle.txt','r')\n",
    "    conteudo = arquivoControle.read()\n",
    "    \n",
    "    controleMemoriaCPU.write('{0};{1}'.format(psutil.virtual_memory()[2],datetime.datetime.now()))\n",
    "    controleMemoriaCPU.write(\"\\n\")\n",
    "\n",
    "controleMemoriaCPU.close()\n"
   ]
  },
  {
   "cell_type": "markdown",
   "id": "6afe0d72",
   "metadata": {},
   "source": [
    "https://acervolima.com/como-obter-o-uso-atual-de-cpu-e-ram-em-python/"
   ]
  }
 ],
 "metadata": {
  "kernelspec": {
   "display_name": "Python 3 (ipykernel)",
   "language": "python",
   "name": "python3"
  },
  "language_info": {
   "codemirror_mode": {
    "name": "ipython",
    "version": 3
   },
   "file_extension": ".py",
   "mimetype": "text/x-python",
   "name": "python",
   "nbconvert_exporter": "python",
   "pygments_lexer": "ipython3",
   "version": "3.9.12"
  }
 },
 "nbformat": 4,
 "nbformat_minor": 5
}
