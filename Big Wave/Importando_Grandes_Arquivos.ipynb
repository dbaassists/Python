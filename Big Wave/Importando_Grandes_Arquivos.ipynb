{
 "cells": [
  {
   "cell_type": "code",
   "execution_count": null,
   "id": "37482c49",
   "metadata": {},
   "outputs": [],
   "source": [
    "# import required modules\n",
    "import pandas as pd\n",
    "import numpy as np\n",
    "import time\n",
    "import os\n",
    "import datetime"
   ]
  },
  {
   "cell_type": "code",
   "execution_count": null,
   "id": "f0db3e70",
   "metadata": {},
   "outputs": [],
   "source": [
    "# estado ativo (valor 1) ou inativo (valor 0).\n",
    "\n",
    "arquivoControle = open('controle.txt','w')\n",
    "arquivoControle.write('1')\n",
    "arquivoControle.close()"
   ]
  },
  {
   "cell_type": "code",
   "execution_count": null,
   "id": "f83f915b",
   "metadata": {
    "scrolled": false
   },
   "outputs": [],
   "source": [
    "s_time_chunk = time.time()\n",
    "\n",
    "diretorio = 'C:\\\\Temp\\\\Covid19\\\\Vacina_Arquivos_SP'\n",
    "\n",
    "dfVacina = pd.DataFrame()\n",
    "\n",
    "for arquivoVacina in os.listdir(diretorio):\n",
    "    \n",
    "    arquivo = os.path.join(diretorio, arquivoVacina) \n",
    "\n",
    "    print(arquivo)\n",
    "    \n",
    "    data_inicial = datetime.datetime.now()\n",
    "    \n",
    "    chunk = pd.read_csv(arquivo\n",
    "                     ,sep=';'\n",
    "                     ,usecols=[1,4,9,10,11,13,27,28,30]\n",
    "                     ,names=['paciente_id'\n",
    "                             ,'paciente_enumSexoBiologico'\n",
    "                             ,'paciente_endereco_nmMunicipio'\n",
    "                             ,'paciente_endereco_nmPais'\n",
    "                             ,'paciente_endereco_uf'\n",
    "                             ,'paciente_nacionalidade_enumNacionalidade'\n",
    "                             ,'vacina_dataAplicacao'\n",
    "                             ,'vacina_descricao_dose'\n",
    "                             ,'vacina_nome']\n",
    "                     ,dtype={'paciente_id':'str'\n",
    "                             ,'paciente_enumSexoBiologico':'str'\n",
    "                             ,'paciente_endereco_nmMunicipio':'str'\n",
    "                             ,'paciente_endereco_nmPais':'str'\n",
    "                             ,'paciente_endereco_uf':'str'\n",
    "                             ,'paciente_nacionalidade_enumNacionalidade':'str'\n",
    "                             ,'vacina_dataAplicacao':'str'\n",
    "                             ,'vacina_descricao_dose':'str'\n",
    "                             ,'vacina_nome':'str'}\n",
    "                     ,engine='python'\n",
    "                     ,chunksize=1000000)\n",
    "\n",
    "    e_time_chunk = time.time()\n",
    "\n",
    "    print(\"With chunks: \", (e_time_chunk-s_time_chunk), \"sec\")\n",
    "    \n",
    "    print('inicio concat: ' + str(datetime.datetime.now()))\n",
    "    df = pd.concat(chunk)\n",
    "    print('fim concat: ' + str(datetime.datetime.now()))\n",
    "    \n",
    "    data_final = datetime.datetime.now()\n",
    "    \n",
    "    df['arquivo'] = arquivo\n",
    "    df['data_inicial'] = data_inicial\n",
    "    df['data_final'] = data_final\n",
    "    \n",
    "    print('inicio append: ' + str(datetime.datetime.now()))\n",
    "    dfVacina = dfVacina.append(df)\n",
    "    print('fim append: ' + str(datetime.datetime.now()))\n",
    "    \n",
    "    \n",
    "arquivoControle = open('controle.txt','w')\n",
    "arquivoControle.write('0')\n",
    "arquivoControle.close()\n",
    "    "
   ]
  },
  {
   "cell_type": "markdown",
   "id": "6ffb50cb",
   "metadata": {},
   "source": [
    "https://acervolima.com/trabalhar-com-grandes-arquivos-csv-em-python/\n",
    "\n",
    "https://opendatasus.saude.gov.br/en/dataset/covid-19-vacinacao/resource/84707ab9-8497-4f2f-8a0d-b873489a63bf\n",
    "\n",
    "https://opendatasus.saude.gov.br/en/dataset/covid-19-vacinacao/resource/5093679f-12c3-4d6b-b7bd-07694de54173\n",
    "\n",
    "https://opendatasus.saude.gov.br/en/dataset/covid-19-vacinacao/resource/10aed154-04c8-4cf4-b78a-8f0fa1bc5af4\n",
    "\n",
    "https://panda.ime.usp.br/pensepy/static/pensepy/10-Arquivos/files.html"
   ]
  }
 ],
 "metadata": {
  "kernelspec": {
   "display_name": "Python 3 (ipykernel)",
   "language": "python",
   "name": "python3"
  },
  "language_info": {
   "codemirror_mode": {
    "name": "ipython",
    "version": 3
   },
   "file_extension": ".py",
   "mimetype": "text/x-python",
   "name": "python",
   "nbconvert_exporter": "python",
   "pygments_lexer": "ipython3",
   "version": "3.9.12"
  }
 },
 "nbformat": 4,
 "nbformat_minor": 5
}
