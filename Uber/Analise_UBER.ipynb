{
 "cells": [
  {
   "cell_type": "code",
   "execution_count": 1,
   "id": "b4833c2d",
   "metadata": {},
   "outputs": [],
   "source": [
    "import pandas as pd\n",
    "from datetime import datetime\n",
    "import seaborn as sns\n",
    "import matplotlib.pyplot as plt\n",
    "import datetime"
   ]
  },
  {
   "cell_type": "code",
   "execution_count": 2,
   "id": "9ec41697",
   "metadata": {},
   "outputs": [],
   "source": [
    "arquivoDadosViagens = '../Uber/Rider/trips_data.csv'"
   ]
  },
  {
   "cell_type": "markdown",
   "id": "fe21d611",
   "metadata": {},
   "source": [
    "# O que iremos fazer primeiro?\n",
    "\n",
    "* 1 - Importar o Arquivo e Analisar a Amostra de dados\n",
    "\n",
    "Após a análise, segue o que precisamos tratar:\n",
    "\n",
    "* 1.1 - Renomear Colunas\n",
    "* 1.2 - Converter as Colunas de Data\n",
    "* 1.3 - Converter Milhas em Kilometro\n",
    "* 1.4 - Tratando o Status da Viagem\n",
    "* 1.5 - Tratando o Tipo do Serviço\n",
    "* 1.6 - Eliminar Registros Descartados\n",
    "* 1.7 - Tratar Datas\n",
    "* 1.8 - Eliminar Colunas que Não Serão Usadas\n",
    "* 1.9 - Encontrar Perguntas e Respostas"
   ]
  },
  {
   "cell_type": "markdown",
   "id": "81c30fc5",
   "metadata": {},
   "source": [
    "# O que precisamos levantar?\n",
    "\n",
    "\n",
    "* 1.1 - Viagens (Total e Média) por tipo de produto\n",
    "* 1.2 - De quais cidades as viagens foram solicitadas\n",
    "* 1.3 - Tempo médio de espera entre a requisição e o inicio da viagem \n",
    "* 1.4 - Viagens concluídas e canceladas\n",
    "* 1.5 - Valor pago (por ano, mês) e média mensal de gasto\n",
    "* 1.6 - Qual o valor pago por KM?\n",
    "* 1.7 - Qual dia da semana tem a maior utilização?\n",
    "* 1.8 - Quantas solicitações viraram viagens?"
   ]
  },
  {
   "cell_type": "code",
   "execution_count": 3,
   "id": "3ee92386",
   "metadata": {},
   "outputs": [],
   "source": [
    "def geraGrafico(baseDados, eixo_x, eixo_y, tituloGrafico, descricaoEixoX, descricaoEixoY,variacao):    \n",
    "    \n",
    "    #criando a fig e o ax no matplotlib\n",
    "    fig, ax = plt.subplots(figsize=(13,6))\n",
    "\n",
    "    #criando novamente o gráfico\n",
    "    sns.barplot(x=eixo_x, # colocando as categorias no eixo x\n",
    "                y=eixo_y, # colocando os valores no eixo y\n",
    "                data = baseDados, # selecionando a base de dados\n",
    "                ax=ax,palette=['red','green','brown','grey','blue']) # definindo o Axes criado\n",
    "\n",
    "    #modificação do fundo\n",
    "    ax.set_frame_on(False) # retirando o Frame (retângulo que encobre os gráficos)\n",
    "\n",
    "    #adicionando um título\n",
    "    ax.set_title(tituloGrafico, # texto do título\n",
    "                 loc='center', # posicionamento do título no Axes\n",
    "                 pad=30, # Distanciamento do título com outros objetos\n",
    "                 fontdict={'fontsize':20}, # Tamanho da fonte utilizado\n",
    "                 color='#3f3f4e') # cor da fonte em hexadecimal\n",
    "\n",
    "    #retirando o eixo y\n",
    "    ax.get_yaxis().set_visible(True) # retirando o eixo Y\n",
    "\n",
    "    #retirando os ticks do eixo x\n",
    "    ax.tick_params(axis='x', # escolhendo os ticks do eixo x\n",
    "                   length=0, # colocamos os ticks de tamanho zero, compare com os desenhos de cima\n",
    "                   labelsize=12, # tamanho da fonte para os eixos\n",
    "                   colors='dimgrey') # cor da fonte para o eixo x\n",
    "\n",
    "    #ajustando o título Frutas do eixo\n",
    "    ax.set_xlabel(descricaoEixoX, # título que queremos colocar na parte horizontal (em baixo)\n",
    "                  labelpad=10, # distanciamento deste título com outros objetos\n",
    "                  fontdict={'fontsize':14}, # tamanho da fonte utilizado\n",
    "                  color='#4c4c4c') # cor da fonte em hexadecimal\n",
    "\n",
    "    #ajustando o título Frutas do eixo\n",
    "    ax.set_ylabel(descricaoEixoY, # título que queremos colocar na parte horizontal (em baixo)\n",
    "                  labelpad=10, # distanciamento deste título com outros objetos\n",
    "                  fontdict={'fontsize':14}, # tamanho da fonte utilizado\n",
    "                  color='#4c4c4c') # cor da fonte em hexadecimal\n",
    "\n",
    "\n",
    "    #colocando os rótulos\n",
    "    for retangulo in ax.patches:\n",
    "        ax.text(retangulo.get_x() + retangulo.get_width() / 2,\n",
    "              retangulo.get_height() + variacao,\n",
    "              '{:,.2f}'.format(float(retangulo.get_height())).replace(',','.'), # adicionando o texto da altura\n",
    "              ha = 'center')\n",
    "\n",
    "    #plotando o gráfico\n",
    "    plt.tight_layout();\n"
   ]
  },
  {
   "cell_type": "markdown",
   "id": "1e4bc5fe",
   "metadata": {},
   "source": [
    "### 1 - Importar o Arquivo e Analisar a Amostra de dados"
   ]
  },
  {
   "cell_type": "code",
   "execution_count": 4,
   "id": "eaf3cabc",
   "metadata": {},
   "outputs": [],
   "source": [
    "dfDadosViagens = pd.read_csv(arquivoDadosViagens\n",
    "                          ,parse_dates=[4,5,8]\n",
    "                          )"
   ]
  },
  {
   "cell_type": "code",
   "execution_count": 5,
   "id": "7c5252a2",
   "metadata": {},
   "outputs": [
    {
     "data": {
      "text/html": [
       "<div>\n",
       "<style scoped>\n",
       "    .dataframe tbody tr th:only-of-type {\n",
       "        vertical-align: middle;\n",
       "    }\n",
       "\n",
       "    .dataframe tbody tr th {\n",
       "        vertical-align: top;\n",
       "    }\n",
       "\n",
       "    .dataframe thead th {\n",
       "        text-align: right;\n",
       "    }\n",
       "</style>\n",
       "<table border=\"1\" class=\"dataframe\">\n",
       "  <thead>\n",
       "    <tr style=\"text-align: right;\">\n",
       "      <th></th>\n",
       "      <th>City</th>\n",
       "      <th>Product Type</th>\n",
       "      <th>Trip or Order Status</th>\n",
       "      <th>Request Time</th>\n",
       "      <th>Begin Trip Time</th>\n",
       "      <th>Begin Trip Lat</th>\n",
       "      <th>Begin Trip Lng</th>\n",
       "      <th>Begin Trip Address</th>\n",
       "      <th>Dropoff Time</th>\n",
       "      <th>Dropoff Lat</th>\n",
       "      <th>Dropoff Lng</th>\n",
       "      <th>Dropoff Address</th>\n",
       "      <th>Distance (miles)</th>\n",
       "      <th>Fare Amount</th>\n",
       "      <th>Fare Currency</th>\n",
       "    </tr>\n",
       "  </thead>\n",
       "  <tbody>\n",
       "    <tr>\n",
       "      <th>0</th>\n",
       "      <td>Rio de Janeiro</td>\n",
       "      <td>UberX</td>\n",
       "      <td>COMPLETED</td>\n",
       "      <td>2022-12-24 15:28:03 +0000 UTC</td>\n",
       "      <td>2022-12-24 15:33:24 +0000 UTC</td>\n",
       "      <td>-22.891977</td>\n",
       "      <td>-43.123863</td>\n",
       "      <td>R. Visconde do Rio Branco Loja 325, 360 - Cent...</td>\n",
       "      <td>2022-12-24 15:51:01 +0000 UTC</td>\n",
       "      <td>-22.903324</td>\n",
       "      <td>-43.099445</td>\n",
       "      <td>Avenida 7 de Setembro, 314 - Niterói - Niterói...</td>\n",
       "      <td>3.21</td>\n",
       "      <td>11.86</td>\n",
       "      <td>BRL</td>\n",
       "    </tr>\n",
       "    <tr>\n",
       "      <th>1</th>\n",
       "      <td>Rio de Janeiro</td>\n",
       "      <td>UberX</td>\n",
       "      <td>COMPLETED</td>\n",
       "      <td>2022-12-24 13:32:05 +0000 UTC</td>\n",
       "      <td>2022-12-24 13:34:41 +0000 UTC</td>\n",
       "      <td>-22.903465</td>\n",
       "      <td>-43.099617</td>\n",
       "      <td>Avenida 7 de Setembro, 314 - Niterói - Niterói...</td>\n",
       "      <td>2022-12-24 13:52:19 +0000 UTC</td>\n",
       "      <td>-22.896324</td>\n",
       "      <td>-43.124405</td>\n",
       "      <td>R. Quinze de Novembro, 8 - Centro - Niterói - ...</td>\n",
       "      <td>2.25</td>\n",
       "      <td>11.25</td>\n",
       "      <td>BRL</td>\n",
       "    </tr>\n",
       "  </tbody>\n",
       "</table>\n",
       "</div>"
      ],
      "text/plain": [
       "             City Product Type Trip or Order Status  \\\n",
       "0  Rio de Janeiro        UberX            COMPLETED   \n",
       "1  Rio de Janeiro        UberX            COMPLETED   \n",
       "\n",
       "                    Request Time                Begin Trip Time  \\\n",
       "0  2022-12-24 15:28:03 +0000 UTC  2022-12-24 15:33:24 +0000 UTC   \n",
       "1  2022-12-24 13:32:05 +0000 UTC  2022-12-24 13:34:41 +0000 UTC   \n",
       "\n",
       "  Begin Trip Lat  Begin Trip Lng  \\\n",
       "0     -22.891977      -43.123863   \n",
       "1     -22.903465      -43.099617   \n",
       "\n",
       "                                  Begin Trip Address  \\\n",
       "0  R. Visconde do Rio Branco Loja 325, 360 - Cent...   \n",
       "1  Avenida 7 de Setembro, 314 - Niterói - Niterói...   \n",
       "\n",
       "                    Dropoff Time  Dropoff Lat  Dropoff Lng  \\\n",
       "0  2022-12-24 15:51:01 +0000 UTC   -22.903324   -43.099445   \n",
       "1  2022-12-24 13:52:19 +0000 UTC   -22.896324   -43.124405   \n",
       "\n",
       "                                     Dropoff Address  Distance (miles)  \\\n",
       "0  Avenida 7 de Setembro, 314 - Niterói - Niterói...              3.21   \n",
       "1  R. Quinze de Novembro, 8 - Centro - Niterói - ...              2.25   \n",
       "\n",
       "   Fare Amount Fare Currency  \n",
       "0        11.86           BRL  \n",
       "1        11.25           BRL  "
      ]
     },
     "execution_count": 5,
     "metadata": {},
     "output_type": "execute_result"
    }
   ],
   "source": [
    "dfDadosViagens.head(2)"
   ]
  },
  {
   "cell_type": "markdown",
   "id": "eed22f2c",
   "metadata": {},
   "source": [
    "### 1.1 - Renomear colunas"
   ]
  },
  {
   "cell_type": "code",
   "execution_count": 6,
   "id": "9d5df7f2",
   "metadata": {},
   "outputs": [],
   "source": [
    "dfDadosViagens.rename(columns = {'City':'NomeCidade'\n",
    "                        ,'Product Type':'NomeProduto'\n",
    "                        ,'Trip or Order Status':'StatusViagem'\n",
    "                        ,'Request Time':'DthSolicitacaoViagem'\n",
    "                        ,'Begin Trip Time':'DthInicioViagem'\n",
    "                        ,'Begin Trip Lat':'LatitudeInicioViagem'\n",
    "                        ,'Begin Trip Lng':'LongitudeInicioViagem'\n",
    "                        ,'Begin Trip Address':'EnderecoInicioViagem'\n",
    "                        ,'Dropoff Time':'DthFimViagem'\n",
    "                        ,'Dropoff Lat':'LatitudeDestinoViagem'\n",
    "                        ,'Dropoff Lng':'LongitudeDestinoViagem'\n",
    "                        ,'Dropoff Address':'EnderecoDestinoViagem'\n",
    "                        ,'Distance (miles)':'DistanciaPercorridaEmMilhas'\n",
    "                        ,'Fare Amount':'ValorPago'\n",
    "                        ,'Fare Currency':'Moeda'}\n",
    "                        , inplace = True)\n"
   ]
  },
  {
   "cell_type": "code",
   "execution_count": 7,
   "id": "ffa6bf74",
   "metadata": {},
   "outputs": [
    {
     "data": {
      "text/html": [
       "<div>\n",
       "<style scoped>\n",
       "    .dataframe tbody tr th:only-of-type {\n",
       "        vertical-align: middle;\n",
       "    }\n",
       "\n",
       "    .dataframe tbody tr th {\n",
       "        vertical-align: top;\n",
       "    }\n",
       "\n",
       "    .dataframe thead th {\n",
       "        text-align: right;\n",
       "    }\n",
       "</style>\n",
       "<table border=\"1\" class=\"dataframe\">\n",
       "  <thead>\n",
       "    <tr style=\"text-align: right;\">\n",
       "      <th></th>\n",
       "      <th>NomeCidade</th>\n",
       "      <th>NomeProduto</th>\n",
       "      <th>StatusViagem</th>\n",
       "      <th>DthSolicitacaoViagem</th>\n",
       "      <th>DthInicioViagem</th>\n",
       "      <th>LatitudeInicioViagem</th>\n",
       "      <th>LongitudeInicioViagem</th>\n",
       "      <th>EnderecoInicioViagem</th>\n",
       "      <th>DthFimViagem</th>\n",
       "      <th>LatitudeDestinoViagem</th>\n",
       "      <th>LongitudeDestinoViagem</th>\n",
       "      <th>EnderecoDestinoViagem</th>\n",
       "      <th>DistanciaPercorridaEmMilhas</th>\n",
       "      <th>ValorPago</th>\n",
       "      <th>Moeda</th>\n",
       "    </tr>\n",
       "  </thead>\n",
       "  <tbody>\n",
       "    <tr>\n",
       "      <th>0</th>\n",
       "      <td>Rio de Janeiro</td>\n",
       "      <td>UberX</td>\n",
       "      <td>COMPLETED</td>\n",
       "      <td>2022-12-24 15:28:03 +0000 UTC</td>\n",
       "      <td>2022-12-24 15:33:24 +0000 UTC</td>\n",
       "      <td>-22.891977</td>\n",
       "      <td>-43.123863</td>\n",
       "      <td>R. Visconde do Rio Branco Loja 325, 360 - Cent...</td>\n",
       "      <td>2022-12-24 15:51:01 +0000 UTC</td>\n",
       "      <td>-22.903324</td>\n",
       "      <td>-43.099445</td>\n",
       "      <td>Avenida 7 de Setembro, 314 - Niterói - Niterói...</td>\n",
       "      <td>3.21</td>\n",
       "      <td>11.86</td>\n",
       "      <td>BRL</td>\n",
       "    </tr>\n",
       "    <tr>\n",
       "      <th>1</th>\n",
       "      <td>Rio de Janeiro</td>\n",
       "      <td>UberX</td>\n",
       "      <td>COMPLETED</td>\n",
       "      <td>2022-12-24 13:32:05 +0000 UTC</td>\n",
       "      <td>2022-12-24 13:34:41 +0000 UTC</td>\n",
       "      <td>-22.903465</td>\n",
       "      <td>-43.099617</td>\n",
       "      <td>Avenida 7 de Setembro, 314 - Niterói - Niterói...</td>\n",
       "      <td>2022-12-24 13:52:19 +0000 UTC</td>\n",
       "      <td>-22.896324</td>\n",
       "      <td>-43.124405</td>\n",
       "      <td>R. Quinze de Novembro, 8 - Centro - Niterói - ...</td>\n",
       "      <td>2.25</td>\n",
       "      <td>11.25</td>\n",
       "      <td>BRL</td>\n",
       "    </tr>\n",
       "  </tbody>\n",
       "</table>\n",
       "</div>"
      ],
      "text/plain": [
       "       NomeCidade NomeProduto StatusViagem           DthSolicitacaoViagem  \\\n",
       "0  Rio de Janeiro       UberX    COMPLETED  2022-12-24 15:28:03 +0000 UTC   \n",
       "1  Rio de Janeiro       UberX    COMPLETED  2022-12-24 13:32:05 +0000 UTC   \n",
       "\n",
       "                 DthInicioViagem LatitudeInicioViagem  LongitudeInicioViagem  \\\n",
       "0  2022-12-24 15:33:24 +0000 UTC           -22.891977             -43.123863   \n",
       "1  2022-12-24 13:34:41 +0000 UTC           -22.903465             -43.099617   \n",
       "\n",
       "                                EnderecoInicioViagem  \\\n",
       "0  R. Visconde do Rio Branco Loja 325, 360 - Cent...   \n",
       "1  Avenida 7 de Setembro, 314 - Niterói - Niterói...   \n",
       "\n",
       "                    DthFimViagem  LatitudeDestinoViagem  \\\n",
       "0  2022-12-24 15:51:01 +0000 UTC             -22.903324   \n",
       "1  2022-12-24 13:52:19 +0000 UTC             -22.896324   \n",
       "\n",
       "   LongitudeDestinoViagem                              EnderecoDestinoViagem  \\\n",
       "0              -43.099445  Avenida 7 de Setembro, 314 - Niterói - Niterói...   \n",
       "1              -43.124405  R. Quinze de Novembro, 8 - Centro - Niterói - ...   \n",
       "\n",
       "   DistanciaPercorridaEmMilhas  ValorPago Moeda  \n",
       "0                         3.21      11.86   BRL  \n",
       "1                         2.25      11.25   BRL  "
      ]
     },
     "execution_count": 7,
     "metadata": {},
     "output_type": "execute_result"
    }
   ],
   "source": [
    "dfDadosViagens.head(2)"
   ]
  },
  {
   "cell_type": "markdown",
   "id": "8e5faaaf",
   "metadata": {},
   "source": [
    "### 1.2 - Converter as Colunas de Data"
   ]
  },
  {
   "cell_type": "code",
   "execution_count": 8,
   "id": "0fe3718d",
   "metadata": {},
   "outputs": [],
   "source": [
    "\n",
    "listaColunas = ['DthSolicitacaoViagem','DthInicioViagem','DthFimViagem']\n",
    "\n",
    "for coluna in listaColunas:\n",
    "    dfDadosViagens[coluna] = pd.to_datetime(dfDadosViagens[coluna].str[:19], format=\"%Y-%m-%dT%H:%M:%S\")\n"
   ]
  },
  {
   "cell_type": "code",
   "execution_count": 9,
   "id": "26707186",
   "metadata": {},
   "outputs": [
    {
     "name": "stdout",
     "output_type": "stream",
     "text": [
      "<class 'pandas.core.frame.DataFrame'>\n",
      "RangeIndex: 562 entries, 0 to 561\n",
      "Data columns (total 15 columns):\n",
      " #   Column                       Non-Null Count  Dtype         \n",
      "---  ------                       --------------  -----         \n",
      " 0   NomeCidade                   562 non-null    object        \n",
      " 1   NomeProduto                  556 non-null    object        \n",
      " 2   StatusViagem                 562 non-null    object        \n",
      " 3   DthSolicitacaoViagem         562 non-null    datetime64[ns]\n",
      " 4   DthInicioViagem              562 non-null    datetime64[ns]\n",
      " 5   LatitudeInicioViagem         542 non-null    object        \n",
      " 6   LongitudeInicioViagem        542 non-null    float64       \n",
      " 7   EnderecoInicioViagem         542 non-null    object        \n",
      " 8   DthFimViagem                 562 non-null    datetime64[ns]\n",
      " 9   LatitudeDestinoViagem        542 non-null    float64       \n",
      " 10  LongitudeDestinoViagem       542 non-null    float64       \n",
      " 11  EnderecoDestinoViagem        544 non-null    object        \n",
      " 12  DistanciaPercorridaEmMilhas  562 non-null    float64       \n",
      " 13  ValorPago                    562 non-null    float64       \n",
      " 14  Moeda                        562 non-null    object        \n",
      "dtypes: datetime64[ns](3), float64(5), object(7)\n",
      "memory usage: 66.0+ KB\n"
     ]
    }
   ],
   "source": [
    "dfDadosViagens.info()"
   ]
  },
  {
   "cell_type": "markdown",
   "id": "551e1130",
   "metadata": {},
   "source": [
    "### 1.3 - Converter Milhas em Kilometro"
   ]
  },
  {
   "cell_type": "code",
   "execution_count": 10,
   "id": "9f5e6e79",
   "metadata": {},
   "outputs": [],
   "source": [
    "dfDadosViagens['DistanciaPercorridaEmMilhas'] = dfDadosViagens['DistanciaPercorridaEmMilhas'] / 0.62137"
   ]
  },
  {
   "cell_type": "markdown",
   "id": "6ad95c92",
   "metadata": {},
   "source": [
    "### 1.4 - Tratando o Status da Viagem"
   ]
  },
  {
   "cell_type": "code",
   "execution_count": 11,
   "id": "97b363c9",
   "metadata": {},
   "outputs": [
    {
     "data": {
      "text/html": [
       "<div>\n",
       "<style scoped>\n",
       "    .dataframe tbody tr th:only-of-type {\n",
       "        vertical-align: middle;\n",
       "    }\n",
       "\n",
       "    .dataframe tbody tr th {\n",
       "        vertical-align: top;\n",
       "    }\n",
       "\n",
       "    .dataframe thead th {\n",
       "        text-align: right;\n",
       "    }\n",
       "</style>\n",
       "<table border=\"1\" class=\"dataframe\">\n",
       "  <thead>\n",
       "    <tr style=\"text-align: right;\">\n",
       "      <th></th>\n",
       "      <th>Qtd</th>\n",
       "    </tr>\n",
       "    <tr>\n",
       "      <th>StatusViagem</th>\n",
       "      <th></th>\n",
       "    </tr>\n",
       "  </thead>\n",
       "  <tbody>\n",
       "    <tr>\n",
       "      <th>CANCELED</th>\n",
       "      <td>103</td>\n",
       "    </tr>\n",
       "    <tr>\n",
       "      <th>COMPLETED</th>\n",
       "      <td>449</td>\n",
       "    </tr>\n",
       "    <tr>\n",
       "      <th>DRIVER_CANCELED</th>\n",
       "      <td>4</td>\n",
       "    </tr>\n",
       "    <tr>\n",
       "      <th>UNFULFILLED</th>\n",
       "      <td>6</td>\n",
       "    </tr>\n",
       "  </tbody>\n",
       "</table>\n",
       "</div>"
      ],
      "text/plain": [
       "                 Qtd\n",
       "StatusViagem        \n",
       "CANCELED         103\n",
       "COMPLETED        449\n",
       "DRIVER_CANCELED    4\n",
       "UNFULFILLED        6"
      ]
     },
     "execution_count": 11,
     "metadata": {},
     "output_type": "execute_result"
    }
   ],
   "source": [
    "dfDadosViagens.groupby(['StatusViagem']).agg(Qtd=('StatusViagem','count'))"
   ]
  },
  {
   "cell_type": "markdown",
   "id": "64d4e03c",
   "metadata": {},
   "source": [
    "Aplicando De-Para no Status da Viagem"
   ]
  },
  {
   "cell_type": "code",
   "execution_count": 12,
   "id": "7584b47b",
   "metadata": {},
   "outputs": [],
   "source": [
    "\n",
    "dfDadosViagens.loc[dfDadosViagens['StatusViagem'].isin(['CANCELED','DRIVER_CANCELED']), 'StatusViagem'] = 'Cancelada'\n",
    "dfDadosViagens.loc[dfDadosViagens['StatusViagem'].isin(['COMPLETED']), 'StatusViagem'] = 'Concluída'\n",
    "dfDadosViagens.loc[dfDadosViagens['StatusViagem'].isin(['UNFULFILLED']), 'StatusViagem'] = 'Descartada'\n"
   ]
  },
  {
   "cell_type": "code",
   "execution_count": 13,
   "id": "0d811be9",
   "metadata": {},
   "outputs": [
    {
     "data": {
      "text/plain": [
       "array(['Concluída', 'Cancelada', 'Descartada'], dtype=object)"
      ]
     },
     "execution_count": 13,
     "metadata": {},
     "output_type": "execute_result"
    }
   ],
   "source": [
    "dfDadosViagens['StatusViagem'].unique()"
   ]
  },
  {
   "cell_type": "markdown",
   "id": "49bba023",
   "metadata": {},
   "source": [
    "### 1.5 - Tratando o Tipo do Serviço"
   ]
  },
  {
   "cell_type": "code",
   "execution_count": 14,
   "id": "48183e18",
   "metadata": {},
   "outputs": [
    {
     "data": {
      "text/plain": [
       "array(['UberX', 'Comfort Planet', 'VIP', nan, 'Black', 'uberX'],\n",
       "      dtype=object)"
      ]
     },
     "execution_count": 14,
     "metadata": {},
     "output_type": "execute_result"
    }
   ],
   "source": [
    "dfDadosViagens['NomeProduto'].unique()"
   ]
  },
  {
   "cell_type": "markdown",
   "id": "b2b8707a",
   "metadata": {},
   "source": [
    "Aplicando De-Para no Produto Contratado"
   ]
  },
  {
   "cell_type": "code",
   "execution_count": 15,
   "id": "be5f4a7c",
   "metadata": {},
   "outputs": [
    {
     "data": {
      "text/plain": [
       "array(['Uber X', 'Uber Comfort', 'Uber VIP', 'Descartada', 'Uber Black'],\n",
       "      dtype=object)"
      ]
     },
     "execution_count": 15,
     "metadata": {},
     "output_type": "execute_result"
    }
   ],
   "source": [
    "dfDadosViagens.loc[dfDadosViagens['NomeProduto'].isin(['UberX','uberX']), 'NomeProduto'] = 'Uber X'\n",
    "dfDadosViagens.loc[dfDadosViagens['NomeProduto'].isin(['Comfort Planet']), 'NomeProduto'] = 'Uber Comfort'\n",
    "dfDadosViagens.loc[dfDadosViagens['NomeProduto'].isin(['VIP']), 'NomeProduto'] = 'Uber VIP'\n",
    "dfDadosViagens.loc[dfDadosViagens['NomeProduto'].isin(['Black']), 'NomeProduto'] = 'Uber Black'\n",
    "dfDadosViagens['NomeProduto'].fillna('Descartada', inplace=True)\n",
    "\n",
    "dfDadosViagens['NomeProduto'].unique()"
   ]
  },
  {
   "cell_type": "markdown",
   "id": "2282db27",
   "metadata": {},
   "source": [
    "### 1.6 - Eliminar Registros Descartados"
   ]
  },
  {
   "cell_type": "code",
   "execution_count": 16,
   "id": "163afa1c",
   "metadata": {},
   "outputs": [],
   "source": [
    "dfDadosViagens = dfDadosViagens.drop(dfDadosViagens[dfDadosViagens.StatusViagem == 'Descartada'].index)"
   ]
  },
  {
   "cell_type": "markdown",
   "id": "1c988fb2",
   "metadata": {},
   "source": [
    "### 1.7 - Tratando Datas\n",
    "\n",
    "* Desmembrar Coluna DthSolicitacaoViagem e Criar as Colunas de AnoViagem, MesViagem e DiaViagem"
   ]
  },
  {
   "cell_type": "code",
   "execution_count": 17,
   "id": "cd17eee0",
   "metadata": {},
   "outputs": [],
   "source": [
    "\n",
    "dfDadosViagens['AnoViagem'] = dfDadosViagens['DthSolicitacaoViagem'].dt.strftime('%Y')\n",
    "dfDadosViagens['MesViagem'] = dfDadosViagens['DthSolicitacaoViagem'].dt.strftime('%m')\n",
    "dfDadosViagens['DiaViagem'] = dfDadosViagens['DthSolicitacaoViagem'].dt.strftime('%d')\n"
   ]
  },
  {
   "cell_type": "markdown",
   "id": "0f08dde1",
   "metadata": {},
   "source": [
    "* A partir da Coluna DthSolicitacaoViagem, Gerar a Coluna DiaDaSemana"
   ]
  },
  {
   "cell_type": "code",
   "execution_count": 18,
   "id": "5ff6549d",
   "metadata": {},
   "outputs": [],
   "source": [
    "dfDadosViagens['NumDiaViagem'] = dfDadosViagens['DthSolicitacaoViagem'].dt.strftime(\"%w\")\n",
    "\n",
    "dfDadosViagens.loc[dfDadosViagens['DthSolicitacaoViagem'].dt.strftime(\"%w\") == '0', 'DiaDaSemana'] = dfDadosViagens['DthSolicitacaoViagem'].dt.strftime(\"%w\") + ' - Domingo'\n",
    "dfDadosViagens.loc[dfDadosViagens['DthSolicitacaoViagem'].dt.strftime(\"%w\") == '1', 'DiaDaSemana'] = dfDadosViagens['DthSolicitacaoViagem'].dt.strftime(\"%w\") + ' - Segunda-Feira'\n",
    "dfDadosViagens.loc[dfDadosViagens['DthSolicitacaoViagem'].dt.strftime(\"%w\") == '2', 'DiaDaSemana'] = dfDadosViagens['DthSolicitacaoViagem'].dt.strftime(\"%w\") + ' - Terça-Feira'\n",
    "dfDadosViagens.loc[dfDadosViagens['DthSolicitacaoViagem'].dt.strftime(\"%w\") == '3', 'DiaDaSemana'] = dfDadosViagens['DthSolicitacaoViagem'].dt.strftime(\"%w\") + ' - Quarta-Feira'\n",
    "dfDadosViagens.loc[dfDadosViagens['DthSolicitacaoViagem'].dt.strftime(\"%w\") == '4', 'DiaDaSemana'] = dfDadosViagens['DthSolicitacaoViagem'].dt.strftime(\"%w\") + ' - Quinta-Feira'\n",
    "dfDadosViagens.loc[dfDadosViagens['DthSolicitacaoViagem'].dt.strftime(\"%w\") == '5', 'DiaDaSemana'] = dfDadosViagens['DthSolicitacaoViagem'].dt.strftime(\"%w\") + ' - Sexta-Feira'\n",
    "dfDadosViagens.loc[dfDadosViagens['DthSolicitacaoViagem'].dt.strftime(\"%w\") == '6', 'DiaDaSemana'] = dfDadosViagens['DthSolicitacaoViagem'].dt.strftime(\"%w\") + ' - Sábado'\n"
   ]
  },
  {
   "cell_type": "code",
   "execution_count": 19,
   "id": "b11a239e",
   "metadata": {},
   "outputs": [
    {
     "data": {
      "text/html": [
       "<div>\n",
       "<style scoped>\n",
       "    .dataframe tbody tr th:only-of-type {\n",
       "        vertical-align: middle;\n",
       "    }\n",
       "\n",
       "    .dataframe tbody tr th {\n",
       "        vertical-align: top;\n",
       "    }\n",
       "\n",
       "    .dataframe thead th {\n",
       "        text-align: right;\n",
       "    }\n",
       "</style>\n",
       "<table border=\"1\" class=\"dataframe\">\n",
       "  <thead>\n",
       "    <tr style=\"text-align: right;\">\n",
       "      <th></th>\n",
       "      <th>NomeCidade</th>\n",
       "      <th>NomeProduto</th>\n",
       "      <th>StatusViagem</th>\n",
       "      <th>DthSolicitacaoViagem</th>\n",
       "      <th>DthInicioViagem</th>\n",
       "      <th>LatitudeInicioViagem</th>\n",
       "      <th>LongitudeInicioViagem</th>\n",
       "      <th>EnderecoInicioViagem</th>\n",
       "      <th>DthFimViagem</th>\n",
       "      <th>LatitudeDestinoViagem</th>\n",
       "      <th>LongitudeDestinoViagem</th>\n",
       "      <th>EnderecoDestinoViagem</th>\n",
       "      <th>DistanciaPercorridaEmMilhas</th>\n",
       "      <th>ValorPago</th>\n",
       "      <th>Moeda</th>\n",
       "      <th>AnoViagem</th>\n",
       "      <th>MesViagem</th>\n",
       "      <th>DiaViagem</th>\n",
       "      <th>NumDiaViagem</th>\n",
       "      <th>DiaDaSemana</th>\n",
       "    </tr>\n",
       "  </thead>\n",
       "  <tbody>\n",
       "    <tr>\n",
       "      <th>0</th>\n",
       "      <td>Rio de Janeiro</td>\n",
       "      <td>Uber X</td>\n",
       "      <td>Concluída</td>\n",
       "      <td>2022-12-24 15:28:03</td>\n",
       "      <td>2022-12-24 15:33:24</td>\n",
       "      <td>-22.891977</td>\n",
       "      <td>-43.123863</td>\n",
       "      <td>R. Visconde do Rio Branco Loja 325, 360 - Cent...</td>\n",
       "      <td>2022-12-24 15:51:01</td>\n",
       "      <td>-22.903324</td>\n",
       "      <td>-43.099445</td>\n",
       "      <td>Avenida 7 de Setembro, 314 - Niterói - Niterói...</td>\n",
       "      <td>5.166004</td>\n",
       "      <td>11.86</td>\n",
       "      <td>BRL</td>\n",
       "      <td>2022</td>\n",
       "      <td>12</td>\n",
       "      <td>24</td>\n",
       "      <td>6</td>\n",
       "      <td>6 - Sábado</td>\n",
       "    </tr>\n",
       "    <tr>\n",
       "      <th>1</th>\n",
       "      <td>Rio de Janeiro</td>\n",
       "      <td>Uber X</td>\n",
       "      <td>Concluída</td>\n",
       "      <td>2022-12-24 13:32:05</td>\n",
       "      <td>2022-12-24 13:34:41</td>\n",
       "      <td>-22.903465</td>\n",
       "      <td>-43.099617</td>\n",
       "      <td>Avenida 7 de Setembro, 314 - Niterói - Niterói...</td>\n",
       "      <td>2022-12-24 13:52:19</td>\n",
       "      <td>-22.896324</td>\n",
       "      <td>-43.124405</td>\n",
       "      <td>R. Quinze de Novembro, 8 - Centro - Niterói - ...</td>\n",
       "      <td>3.621031</td>\n",
       "      <td>11.25</td>\n",
       "      <td>BRL</td>\n",
       "      <td>2022</td>\n",
       "      <td>12</td>\n",
       "      <td>24</td>\n",
       "      <td>6</td>\n",
       "      <td>6 - Sábado</td>\n",
       "    </tr>\n",
       "  </tbody>\n",
       "</table>\n",
       "</div>"
      ],
      "text/plain": [
       "       NomeCidade NomeProduto StatusViagem DthSolicitacaoViagem  \\\n",
       "0  Rio de Janeiro      Uber X    Concluída  2022-12-24 15:28:03   \n",
       "1  Rio de Janeiro      Uber X    Concluída  2022-12-24 13:32:05   \n",
       "\n",
       "      DthInicioViagem LatitudeInicioViagem  LongitudeInicioViagem  \\\n",
       "0 2022-12-24 15:33:24           -22.891977             -43.123863   \n",
       "1 2022-12-24 13:34:41           -22.903465             -43.099617   \n",
       "\n",
       "                                EnderecoInicioViagem        DthFimViagem  \\\n",
       "0  R. Visconde do Rio Branco Loja 325, 360 - Cent... 2022-12-24 15:51:01   \n",
       "1  Avenida 7 de Setembro, 314 - Niterói - Niterói... 2022-12-24 13:52:19   \n",
       "\n",
       "   LatitudeDestinoViagem  LongitudeDestinoViagem  \\\n",
       "0             -22.903324              -43.099445   \n",
       "1             -22.896324              -43.124405   \n",
       "\n",
       "                               EnderecoDestinoViagem  \\\n",
       "0  Avenida 7 de Setembro, 314 - Niterói - Niterói...   \n",
       "1  R. Quinze de Novembro, 8 - Centro - Niterói - ...   \n",
       "\n",
       "   DistanciaPercorridaEmMilhas  ValorPago Moeda AnoViagem MesViagem DiaViagem  \\\n",
       "0                     5.166004      11.86   BRL      2022        12        24   \n",
       "1                     3.621031      11.25   BRL      2022        12        24   \n",
       "\n",
       "  NumDiaViagem DiaDaSemana  \n",
       "0            6  6 - Sábado  \n",
       "1            6  6 - Sábado  "
      ]
     },
     "execution_count": 19,
     "metadata": {},
     "output_type": "execute_result"
    }
   ],
   "source": [
    "dfDadosViagens.head(2)"
   ]
  },
  {
   "cell_type": "markdown",
   "id": "b7a46987",
   "metadata": {},
   "source": [
    "### 1.8 - Eliminar Colunas que Não Serão Usadas \n",
    "\n",
    "* Listar Todas as Colunas do DataFrame"
   ]
  },
  {
   "cell_type": "code",
   "execution_count": 20,
   "id": "a2538e06",
   "metadata": {},
   "outputs": [
    {
     "name": "stdout",
     "output_type": "stream",
     "text": [
      "<class 'pandas.core.frame.DataFrame'>\n",
      "Int64Index: 556 entries, 0 to 561\n",
      "Data columns (total 20 columns):\n",
      " #   Column                       Non-Null Count  Dtype         \n",
      "---  ------                       --------------  -----         \n",
      " 0   NomeCidade                   556 non-null    object        \n",
      " 1   NomeProduto                  556 non-null    object        \n",
      " 2   StatusViagem                 556 non-null    object        \n",
      " 3   DthSolicitacaoViagem         556 non-null    datetime64[ns]\n",
      " 4   DthInicioViagem              556 non-null    datetime64[ns]\n",
      " 5   LatitudeInicioViagem         538 non-null    object        \n",
      " 6   LongitudeInicioViagem        538 non-null    float64       \n",
      " 7   EnderecoInicioViagem         538 non-null    object        \n",
      " 8   DthFimViagem                 556 non-null    datetime64[ns]\n",
      " 9   LatitudeDestinoViagem        538 non-null    float64       \n",
      " 10  LongitudeDestinoViagem       538 non-null    float64       \n",
      " 11  EnderecoDestinoViagem        539 non-null    object        \n",
      " 12  DistanciaPercorridaEmMilhas  556 non-null    float64       \n",
      " 13  ValorPago                    556 non-null    float64       \n",
      " 14  Moeda                        556 non-null    object        \n",
      " 15  AnoViagem                    556 non-null    object        \n",
      " 16  MesViagem                    556 non-null    object        \n",
      " 17  DiaViagem                    556 non-null    object        \n",
      " 18  NumDiaViagem                 556 non-null    object        \n",
      " 19  DiaDaSemana                  556 non-null    object        \n",
      "dtypes: datetime64[ns](3), float64(5), object(12)\n",
      "memory usage: 107.4+ KB\n"
     ]
    }
   ],
   "source": [
    "dfDadosViagens.info()"
   ]
  },
  {
   "cell_type": "markdown",
   "id": "a6bbf4a7",
   "metadata": {},
   "source": [
    "* Apagar as Colunas do DataFrame que Não Serão Usadas"
   ]
  },
  {
   "cell_type": "code",
   "execution_count": 21,
   "id": "9560eed8",
   "metadata": {},
   "outputs": [],
   "source": [
    "dfDadosViagens.drop(columns=['LatitudeInicioViagem'\n",
    "                             , 'LongitudeInicioViagem'\n",
    "                             , 'EnderecoInicioViagem'\n",
    "                             , 'LatitudeDestinoViagem'\n",
    "                             , 'LongitudeDestinoViagem'\n",
    "                             , 'EnderecoDestinoViagem'\n",
    "                             , 'Moeda'], inplace=True)"
   ]
  },
  {
   "cell_type": "markdown",
   "id": "7e644a00",
   "metadata": {},
   "source": [
    "* Listar Novamente Todas as Colunas do DataFrame"
   ]
  },
  {
   "cell_type": "code",
   "execution_count": 22,
   "id": "b10e4c09",
   "metadata": {},
   "outputs": [
    {
     "name": "stdout",
     "output_type": "stream",
     "text": [
      "<class 'pandas.core.frame.DataFrame'>\n",
      "Int64Index: 556 entries, 0 to 561\n",
      "Data columns (total 13 columns):\n",
      " #   Column                       Non-Null Count  Dtype         \n",
      "---  ------                       --------------  -----         \n",
      " 0   NomeCidade                   556 non-null    object        \n",
      " 1   NomeProduto                  556 non-null    object        \n",
      " 2   StatusViagem                 556 non-null    object        \n",
      " 3   DthSolicitacaoViagem         556 non-null    datetime64[ns]\n",
      " 4   DthInicioViagem              556 non-null    datetime64[ns]\n",
      " 5   DthFimViagem                 556 non-null    datetime64[ns]\n",
      " 6   DistanciaPercorridaEmMilhas  556 non-null    float64       \n",
      " 7   ValorPago                    556 non-null    float64       \n",
      " 8   AnoViagem                    556 non-null    object        \n",
      " 9   MesViagem                    556 non-null    object        \n",
      " 10  DiaViagem                    556 non-null    object        \n",
      " 11  NumDiaViagem                 556 non-null    object        \n",
      " 12  DiaDaSemana                  556 non-null    object        \n",
      "dtypes: datetime64[ns](3), float64(2), object(8)\n",
      "memory usage: 77.0+ KB\n"
     ]
    }
   ],
   "source": [
    "dfDadosViagens.info()"
   ]
  },
  {
   "cell_type": "markdown",
   "id": "32fb7ef8",
   "metadata": {},
   "source": [
    "### 1.9 - Encontrar perguntas e respostas"
   ]
  },
  {
   "cell_type": "markdown",
   "id": "f3afb39a",
   "metadata": {},
   "source": [
    "### ----------------------------------------------------------------------------------------------------------------------------\n",
    "# ANALISANDO OS DADOS DO UBER\n",
    "### ----------------------------------------------------------------------------------------------------------------------------"
   ]
  },
  {
   "cell_type": "markdown",
   "id": "65a21ddc",
   "metadata": {},
   "source": [
    "### 1.1 - Viagens (Total e Média) por tipo de produto"
   ]
  },
  {
   "cell_type": "code",
   "execution_count": 23,
   "id": "fb0ac802",
   "metadata": {},
   "outputs": [
    {
     "data": {
      "text/html": [
       "<div>\n",
       "<style scoped>\n",
       "    .dataframe tbody tr th:only-of-type {\n",
       "        vertical-align: middle;\n",
       "    }\n",
       "\n",
       "    .dataframe tbody tr th {\n",
       "        vertical-align: top;\n",
       "    }\n",
       "\n",
       "    .dataframe thead th {\n",
       "        text-align: right;\n",
       "    }\n",
       "</style>\n",
       "<table border=\"1\" class=\"dataframe\">\n",
       "  <thead>\n",
       "    <tr style=\"text-align: right;\">\n",
       "      <th></th>\n",
       "      <th>NomeProduto</th>\n",
       "      <th>QtdViagem</th>\n",
       "      <th>MediaUtilizacao</th>\n",
       "    </tr>\n",
       "  </thead>\n",
       "  <tbody>\n",
       "    <tr>\n",
       "      <th>3</th>\n",
       "      <td>Uber X</td>\n",
       "      <td>514</td>\n",
       "      <td>92.446</td>\n",
       "    </tr>\n",
       "    <tr>\n",
       "      <th>2</th>\n",
       "      <td>Uber VIP</td>\n",
       "      <td>34</td>\n",
       "      <td>6.115</td>\n",
       "    </tr>\n",
       "    <tr>\n",
       "      <th>0</th>\n",
       "      <td>Uber Black</td>\n",
       "      <td>7</td>\n",
       "      <td>1.259</td>\n",
       "    </tr>\n",
       "    <tr>\n",
       "      <th>1</th>\n",
       "      <td>Uber Comfort</td>\n",
       "      <td>1</td>\n",
       "      <td>0.180</td>\n",
       "    </tr>\n",
       "  </tbody>\n",
       "</table>\n",
       "</div>"
      ],
      "text/plain": [
       "    NomeProduto  QtdViagem  MediaUtilizacao\n",
       "3        Uber X        514           92.446\n",
       "2      Uber VIP         34            6.115\n",
       "0    Uber Black          7            1.259\n",
       "1  Uber Comfort          1            0.180"
      ]
     },
     "execution_count": 23,
     "metadata": {},
     "output_type": "execute_result"
    }
   ],
   "source": [
    "dfViagensProduto = dfDadosViagens.groupby(['NomeProduto'], as_index=False) \\\n",
    "                .agg(QtdViagem=('NomeProduto','count')) \\\n",
    "                .sort_values(by='QtdViagem', ascending=False)\n",
    "\n",
    "\n",
    "dfViagensProduto['MediaUtilizacao'] = ((dfViagensProduto['QtdViagem'] / dfViagensProduto['QtdViagem'].sum()).round(5)) * 100\n",
    "\n",
    "dfViagensProduto\n",
    "\n",
    "#.agg(QtdViagem2=('QtdViagem','count'))"
   ]
  },
  {
   "cell_type": "markdown",
   "id": "e74c4c60",
   "metadata": {},
   "source": [
    "### 1.2 - De quais cidades as viagens foram solicitadas"
   ]
  },
  {
   "cell_type": "code",
   "execution_count": 24,
   "id": "335c3a0e",
   "metadata": {},
   "outputs": [
    {
     "data": {
      "text/html": [
       "<div>\n",
       "<style scoped>\n",
       "    .dataframe tbody tr th:only-of-type {\n",
       "        vertical-align: middle;\n",
       "    }\n",
       "\n",
       "    .dataframe tbody tr th {\n",
       "        vertical-align: top;\n",
       "    }\n",
       "\n",
       "    .dataframe thead th {\n",
       "        text-align: right;\n",
       "    }\n",
       "</style>\n",
       "<table border=\"1\" class=\"dataframe\">\n",
       "  <thead>\n",
       "    <tr style=\"text-align: right;\">\n",
       "      <th></th>\n",
       "      <th>NomeCidade</th>\n",
       "      <th>QtdViagem</th>\n",
       "    </tr>\n",
       "  </thead>\n",
       "  <tbody>\n",
       "    <tr>\n",
       "      <th>0</th>\n",
       "      <td>Rio de Janeiro</td>\n",
       "      <td>545</td>\n",
       "    </tr>\n",
       "    <tr>\n",
       "      <th>2</th>\n",
       "      <td>Sao Paulo</td>\n",
       "      <td>8</td>\n",
       "    </tr>\n",
       "    <tr>\n",
       "      <th>1</th>\n",
       "      <td>Sao Luis</td>\n",
       "      <td>3</td>\n",
       "    </tr>\n",
       "  </tbody>\n",
       "</table>\n",
       "</div>"
      ],
      "text/plain": [
       "       NomeCidade  QtdViagem\n",
       "0  Rio de Janeiro        545\n",
       "2       Sao Paulo          8\n",
       "1        Sao Luis          3"
      ]
     },
     "execution_count": 24,
     "metadata": {},
     "output_type": "execute_result"
    }
   ],
   "source": [
    "dfDadosViagens.groupby(['NomeCidade'], as_index=False) \\\n",
    "                .agg(QtdViagem=('NomeCidade','count')) \\\n",
    "                .sort_values(by='QtdViagem', ascending=False)"
   ]
  },
  {
   "cell_type": "markdown",
   "id": "2324cfdb",
   "metadata": {},
   "source": [
    "### 1.3 - Tempo médio de espera entre a requisição e o inicio da viagem "
   ]
  },
  {
   "cell_type": "code",
   "execution_count": 25,
   "id": "159b3f41",
   "metadata": {},
   "outputs": [
    {
     "data": {
      "text/html": [
       "<div>\n",
       "<style scoped>\n",
       "    .dataframe tbody tr th:only-of-type {\n",
       "        vertical-align: middle;\n",
       "    }\n",
       "\n",
       "    .dataframe tbody tr th {\n",
       "        vertical-align: top;\n",
       "    }\n",
       "\n",
       "    .dataframe thead th {\n",
       "        text-align: right;\n",
       "    }\n",
       "</style>\n",
       "<table border=\"1\" class=\"dataframe\">\n",
       "  <thead>\n",
       "    <tr style=\"text-align: right;\">\n",
       "      <th></th>\n",
       "      <th>TMP_MedioEsperaViagem</th>\n",
       "    </tr>\n",
       "    <tr>\n",
       "      <th>AnoViagem</th>\n",
       "      <th></th>\n",
       "    </tr>\n",
       "  </thead>\n",
       "  <tbody>\n",
       "    <tr>\n",
       "      <th>2016</th>\n",
       "      <td>5</td>\n",
       "    </tr>\n",
       "    <tr>\n",
       "      <th>2017</th>\n",
       "      <td>4</td>\n",
       "    </tr>\n",
       "    <tr>\n",
       "      <th>2018</th>\n",
       "      <td>5</td>\n",
       "    </tr>\n",
       "    <tr>\n",
       "      <th>2019</th>\n",
       "      <td>4</td>\n",
       "    </tr>\n",
       "    <tr>\n",
       "      <th>2020</th>\n",
       "      <td>5</td>\n",
       "    </tr>\n",
       "    <tr>\n",
       "      <th>2021</th>\n",
       "      <td>4</td>\n",
       "    </tr>\n",
       "    <tr>\n",
       "      <th>2022</th>\n",
       "      <td>4</td>\n",
       "    </tr>\n",
       "  </tbody>\n",
       "</table>\n",
       "</div>"
      ],
      "text/plain": [
       "           TMP_MedioEsperaViagem\n",
       "AnoViagem                       \n",
       "2016                           5\n",
       "2017                           4\n",
       "2018                           5\n",
       "2019                           4\n",
       "2020                           5\n",
       "2021                           4\n",
       "2022                           4"
      ]
     },
     "execution_count": 25,
     "metadata": {},
     "output_type": "execute_result"
    }
   ],
   "source": [
    "dfDadosViagens['TMP_EsperaSolic_Inicio_Viagem'] = (dfDadosViagens.DthInicioViagem-dfDadosViagens.DthSolicitacaoViagem).astype('timedelta64[m]').astype('int')\n",
    "\n",
    "dfDadosViagens[dfDadosViagens['StatusViagem']=='Concluída'] \\\n",
    "                .groupby(['AnoViagem']) \\\n",
    "                .agg(TMP_MedioEsperaViagem=('TMP_EsperaSolic_Inicio_Viagem','mean')) \\\n",
    "                .astype('int')"
   ]
  },
  {
   "cell_type": "markdown",
   "id": "3b095edc",
   "metadata": {},
   "source": [
    "### 1.4 - Viagens concluídas e canceladas"
   ]
  },
  {
   "cell_type": "code",
   "execution_count": 26,
   "id": "87409a40",
   "metadata": {},
   "outputs": [
    {
     "data": {
      "text/html": [
       "<div>\n",
       "<style scoped>\n",
       "    .dataframe tbody tr th:only-of-type {\n",
       "        vertical-align: middle;\n",
       "    }\n",
       "\n",
       "    .dataframe tbody tr th {\n",
       "        vertical-align: top;\n",
       "    }\n",
       "\n",
       "    .dataframe thead th {\n",
       "        text-align: right;\n",
       "    }\n",
       "</style>\n",
       "<table border=\"1\" class=\"dataframe\">\n",
       "  <thead>\n",
       "    <tr style=\"text-align: right;\">\n",
       "      <th></th>\n",
       "      <th>TotalViagem</th>\n",
       "    </tr>\n",
       "    <tr>\n",
       "      <th>StatusViagem</th>\n",
       "      <th></th>\n",
       "    </tr>\n",
       "  </thead>\n",
       "  <tbody>\n",
       "    <tr>\n",
       "      <th>Cancelada</th>\n",
       "      <td>107</td>\n",
       "    </tr>\n",
       "    <tr>\n",
       "      <th>Concluída</th>\n",
       "      <td>449</td>\n",
       "    </tr>\n",
       "  </tbody>\n",
       "</table>\n",
       "</div>"
      ],
      "text/plain": [
       "              TotalViagem\n",
       "StatusViagem             \n",
       "Cancelada             107\n",
       "Concluída             449"
      ]
     },
     "execution_count": 26,
     "metadata": {},
     "output_type": "execute_result"
    }
   ],
   "source": [
    "dfDadosViagens.groupby(['StatusViagem']).agg(TotalViagem=('StatusViagem', 'count'))"
   ]
  },
  {
   "cell_type": "markdown",
   "id": "2d5838b3",
   "metadata": {},
   "source": [
    "### 1.5 - Valor pago (por ano, mês) e média mensal de gastos"
   ]
  },
  {
   "cell_type": "code",
   "execution_count": 27,
   "id": "99a66121",
   "metadata": {},
   "outputs": [],
   "source": [
    "dfGastos = dfDadosViagens[dfDadosViagens['StatusViagem']=='Concluída'] \\\n",
    "            .groupby('AnoViagem', as_index=False) \\\n",
    "            .agg(VlrGastoComViagem=('ValorPago','sum'),\n",
    "                VlrMedioComViagem=('ValorPago','mean'))"
   ]
  },
  {
   "cell_type": "code",
   "execution_count": 28,
   "id": "2f953b06",
   "metadata": {},
   "outputs": [
    {
     "data": {
      "text/html": [
       "<div>\n",
       "<style scoped>\n",
       "    .dataframe tbody tr th:only-of-type {\n",
       "        vertical-align: middle;\n",
       "    }\n",
       "\n",
       "    .dataframe tbody tr th {\n",
       "        vertical-align: top;\n",
       "    }\n",
       "\n",
       "    .dataframe thead th {\n",
       "        text-align: right;\n",
       "    }\n",
       "</style>\n",
       "<table border=\"1\" class=\"dataframe\">\n",
       "  <thead>\n",
       "    <tr style=\"text-align: right;\">\n",
       "      <th></th>\n",
       "      <th>AnoViagem</th>\n",
       "      <th>VlrGastoComViagem</th>\n",
       "    </tr>\n",
       "  </thead>\n",
       "  <tbody>\n",
       "    <tr>\n",
       "      <th>0</th>\n",
       "      <td>2016</td>\n",
       "      <td>267.14</td>\n",
       "    </tr>\n",
       "    <tr>\n",
       "      <th>1</th>\n",
       "      <td>2017</td>\n",
       "      <td>585.19</td>\n",
       "    </tr>\n",
       "    <tr>\n",
       "      <th>2</th>\n",
       "      <td>2018</td>\n",
       "      <td>1231.39</td>\n",
       "    </tr>\n",
       "    <tr>\n",
       "      <th>3</th>\n",
       "      <td>2019</td>\n",
       "      <td>909.16</td>\n",
       "    </tr>\n",
       "    <tr>\n",
       "      <th>4</th>\n",
       "      <td>2020</td>\n",
       "      <td>666.87</td>\n",
       "    </tr>\n",
       "    <tr>\n",
       "      <th>5</th>\n",
       "      <td>2021</td>\n",
       "      <td>2238.71</td>\n",
       "    </tr>\n",
       "    <tr>\n",
       "      <th>6</th>\n",
       "      <td>2022</td>\n",
       "      <td>2970.79</td>\n",
       "    </tr>\n",
       "  </tbody>\n",
       "</table>\n",
       "</div>"
      ],
      "text/plain": [
       "  AnoViagem  VlrGastoComViagem\n",
       "0      2016             267.14\n",
       "1      2017             585.19\n",
       "2      2018            1231.39\n",
       "3      2019             909.16\n",
       "4      2020             666.87\n",
       "5      2021            2238.71\n",
       "6      2022            2970.79"
      ]
     },
     "execution_count": 28,
     "metadata": {},
     "output_type": "execute_result"
    }
   ],
   "source": [
    "dfGastosAnual = dfGastos[['AnoViagem','VlrGastoComViagem']]\n",
    "\n",
    "dfGastosAnual"
   ]
  },
  {
   "cell_type": "code",
   "execution_count": 29,
   "id": "ed9af61c",
   "metadata": {},
   "outputs": [
    {
     "data": {
      "image/png": "[encoded data removed]",
      "text/plain": [
       "<Figure size 936x432 with 1 Axes>"
      ]
     },
     "metadata": {
      "needs_background": "light"
     },
     "output_type": "display_data"
    }
   ],
   "source": [
    "\n",
    "eixo_x='AnoViagem'\n",
    "eixo_y='VlrGastoComViagem'\n",
    "baseDados = dfGastosAnual\n",
    "tituloGrafico = 'Valor Gasto Anual (R$)'\n",
    "descricaoEixoX = 'Ano da Viagem'\n",
    "descricaoEixoY = 'Valor por KM'\n",
    "variacao = 40\n",
    "\n",
    "geraGrafico(baseDados, eixo_x, eixo_y, tituloGrafico, descricaoEixoX, descricaoEixoY,variacao)\n"
   ]
  },
  {
   "cell_type": "code",
   "execution_count": 30,
   "id": "2d8383df",
   "metadata": {},
   "outputs": [
    {
     "data": {
      "text/html": [
       "<div>\n",
       "<style scoped>\n",
       "    .dataframe tbody tr th:only-of-type {\n",
       "        vertical-align: middle;\n",
       "    }\n",
       "\n",
       "    .dataframe tbody tr th {\n",
       "        vertical-align: top;\n",
       "    }\n",
       "\n",
       "    .dataframe thead th {\n",
       "        text-align: right;\n",
       "    }\n",
       "</style>\n",
       "<table border=\"1\" class=\"dataframe\">\n",
       "  <thead>\n",
       "    <tr style=\"text-align: right;\">\n",
       "      <th></th>\n",
       "      <th>AnoViagem</th>\n",
       "      <th>VlrMedioComViagem</th>\n",
       "    </tr>\n",
       "  </thead>\n",
       "  <tbody>\n",
       "    <tr>\n",
       "      <th>0</th>\n",
       "      <td>2016</td>\n",
       "      <td>16.696250</td>\n",
       "    </tr>\n",
       "    <tr>\n",
       "      <th>1</th>\n",
       "      <td>2017</td>\n",
       "      <td>20.899643</td>\n",
       "    </tr>\n",
       "    <tr>\n",
       "      <th>2</th>\n",
       "      <td>2018</td>\n",
       "      <td>18.108676</td>\n",
       "    </tr>\n",
       "    <tr>\n",
       "      <th>3</th>\n",
       "      <td>2019</td>\n",
       "      <td>13.176232</td>\n",
       "    </tr>\n",
       "    <tr>\n",
       "      <th>4</th>\n",
       "      <td>2020</td>\n",
       "      <td>27.786250</td>\n",
       "    </tr>\n",
       "    <tr>\n",
       "      <th>5</th>\n",
       "      <td>2021</td>\n",
       "      <td>21.119906</td>\n",
       "    </tr>\n",
       "    <tr>\n",
       "      <th>6</th>\n",
       "      <td>2022</td>\n",
       "      <td>21.527464</td>\n",
       "    </tr>\n",
       "  </tbody>\n",
       "</table>\n",
       "</div>"
      ],
      "text/plain": [
       "  AnoViagem  VlrMedioComViagem\n",
       "0      2016          16.696250\n",
       "1      2017          20.899643\n",
       "2      2018          18.108676\n",
       "3      2019          13.176232\n",
       "4      2020          27.786250\n",
       "5      2021          21.119906\n",
       "6      2022          21.527464"
      ]
     },
     "execution_count": 30,
     "metadata": {},
     "output_type": "execute_result"
    }
   ],
   "source": [
    "dfMediaGastosMensal = dfGastos[['AnoViagem','VlrMedioComViagem']]\n",
    "\n",
    "dfMediaGastosMensal"
   ]
  },
  {
   "cell_type": "code",
   "execution_count": 31,
   "id": "443abdb1",
   "metadata": {},
   "outputs": [
    {
     "data": {
      "image/png": "[encoded data removed]",
      "text/plain": [
       "<Figure size 936x432 with 1 Axes>"
      ]
     },
     "metadata": {
      "needs_background": "light"
     },
     "output_type": "display_data"
    }
   ],
   "source": [
    "\n",
    "eixo_x='AnoViagem'\n",
    "eixo_y='VlrMedioComViagem'\n",
    "baseDados = dfMediaGastosMensal\n",
    "tituloGrafico = 'Média de Gastos (R$)'\n",
    "descricaoEixoX = 'Ano da Viagem'\n",
    "descricaoEixoY = 'Valor por KM'\n",
    "variacao = 0.5\n",
    "\n",
    "geraGrafico(baseDados, eixo_x, eixo_y, tituloGrafico, descricaoEixoX, descricaoEixoY,variacao)\n",
    "\n"
   ]
  },
  {
   "cell_type": "code",
   "execution_count": 32,
   "id": "c364d6bb",
   "metadata": {},
   "outputs": [
    {
     "data": {
      "text/html": [
       "<div>\n",
       "<style scoped>\n",
       "    .dataframe tbody tr th:only-of-type {\n",
       "        vertical-align: middle;\n",
       "    }\n",
       "\n",
       "    .dataframe tbody tr th {\n",
       "        vertical-align: top;\n",
       "    }\n",
       "\n",
       "    .dataframe thead th {\n",
       "        text-align: right;\n",
       "    }\n",
       "</style>\n",
       "<table border=\"1\" class=\"dataframe\">\n",
       "  <thead>\n",
       "    <tr style=\"text-align: right;\">\n",
       "      <th></th>\n",
       "      <th>AnoViagem</th>\n",
       "      <th>MesViagem</th>\n",
       "      <th>NumTotalViagem</th>\n",
       "      <th>VlrGastoComViagem</th>\n",
       "      <th>VlrMedioComViagem</th>\n",
       "    </tr>\n",
       "  </thead>\n",
       "  <tbody>\n",
       "    <tr>\n",
       "      <th>0</th>\n",
       "      <td>2016</td>\n",
       "      <td>04</td>\n",
       "      <td>3</td>\n",
       "      <td>87.38</td>\n",
       "      <td>29.126667</td>\n",
       "    </tr>\n",
       "    <tr>\n",
       "      <th>1</th>\n",
       "      <td>2016</td>\n",
       "      <td>05</td>\n",
       "      <td>4</td>\n",
       "      <td>60.16</td>\n",
       "      <td>15.040000</td>\n",
       "    </tr>\n",
       "  </tbody>\n",
       "</table>\n",
       "</div>"
      ],
      "text/plain": [
       "  AnoViagem MesViagem  NumTotalViagem  VlrGastoComViagem  VlrMedioComViagem\n",
       "0      2016        04               3              87.38          29.126667\n",
       "1      2016        05               4              60.16          15.040000"
      ]
     },
     "execution_count": 32,
     "metadata": {},
     "output_type": "execute_result"
    }
   ],
   "source": [
    "dfDadosViagens[dfDadosViagens['StatusViagem']=='Concluída'] \\\n",
    "            .groupby(['AnoViagem','MesViagem'], as_index=False) \\\n",
    "            .agg(NumTotalViagem=('ValorPago','count'),\n",
    "                VlrGastoComViagem=('ValorPago','sum'),\n",
    "                VlrMedioComViagem=('ValorPago','mean')).head(2)"
   ]
  },
  {
   "cell_type": "markdown",
   "id": "563408da",
   "metadata": {},
   "source": [
    "### 1.6 - Qual o valor pago por KM"
   ]
  },
  {
   "cell_type": "code",
   "execution_count": 33,
   "id": "68cad47d",
   "metadata": {},
   "outputs": [],
   "source": [
    "dfGastosPorKM = dfDadosViagens.groupby('AnoViagem',as_index=False).agg(QtdKMPercorrido=('DistanciaPercorridaEmMilhas','sum')\n",
    "                                       ,VlrGastoPorAno=('ValorPago','sum'))\n",
    "\n",
    "\n",
    "dfGastosPorKM['ValorKM'] = round(dfGastosPorKM['VlrGastoPorAno']/dfGastosPorKM['QtdKMPercorrido'],2)\n",
    "\n",
    "dfGastosPorKM.drop(columns=['QtdKMPercorrido'\n",
    "                             , 'VlrGastoPorAno'], inplace=True)"
   ]
  },
  {
   "cell_type": "code",
   "execution_count": 34,
   "id": "2165e2df",
   "metadata": {},
   "outputs": [
    {
     "data": {
      "image/png": "[encoded data removed]",
      "text/plain": [
       "<Figure size 936x432 with 1 Axes>"
      ]
     },
     "metadata": {
      "needs_background": "light"
     },
     "output_type": "display_data"
    }
   ],
   "source": [
    "eixo_x='AnoViagem'\n",
    "eixo_y='ValorKM'\n",
    "baseDados = dfGastosPorKM\n",
    "tituloGrafico = 'Valor Pago por KM Rodado (R$)'\n",
    "descricaoEixoX = 'Ano da Viagem'\n",
    "descricaoEixoY = 'Valor por KM'\n",
    "variacao = 0.1\n",
    "\n",
    "geraGrafico(baseDados, eixo_x, eixo_y, tituloGrafico, descricaoEixoX, descricaoEixoY,variacao)\n",
    "\n"
   ]
  },
  {
   "cell_type": "markdown",
   "id": "406e2b5e",
   "metadata": {},
   "source": [
    "### 1.7 - Qual dia da semana tem a maior utilização"
   ]
  },
  {
   "cell_type": "code",
   "execution_count": 35,
   "id": "3d8542f3",
   "metadata": {},
   "outputs": [
    {
     "data": {
      "text/html": [
       "<div>\n",
       "<style scoped>\n",
       "    .dataframe tbody tr th:only-of-type {\n",
       "        vertical-align: middle;\n",
       "    }\n",
       "\n",
       "    .dataframe tbody tr th {\n",
       "        vertical-align: top;\n",
       "    }\n",
       "\n",
       "    .dataframe thead th {\n",
       "        text-align: right;\n",
       "    }\n",
       "</style>\n",
       "<table border=\"1\" class=\"dataframe\">\n",
       "  <thead>\n",
       "    <tr style=\"text-align: right;\">\n",
       "      <th>DiaDaSemana</th>\n",
       "      <th>StatusViagem</th>\n",
       "      <th>0 - Domingo</th>\n",
       "      <th>1 - Segunda-Feira</th>\n",
       "      <th>2 - Terça-Feira</th>\n",
       "      <th>3 - Quarta-Feira</th>\n",
       "      <th>4 - Quinta-Feira</th>\n",
       "      <th>5 - Sexta-Feira</th>\n",
       "      <th>6 - Sábado</th>\n",
       "    </tr>\n",
       "  </thead>\n",
       "  <tbody>\n",
       "    <tr>\n",
       "      <th>0</th>\n",
       "      <td>Cancelada</td>\n",
       "      <td>16</td>\n",
       "      <td>13</td>\n",
       "      <td>11</td>\n",
       "      <td>16</td>\n",
       "      <td>15</td>\n",
       "      <td>13</td>\n",
       "      <td>23</td>\n",
       "    </tr>\n",
       "    <tr>\n",
       "      <th>1</th>\n",
       "      <td>Concluída</td>\n",
       "      <td>87</td>\n",
       "      <td>42</td>\n",
       "      <td>48</td>\n",
       "      <td>49</td>\n",
       "      <td>49</td>\n",
       "      <td>76</td>\n",
       "      <td>98</td>\n",
       "    </tr>\n",
       "  </tbody>\n",
       "</table>\n",
       "</div>"
      ],
      "text/plain": [
       "DiaDaSemana StatusViagem  0 - Domingo  1 - Segunda-Feira  2 - Terça-Feira  \\\n",
       "0              Cancelada           16                 13               11   \n",
       "1              Concluída           87                 42               48   \n",
       "\n",
       "DiaDaSemana  3 - Quarta-Feira  4 - Quinta-Feira  5 - Sexta-Feira  6 - Sábado  \n",
       "0                          16                15               13          23  \n",
       "1                          49                49               76          98  "
      ]
     },
     "execution_count": 35,
     "metadata": {},
     "output_type": "execute_result"
    }
   ],
   "source": [
    "dfSolicitacaoSemanal = dfDadosViagens.groupby(['DiaDaSemana','StatusViagem'],as_index=False) \\\n",
    "                    .agg(TotalSolicitacao=('DiaDaSemana','count')) \\\n",
    "                    .sort_values(by=['DiaDaSemana'], ascending=True)\n",
    "\n",
    "dfSolicitacaoSemanal.pivot(index=['StatusViagem']\n",
    "                        , columns='DiaDaSemana'\n",
    "                        , values=\"TotalSolicitacao\").fillna(0).reset_index()"
   ]
  },
  {
   "cell_type": "markdown",
   "id": "1c9917bb",
   "metadata": {},
   "source": [
    "### 1.8 - Quantas solicitações viraram viagens?"
   ]
  },
  {
   "cell_type": "code",
   "execution_count": 36,
   "id": "e9483759",
   "metadata": {},
   "outputs": [],
   "source": [
    "dfSolicitacaoAtendidaCancelada = dfDadosViagens.groupby(['StatusViagem']\n",
    "                                                        ,as_index=False) \\\n",
    "                                                        .agg(QtdSolicitacao=('StatusViagem','count'))\n",
    "\n",
    "dfSolicitacaoAtendidaCancelada['Perc'] = round((dfSolicitacaoAtendidaCancelada['QtdSolicitacao'] \n",
    "                                                / dfSolicitacaoAtendidaCancelada['QtdSolicitacao'].sum()) * 100,3)\n",
    "\n",
    "dfSolicitacaoAtendidaCancelada.drop(columns=['QtdSolicitacao'], inplace=True)"
   ]
  },
  {
   "cell_type": "code",
   "execution_count": 37,
   "id": "b6651ce8",
   "metadata": {},
   "outputs": [
    {
     "data": {
      "image/png": "[encoded data removed]",
      "text/plain": [
       "<Figure size 936x432 with 1 Axes>"
      ]
     },
     "metadata": {
      "needs_background": "light"
     },
     "output_type": "display_data"
    }
   ],
   "source": [
    "\n",
    "eixo_x='StatusViagem'\n",
    "eixo_y='Perc'\n",
    "baseDados = dfSolicitacaoAtendidaCancelada\n",
    "tituloGrafico = 'Solicitação de Viagem que virou Viagem (%)'\n",
    "descricaoEixoX = 'Status Viagem'\n",
    "descricaoEixoY = 'Percentual'\n",
    "variacao = 2\n",
    "\n",
    "geraGrafico(baseDados, eixo_x, eixo_y, tituloGrafico, descricaoEixoX, descricaoEixoY,variacao)\n",
    "\n"
   ]
  }
 ],
 "metadata": {
  "kernelspec": {
   "display_name": "Python 3 (ipykernel)",
   "language": "python",
   "name": "python3"
  },
  "language_info": {
   "codemirror_mode": {
    "name": "ipython",
    "version": 3
   },
   "file_extension": ".py",
   "mimetype": "text/x-python",
   "name": "python",
   "nbconvert_exporter": "python",
   "pygments_lexer": "ipython3",
   "version": "3.9.12"
  }
 },
 "nbformat": 4,
 "nbformat_minor": 5
}
