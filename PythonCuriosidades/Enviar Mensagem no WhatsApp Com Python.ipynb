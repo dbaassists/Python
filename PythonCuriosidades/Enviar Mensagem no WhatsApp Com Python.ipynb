{
 "cells": [
  {
   "cell_type": "code",
   "execution_count": 1,
   "id": "1e1ea0ae",
   "metadata": {},
   "outputs": [
    {
     "name": "stdout",
     "output_type": "stream",
     "text": [
      "Collecting pywhatkit\n",
      "  Downloading pywhatkit-5.4-py3-none-any.whl (15 kB)\n",
      "Requirement already satisfied: Pillow in c:\\programdata\\anaconda3\\lib\\site-packages (from pywhatkit) (9.0.1)\n",
      "Collecting pyautogui\n",
      "  Downloading PyAutoGUI-0.9.53.tar.gz (59 kB)\n",
      "Collecting wikipedia\n",
      "  Downloading wikipedia-1.4.0.tar.gz (27 kB)\n",
      "Requirement already satisfied: requests in c:\\programdata\\anaconda3\\lib\\site-packages (from pywhatkit) (2.27.1)\n",
      "Requirement already satisfied: Flask in c:\\programdata\\anaconda3\\lib\\site-packages (from pywhatkit) (1.1.2)\n",
      "Requirement already satisfied: Jinja2>=2.10.1 in c:\\programdata\\anaconda3\\lib\\site-packages (from Flask->pywhatkit) (2.11.3)\n",
      "Requirement already satisfied: Werkzeug>=0.15 in c:\\programdata\\anaconda3\\lib\\site-packages (from Flask->pywhatkit) (2.0.3)\n",
      "Requirement already satisfied: click>=5.1 in c:\\programdata\\anaconda3\\lib\\site-packages (from Flask->pywhatkit) (8.0.4)\n",
      "Requirement already satisfied: itsdangerous>=0.24 in c:\\programdata\\anaconda3\\lib\\site-packages (from Flask->pywhatkit) (2.0.1)\n",
      "Requirement already satisfied: colorama in c:\\programdata\\anaconda3\\lib\\site-packages (from click>=5.1->Flask->pywhatkit) (0.4.4)\n",
      "Requirement already satisfied: MarkupSafe>=0.23 in c:\\programdata\\anaconda3\\lib\\site-packages (from Jinja2>=2.10.1->Flask->pywhatkit) (2.0.1)\n",
      "Collecting pymsgbox\n",
      "  Downloading PyMsgBox-1.0.9.tar.gz (18 kB)\n",
      "  Installing build dependencies: started\n",
      "  Installing build dependencies: finished with status 'done'\n",
      "  Getting requirements to build wheel: started\n",
      "  Getting requirements to build wheel: finished with status 'done'\n",
      "    Preparing wheel metadata: started\n",
      "    Preparing wheel metadata: finished with status 'done'\n",
      "Collecting PyTweening>=1.0.1\n",
      "  Downloading pytweening-1.0.4.tar.gz (14 kB)\n",
      "Collecting pyscreeze>=0.1.21\n",
      "  Downloading PyScreeze-0.1.28.tar.gz (25 kB)\n",
      "  Installing build dependencies: started\n",
      "  Installing build dependencies: finished with status 'done'\n",
      "  Getting requirements to build wheel: started\n",
      "  Getting requirements to build wheel: finished with status 'done'\n",
      "    Preparing wheel metadata: started\n",
      "    Preparing wheel metadata: finished with status 'done'\n",
      "Collecting pygetwindow>=0.0.5\n",
      "  Downloading PyGetWindow-0.0.9.tar.gz (9.7 kB)\n",
      "Collecting mouseinfo\n",
      "  Downloading MouseInfo-0.1.3.tar.gz (10 kB)\n",
      "Collecting pyrect\n",
      "  Downloading PyRect-0.2.0.tar.gz (17 kB)\n",
      "Collecting pyperclip\n",
      "  Downloading pyperclip-1.8.2.tar.gz (20 kB)\n",
      "Requirement already satisfied: charset-normalizer~=2.0.0 in c:\\programdata\\anaconda3\\lib\\site-packages (from requests->pywhatkit) (2.0.4)\n",
      "Requirement already satisfied: urllib3<1.27,>=1.21.1 in c:\\programdata\\anaconda3\\lib\\site-packages (from requests->pywhatkit) (1.26.9)\n",
      "Requirement already satisfied: idna<4,>=2.5 in c:\\programdata\\anaconda3\\lib\\site-packages (from requests->pywhatkit) (3.3)\n",
      "Requirement already satisfied: certifi>=2017.4.17 in c:\\programdata\\anaconda3\\lib\\site-packages (from requests->pywhatkit) (2021.10.8)\n",
      "Requirement already satisfied: beautifulsoup4 in c:\\programdata\\anaconda3\\lib\\site-packages (from wikipedia->pywhatkit) (4.11.1)Note: you may need to restart the kernel to use updated packages.\n",
      "\n",
      "Requirement already satisfied: soupsieve>1.2 in c:\\programdata\\anaconda3\\lib\\site-packages (from beautifulsoup4->wikipedia->pywhatkit) (2.3.1)\n",
      "Building wheels for collected packages: pyautogui, pygetwindow, pyscreeze, PyTweening, mouseinfo, pymsgbox, pyperclip, pyrect, wikipedia\n",
      "  Building wheel for pyautogui (setup.py): started\n",
      "  Building wheel for pyautogui (setup.py): finished with status 'done'\n",
      "  Created wheel for pyautogui: filename=PyAutoGUI-0.9.53-py3-none-any.whl size=36614 sha256=86fae106faeab3c842bed6ced640ccea8de452cfac3fe86075ca2f0cf5eb28e5\n",
      "  Stored in directory: c:\\users\\lacer\\appdata\\local\\pip\\cache\\wheels\\d8\\97\\e4\\d2edca92a87d3b5fbfb527264750a17b4ba297b9a7cab6e67f\n",
      "  Building wheel for pygetwindow (setup.py): started\n",
      "  Building wheel for pygetwindow (setup.py): finished with status 'done'\n",
      "  Created wheel for pygetwindow: filename=PyGetWindow-0.0.9-py3-none-any.whl size=11081 sha256=6ba63aeeb6be8c2c8f5dfecffed4f9a598ca9b9cca73c58d1e624f97f048cf93\n",
      "  Stored in directory: c:\\users\\lacer\\appdata\\local\\pip\\cache\\wheels\\44\\ab\\20\\423c3a444793767e4e41f8377bc902f77bee212e68dcce85a5\n",
      "  Building wheel for pyscreeze (PEP 517): started\n",
      "  Building wheel for pyscreeze (PEP 517): finished with status 'done'\n",
      "  Created wheel for pyscreeze: filename=PyScreeze-0.1.28-py3-none-any.whl size=13027 sha256=99ea6cb8dd666ac9f8d5a9db866ce956fcb2ce3d4d5554a9656a63079065763f\n",
      "  Stored in directory: c:\\users\\lacer\\appdata\\local\\pip\\cache\\wheels\\a2\\5b\\86\\99f1d8fac5d92de0ccb3f0d4ad15e3f4278baf75a9b0f20b93\n",
      "  Building wheel for PyTweening (setup.py): started\n",
      "  Building wheel for PyTweening (setup.py): finished with status 'done'\n",
      "  Created wheel for PyTweening: filename=pytweening-1.0.4-py3-none-any.whl size=5854 sha256=92d16c9306ec494ed34553c9629c343a47322963838435e216f2321e855f4456\n",
      "  Stored in directory: c:\\users\\lacer\\appdata\\local\\pip\\cache\\wheels\\a4\\5d\\d2\\ba4c8f82163233ffaadcf383c1e34d7d92635d357d13e7b78d\n",
      "  Building wheel for mouseinfo (setup.py): started\n",
      "  Building wheel for mouseinfo (setup.py): finished with status 'done'\n",
      "  Created wheel for mouseinfo: filename=MouseInfo-0.1.3-py3-none-any.whl size=10906 sha256=ff8a2d080784674e374c6b57f09213db2d2f6c37fdd9d941d963d7d979b46539\n",
      "  Stored in directory: c:\\users\\lacer\\appdata\\local\\pip\\cache\\wheels\\61\\73\\b9\\6fb1131ab36e650206e3aa0ad7a68907b41b32ac2d4f75f543\n",
      "  Building wheel for pymsgbox (PEP 517): started\n",
      "  Building wheel for pymsgbox (PEP 517): finished with status 'done'\n",
      "  Created wheel for pymsgbox: filename=PyMsgBox-1.0.9-py3-none-any.whl size=7416 sha256=03aad747edef16094ccdb417061f56542fea72d4f3f94d89eba12b17fd58868b\n",
      "  Stored in directory: c:\\users\\lacer\\appdata\\local\\pip\\cache\\wheels\\7f\\13\\8c\\584c519464297d9637f9cd29fd1dcdf55e2a2cab225c76a2db\n",
      "  Building wheel for pyperclip (setup.py): started\n",
      "  Building wheel for pyperclip (setup.py): finished with status 'done'\n",
      "  Created wheel for pyperclip: filename=pyperclip-1.8.2-py3-none-any.whl size=11137 sha256=cdd78fe66eb1f5960927200ded3021bd53a8b851d5dec8cafe599ef5d2285059\n",
      "  Stored in directory: c:\\users\\lacer\\appdata\\local\\pip\\cache\\wheels\\0c\\09\\9e\\49e21a6840ef7955b06d47394afef0058f0378c0914e48b8b8\n",
      "  Building wheel for pyrect (setup.py): started\n",
      "  Building wheel for pyrect (setup.py): finished with status 'done'\n",
      "  Created wheel for pyrect: filename=PyRect-0.2.0-py2.py3-none-any.whl size=11196 sha256=aeca049e4d67a5db6927949664e4dd1110f692ba1ae679f4a4054b993c876567\n",
      "  Stored in directory: c:\\users\\lacer\\appdata\\local\\pip\\cache\\wheels\\25\\80\\fa\\27bb4a1c2e21f64ec71390489d52e57b7cc8afbe79bd595c5e\n",
      "  Building wheel for wikipedia (setup.py): started\n",
      "  Building wheel for wikipedia (setup.py): finished with status 'done'\n",
      "  Created wheel for wikipedia: filename=wikipedia-1.4.0-py3-none-any.whl size=11695 sha256=0f0eecac9037d84edb468bd3146102be588c747cd38bc96752fee1337f6c5e3b\n",
      "  Stored in directory: c:\\users\\lacer\\appdata\\local\\pip\\cache\\wheels\\c2\\46\\f4\\caa1bee71096d7b0cdca2f2a2af45cacf35c5760bee8f00948\n",
      "Successfully built pyautogui pygetwindow pyscreeze PyTweening mouseinfo pymsgbox pyperclip pyrect wikipedia\n",
      "Installing collected packages: pyrect, pyperclip, PyTweening, pyscreeze, pymsgbox, pygetwindow, mouseinfo, wikipedia, pyautogui, pywhatkit\n",
      "Successfully installed PyTweening-1.0.4 mouseinfo-0.1.3 pyautogui-0.9.53 pygetwindow-0.0.9 pymsgbox-1.0.9 pyperclip-1.8.2 pyrect-0.2.0 pyscreeze-0.1.28 pywhatkit-5.4 wikipedia-1.4.0\n"
     ]
    }
   ],
   "source": [
    "pip install pywhatkit"
   ]
  },
  {
   "cell_type": "code",
   "execution_count": 2,
   "id": "f21a1811",
   "metadata": {},
   "outputs": [
    {
     "name": "stdout",
     "output_type": "stream",
     "text": [
      "In 38 Seconds WhatsApp will open and after 15 Seconds Message will be Delivered!\n"
     ]
    }
   ],
   "source": [
    "import pywhatkit\n",
    "\n",
    "pywhatkit.sendwhatmsg('+5521976607093','OIIIIIIIIIIIIIIIIIIIIII!!!!!',22,15)"
   ]
  },
  {
   "cell_type": "code",
   "execution_count": 1,
   "id": "26b7b31f",
   "metadata": {},
   "outputs": [
    {
     "name": "stdout",
     "output_type": "stream",
     "text": [
      "In 11 Seconds WhatsApp will open and after 15 Seconds Message will be Delivered!\n"
     ]
    }
   ],
   "source": [
    "import pywhatkit\n",
    "\n",
    "pywhatkit.sendwhatmsg('+5521976607093','OIIIIIIIIIIIIIIIIIIIIII!!!!!',22,17)"
   ]
  },
  {
   "cell_type": "code",
   "execution_count": 2,
   "id": "6d7acf00",
   "metadata": {},
   "outputs": [
    {
     "name": "stdout",
     "output_type": "stream",
     "text": [
      "In 44 Seconds WhatsApp will open and after 15 Seconds Message will be Delivered!\n"
     ]
    }
   ],
   "source": [
    "import pywhatkit\n",
    "\n",
    "pywhatkit.sendwhatmsg('+5521976607093','OIIIIIIIIIIIIIIIIIIIIII!!!!!',22,18)"
   ]
  },
  {
   "cell_type": "code",
   "execution_count": 3,
   "id": "0e44218b",
   "metadata": {},
   "outputs": [
    {
     "name": "stdout",
     "output_type": "stream",
     "text": [
      "In 45 Seconds WhatsApp will open and after 15 Seconds Message will be Delivered!\n"
     ]
    }
   ],
   "source": [
    "import pywhatkit\n",
    "\n",
    "pywhatkit.sendwhatmsg('+5521976607093','OIIIIIIIIIIIIIIIIIIIIII!!!!!',22,19)"
   ]
  },
  {
   "cell_type": "code",
   "execution_count": 4,
   "id": "91216561",
   "metadata": {},
   "outputs": [
    {
     "name": "stdout",
     "output_type": "stream",
     "text": [
      "In 45 Seconds WhatsApp will open and after 15 Seconds Message will be Delivered!\n"
     ]
    }
   ],
   "source": [
    "import pywhatkit\n",
    "\n",
    "pywhatkit.sendwhatmsg('+5521976607093','OIIIIIIIIIIIIIIIIIIIIII!!!!!',22,20)"
   ]
  }
 ],
 "metadata": {
  "kernelspec": {
   "display_name": "Python 3 (ipykernel)",
   "language": "python",
   "name": "python3"
  },
  "language_info": {
   "codemirror_mode": {
    "name": "ipython",
    "version": 3
   },
   "file_extension": ".py",
   "mimetype": "text/x-python",
   "name": "python",
   "nbconvert_exporter": "python",
   "pygments_lexer": "ipython3",
   "version": "3.9.12"
  }
 },
 "nbformat": 4,
 "nbformat_minor": 5
}
