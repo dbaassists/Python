{
 "cells": [
  {
   "cell_type": "code",
   "execution_count": 2,
   "id": "9d880912",
   "metadata": {},
   "outputs": [],
   "source": [
    "#importando o módulo pyttsx3\n",
    "import pyttsx3\n",
    "\n",
    "#iniciando pyttsx3\n",
    "motor = pyttsx3.init()\n",
    "\n",
    "#passando pra ele o texto que gostamos de ouvir\n",
    "motor.say(\"\"\"\n",
    "O presidente Lula e o presidente dos Estados Unidos, Joe Biden, se encontraram na Casa Branca, residência oficial do governo norte-americano, no fim da tarde desta sexta-feira (10), no horário de Washington (duas horas a menos que Brasília).\n",
    "\n",
    "No início do encontro, em momento aberto à imprensa, Lula e Biden fizeram uma defesa da democracia e ressaltaram a importância de uma parceria entre os dois países no combate às mudanças climáticas.\n",
    "\n",
    "A reunião de Lula e Biden carrega o simbolismo de os dois presidentes terem visto, após suas eleições, ataques de oposicionistas às sedes de poderes da República.\n",
    "\"\"\")\n",
    "\n",
    "# text o texto\n",
    "motor.runAndWait()"
   ]
  },
  {
   "cell_type": "code",
   "execution_count": 1,
   "id": "75eaf2a6",
   "metadata": {},
   "outputs": [
    {
     "name": "stdout",
     "output_type": "stream",
     "text": [
      "Requirement already satisfied: pyttsx3 in c:\\programdata\\anaconda3\\lib\\site-packages (2.90)\n",
      "Requirement already satisfied: pywin32 in c:\\programdata\\anaconda3\\lib\\site-packages (from pyttsx3) (302)\n",
      "Requirement already satisfied: pypiwin32 in c:\\programdata\\anaconda3\\lib\\site-packages (from pyttsx3) (223)\n",
      "Requirement already satisfied: comtypes in c:\\programdata\\anaconda3\\lib\\site-packages (from pyttsx3) (1.1.10)\n",
      "Note: you may need to restart the kernel to use updated packages.\n"
     ]
    }
   ],
   "source": [
    "pip install pyttsx3"
   ]
  },
  {
   "cell_type": "code",
   "execution_count": 21,
   "id": "d994508e",
   "metadata": {},
   "outputs": [
    {
     "name": "stdout",
     "output_type": "stream",
     "text": [
      "220\n",
      "1.0\n"
     ]
    }
   ],
   "source": [
    "# importando o módulo pyttsx3\n",
    "import pyttsx3\n",
    "\n",
    "# iniciando pyttsx3\n",
    "motor = pyttsx3.init()\n",
    "\n",
    "\"\"\"CONFIGURANDO TAXA\"\"\"\n",
    "rate = motor.getProperty('rate')   # obtendo detalhes da taxa de fala atual\n",
    "print (rate)                       # imprimindo a taxa de voz atual\n",
    "motor.setProperty('rate', 220)     # configurando nova taxa de voz\n",
    "\n",
    "\n",
    "\"\"\"CONFIGURANDO VOLUME\"\"\"\n",
    "\n",
    "volume = motor.getProperty('volume') # conhecendo o nível de volume atual (min=0 e max=1)  \n",
    "print (volume)                       # imprimindo o nível de volume atual                       \n",
    "motor.setProperty('volume',1.0)      # configurando o nível de volume entre 0 e 1\n",
    "\n",
    "\n",
    "\"\"\"CONFIGURANDO VOZ \"\"\"\n",
    "vozes = motor.getProperty('voices')       # obtendo detalhes da voz atual\n",
    "#motor.setProperty('voice', vozes[0].id) # alterando o índice, muda as vozes. o para homem\n",
    "motor.setProperty('voice', vozes[0].id)  # alterando o índice, muda as vozes. 1 para mulher\n",
    "motor.say(\"Olá Mundo!\")\n",
    "motor.say('Minha taxa de fala atual é ' + str(rate))\n",
    "motor.runAndWait()\n",
    "motor.stop()\n",
    "\n",
    "\"\"\"Salvando voz em um arquivo\"\"\"\n",
    "# No linux, certifique-se de que 'espeak' e 'ffmpeg' estejam instalados\n",
    "motor.save_to_file('Olá Mundo!', 'test.mp3')\n",
    "motor.runAndWait()"
   ]
  }
 ],
 "metadata": {
  "kernelspec": {
   "display_name": "Python 3 (ipykernel)",
   "language": "python",
   "name": "python3"
  },
  "language_info": {
   "codemirror_mode": {
    "name": "ipython",
    "version": 3
   },
   "file_extension": ".py",
   "mimetype": "text/x-python",
   "name": "python",
   "nbconvert_exporter": "python",
   "pygments_lexer": "ipython3",
   "version": "3.9.12"
  }
 },
 "nbformat": 4,
 "nbformat_minor": 5
}
