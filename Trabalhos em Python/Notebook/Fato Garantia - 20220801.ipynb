{
 "cells": [
  {
   "cell_type": "code",
   "execution_count": 1,
   "id": "f7c79608",
   "metadata": {},
   "outputs": [],
   "source": [
    "import warnings\n",
    "import pandas as pd\n",
    "from pandas.core.common import SettingWithCopyWarning\n",
    "import numpy as np\n",
    "import json\n",
    "import os "
   ]
  },
  {
   "cell_type": "code",
   "execution_count": 2,
   "id": "0f43f327",
   "metadata": {},
   "outputs": [],
   "source": [
    "pd.options.display.max_rows = 999\n",
    "pd.options.display.max_columns=999\n",
    "warnings.simplefilter(action=\"ignore\", category=SettingWithCopyWarning)"
   ]
  },
  {
   "cell_type": "code",
   "execution_count": 16,
   "id": "31af1f7e",
   "metadata": {},
   "outputs": [
    {
     "name": "stdout",
     "output_type": "stream",
     "text": [
      "<class 'pandas.core.frame.DataFrame'>\n",
      "RangeIndex: 1559 entries, 0 to 1558\n",
      "Data columns (total 16 columns):\n",
      " #   Column             Non-Null Count  Dtype  \n",
      "---  ------             --------------  -----  \n",
      " 0   CodCliente         1559 non-null   int64  \n",
      " 1   1                  1559 non-null   int64  \n",
      " 2   CodTipoInformacao  1559 non-null   int64  \n",
      " 3   3                  0 non-null      float64\n",
      " 4   4                  1559 non-null   int64  \n",
      " 5   DtaFimValidade     1559 non-null   int64  \n",
      " 6   VlrMontante        1559 non-null   float64\n",
      " 7   7                  1556 non-null   object \n",
      " 8   8                  1556 non-null   object \n",
      " 9   9                  1559 non-null   int64  \n",
      " 10  10                 1559 non-null   int64  \n",
      " 11  11                 1559 non-null   object \n",
      " 12  12                 1559 non-null   int64  \n",
      " 13  13                 1559 non-null   int64  \n",
      " 14  14                 1559 non-null   int64  \n",
      " 15  15                 1559 non-null   int64  \n",
      "dtypes: float64(2), int64(11), object(3)\n",
      "memory usage: 195.0+ KB\n"
     ]
    }
   ],
   "source": [
    "#dfGarantia.info()"
   ]
  },
  {
   "cell_type": "code",
   "execution_count": 23,
   "id": "efbb583a",
   "metadata": {},
   "outputs": [
    {
     "data": {
      "text/html": [
       "<div>\n",
       "<style scoped>\n",
       "    .dataframe tbody tr th:only-of-type {\n",
       "        vertical-align: middle;\n",
       "    }\n",
       "\n",
       "    .dataframe tbody tr th {\n",
       "        vertical-align: top;\n",
       "    }\n",
       "\n",
       "    .dataframe thead th {\n",
       "        text-align: right;\n",
       "    }\n",
       "</style>\n",
       "<table border=\"1\" class=\"dataframe\">\n",
       "  <thead>\n",
       "    <tr style=\"text-align: right;\">\n",
       "      <th></th>\n",
       "      <th>CodCliente</th>\n",
       "      <th>CodTipoInformacao</th>\n",
       "      <th>DtaInicioValidade</th>\n",
       "      <th>DtaFimValidade</th>\n",
       "      <th>Texto</th>\n",
       "      <th>VlrMontante</th>\n",
       "    </tr>\n",
       "  </thead>\n",
       "  <tbody>\n",
       "    <tr>\n",
       "      <th>7</th>\n",
       "      <td>4150</td>\n",
       "      <td>13</td>\n",
       "      <td>20150820</td>\n",
       "      <td>20210812</td>\n",
       "      <td>0000000000000000000000000000000000000000000000...</td>\n",
       "      <td>112000.0</td>\n",
       "    </tr>\n",
       "    <tr>\n",
       "      <th>8</th>\n",
       "      <td>4150</td>\n",
       "      <td>13</td>\n",
       "      <td>20150820</td>\n",
       "      <td>20210812</td>\n",
       "      <td>0000000000000000000000000000000000000000000000...</td>\n",
       "      <td>116000.0</td>\n",
       "    </tr>\n",
       "    <tr>\n",
       "      <th>9</th>\n",
       "      <td>4150</td>\n",
       "      <td>13</td>\n",
       "      <td>20211229</td>\n",
       "      <td>20310706</td>\n",
       "      <td>SFE 01690114 RGI 146.795 e 205.935 10 anos</td>\n",
       "      <td>356000.0</td>\n",
       "    </tr>\n",
       "  </tbody>\n",
       "</table>\n",
       "</div>"
      ],
      "text/plain": [
       "   CodCliente  CodTipoInformacao  DtaInicioValidade  DtaFimValidade  \\\n",
       "7        4150                 13           20150820        20210812   \n",
       "8        4150                 13           20150820        20210812   \n",
       "9        4150                 13           20211229        20310706   \n",
       "\n",
       "                                               Texto  VlrMontante  \n",
       "7  0000000000000000000000000000000000000000000000...     112000.0  \n",
       "8  0000000000000000000000000000000000000000000000...     116000.0  \n",
       "9         SFE 01690114 RGI 146.795 e 205.935 10 anos     356000.0  "
      ]
     },
     "execution_count": 23,
     "metadata": {},
     "output_type": "execute_result"
    }
   ],
   "source": [
    "arquivoGarantia = 'C:\\\\Temp\\\\Garantia\\\\DA_FS001.20220731.185924'\n",
    "\n",
    "dfGarantia = pd.read_csv(arquivoGarantia, header=None, sep=';',low_memory=False)\n",
    "\n",
    "dfGarantia.rename(columns={0:'CodCliente',2:'CodTipoInformacao', 4:'DtaInicioValidade', 5:'DtaFimValidade', 6:'VlrMontante',8:'Texto'}, inplace=True)\n",
    "\n",
    "dfGarantia[(dfGarantia['CodTipoInformacao'].isin([12,13])) \n",
    "           & (dfGarantia['CodCliente']==4150)][['CodCliente'\n",
    "                                                   , 'CodTipoInformacao'\n",
    "                                                   , 'DtaInicioValidade'\n",
    "                                                   , 'DtaFimValidade'\n",
    "                                                   , 'Texto'\n",
    "                                                   , 'VlrMontante']]\n",
    "#dfItem = dfItem[['CodRelatorio', 'CodItem']]\n",
    "\n",
    "#dfItem.groupby(['Dta']).agg(qtd=('CodRelatorio','count')).reset_index().sort_values(by=['qtd'],ascending=False)"
   ]
  }
 ],
 "metadata": {
  "kernelspec": {
   "display_name": "Python 3",
   "language": "python",
   "name": "python3"
  },
  "language_info": {
   "codemirror_mode": {
    "name": "ipython",
    "version": 3
   },
   "file_extension": ".py",
   "mimetype": "text/x-python",
   "name": "python",
   "nbconvert_exporter": "python",
   "pygments_lexer": "ipython3",
   "version": "3.8.8"
  }
 },
 "nbformat": 4,
 "nbformat_minor": 5
}
