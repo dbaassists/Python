{
 "cells": [
  {
   "cell_type": "markdown",
   "id": "3f0bcf00",
   "metadata": {},
   "source": [
    "Questao 1 -Enunciado\n",
    "Um parque de diversões tem 3 atrações principais: o carrossel, piscina de bolinhas e montanha-russa.\n",
    "\n",
    "Para poder participar de uma atração a pessoa deve cumprir as seguintes condições:\n",
    "\n",
    "Carrossel: altura mínima de 1,00m e idade mínima de 3 anos.\n",
    "\n",
    "Piscina de bolinhas: idade entre 4 e 9 anos e máximo de 1,30m de altura.\n",
    "\n",
    "Montanha-russa: altura mínima de 1,10m.\n",
    "O fiscal de cada atração verificará o ano de nascimento da pessoa e altura para liberar o acesso para uma pessoa.\n",
    "\n",
    "Faça uma função em python que receba o ano de nascimento e altura da pessoa e informe quais as atrações que a pessoa pode participar."
   ]
  },
  {
   "cell_type": "code",
   "execution_count": null,
   "id": "62774795",
   "metadata": {},
   "outputs": [],
   "source": [
    "altura = float(input(\"Informe a sua altura: \"))\n",
    "idade = int(input(\"Informe a sua idade: \"))\n",
    "\n",
    "\n",
    "def verifica_requisitos_parque(altura,idade):\n",
    "    if(altura >= 1.00 and idade >= 3):\n",
    "        print(\"Você pode ir no carrosel!\")\n",
    "    if(altura >=1.30 and idade >=4 and idade <= 9):\n",
    "        print(\"Você pode ir na piscina de bolinhas!\")\n",
    "    if(altura >= 1.10):\n",
    "        print(\"Você pode ir na montanha russa!\")\n",
    "    \n",
    "verifica_requisitos_parque(altura,idade)"
   ]
  },
  {
   "cell_type": "markdown",
   "id": "cfc67ac3",
   "metadata": {},
   "source": [
    "Enunciado\n",
    "Peça ao usuário para entrar com um número e faça uma função que retorne o fatorial dele como resposta. O fatorial de um número é o resultado da multiplicação de todos os números que o antecedem a partir de 1 até o número fornecido. Atenção, fatorial só vale para números positivos!\n",
    "\n",
    "Exemplo: fatorial de 4 = 1 * 2 * 3 * 4 = 24"
   ]
  },
  {
   "cell_type": "code",
   "execution_count": 5,
   "id": "02ca8fc2",
   "metadata": {},
   "outputs": [
    {
     "name": "stdout",
     "output_type": "stream",
     "text": [
      "Digite o número que deseja que o fatorial seja calculado: 2\n",
      "O fatorial de 2 é 2\n"
     ]
    }
   ],
   "source": [
    "numero = int(input(\"Digite o número que deseja que o fatorial seja calculado: \"))\n",
    "\n",
    "def fatorial(numero):\n",
    "    fatorial = 1\n",
    "    contador = 1\n",
    "    \n",
    "    if(numero==0):\n",
    "        print(\"O fatorial de 0 é 1!\")\n",
    "    elif(numero>=1):\n",
    "        while contador <= numero:\n",
    "            fatorial = fatorial * contador\n",
    "            contador = contador +1\n",
    "        print(f'O fatorial de {numero} é {fatorial}')\n",
    "    else:\n",
    "        print(\"o Fatorial só pode ser calculado para números positivos!\")\n",
    "\n",
    "fatorial(numero)"
   ]
  },
  {
   "cell_type": "markdown",
   "id": "232be7b4",
   "metadata": {},
   "source": [
    "Enunciado\n",
    "\n",
    "\n",
    "Dado um número fornecido pelo usuário, faça um programa que teste se é número primo e imprima na tela. Além disso, exiba uma lista de divisores do número testado. Um número primo é divisível somente por 1 e por ele mesmo. Seu programa deve ser funcional para qualquer número até o 100.\n",
    "\n",
    "13 é divisível somente por 1 e ele mesmo (13), então é primo.\n",
    "25 é divisível por 1, 5 e ele mesmo (25), então NÃO é primo."
   ]
  },
  {
   "cell_type": "code",
   "execution_count": 13,
   "id": "69435873",
   "metadata": {},
   "outputs": [
    {
     "name": "stdout",
     "output_type": "stream",
     "text": [
      "Digite o numero que deseja saber se é primo: -10\n",
      "-10 divisível por [1, 2, 5] e ele mesmo (-10), então NÃO é primo.\n"
     ]
    }
   ],
   "source": [
    "numero = int(input(\"Digite o numero que deseja saber se é primo: \"))\n",
    "lista_divisores = []\n",
    "divisor = 1\n",
    "\n",
    "while divisor <= 100:\n",
    "    if((numero%divisor)==0):\n",
    "        lista_divisores.append(divisor)\n",
    "        divisor = divisor +1\n",
    "        \n",
    "    else:\n",
    "        divisor = divisor +1\n",
    "if(numero ==1):\n",
    "    print(\"O número 1 não é número primo!\")\n",
    "    \n",
    "elif(len(lista_divisores)<=2):\n",
    "    print(f'{numero} é divisível somente por 1 e ele mesmo ({numero}), então é primo.')\n",
    "\n",
    "else:\n",
    "    lista_divisores.pop()\n",
    "    print(f'{numero} divisível por {lista_divisores} e ele mesmo ({numero}), então NÃO é primo.')"
   ]
  },
  {
   "cell_type": "markdown",
   "id": "c27fb3f3",
   "metadata": {},
   "source": [
    "Enunciado\n",
    "Faça um script que leia 10 números do usuário e informe se algum número foi inserido em sequência. Se mais de um número for repetido, informe ao menos um (caso no Exemplo 3).\n",
    "\n",
    "Exemplo 1\n",
    "input 1: 3\n",
    "input 2: 5\n",
    "(etc...) 6.. 7.. 12.. 2... 43.. 5.. \n",
    "input 9: 1\n",
    "input 10: 8\n",
    "output: Nenhum número foi repetido em sequência\n",
    "\n",
    "Exemplo 2\n",
    "input 1: 9\n",
    "input 2: 4\n",
    "(etc...) 9.. 5.. 9.. 6... 3.. 1.. \n",
    "input 9: 6\n",
    "input 10: 6\n",
    "output: O número 6 foi repetido em sequência\n",
    "\n",
    "Exemplo 3\n",
    "input 1: 2\n",
    "input 2: 3\n",
    "(etc...) 9.. 9.. 4.. 6... 7.. 7.. \n",
    "input 9: 4\n",
    "input 10: 3\n",
    "output: O número 7 foi repetido em sequência"
   ]
  },
  {
   "cell_type": "code",
   "execution_count": 15,
   "id": "4552ffe2",
   "metadata": {},
   "outputs": [
    {
     "name": "stdout",
     "output_type": "stream",
     "text": [
      "Digite um numero para alimentar a lista de dez numeros: 1\n",
      "Digite um numero para alimentar a lista de dez numeros: 2\n",
      "Digite um numero para alimentar a lista de dez numeros: 3\n",
      "Digite um numero para alimentar a lista de dez numeros: 4\n",
      "Digite um numero para alimentar a lista de dez numeros: 5\n",
      "Digite um numero para alimentar a lista de dez numeros: 6\n",
      "Digite um numero para alimentar a lista de dez numeros: 7\n",
      "Digite um numero para alimentar a lista de dez numeros: 8\n",
      "Digite um numero para alimentar a lista de dez numeros: 9\n",
      "Digite um numero para alimentar a lista de dez numeros: 10\n",
      "[1, 2, 3, 4, 5, 6, 7, 8, 9, 10]\n"
     ]
    },
    {
     "ename": "IndexError",
     "evalue": "list index out of range",
     "output_type": "error",
     "traceback": [
      "\u001b[1;31m---------------------------------------------------------------------------\u001b[0m",
      "\u001b[1;31mIndexError\u001b[0m                                Traceback (most recent call last)",
      "\u001b[1;32m~\\AppData\\Local\\Temp\\ipykernel_28436\\3682333526.py\u001b[0m in \u001b[0;36m<module>\u001b[1;34m\u001b[0m\n\u001b[0;32m     26\u001b[0m \u001b[1;33m\u001b[0m\u001b[0m\n\u001b[0;32m     27\u001b[0m         \u001b[0mnumero_atual\u001b[0m \u001b[1;33m=\u001b[0m \u001b[0mnumero_proximo\u001b[0m\u001b[1;33m\u001b[0m\u001b[1;33m\u001b[0m\u001b[0m\n\u001b[1;32m---> 28\u001b[1;33m         \u001b[0mnumero_proximo\u001b[0m \u001b[1;33m=\u001b[0m \u001b[0mlista_numeros\u001b[0m\u001b[1;33m[\u001b[0m\u001b[1;33m(\u001b[0m\u001b[0mcontador\u001b[0m\u001b[1;33m+\u001b[0m\u001b[1;36m2\u001b[0m\u001b[1;33m)\u001b[0m\u001b[1;33m]\u001b[0m\u001b[1;33m\u001b[0m\u001b[1;33m\u001b[0m\u001b[0m\n\u001b[0m\u001b[0;32m     29\u001b[0m         \u001b[0mnumeros_repetidos\u001b[0m \u001b[1;33m=\u001b[0m \u001b[1;36m0\u001b[0m\u001b[1;33m\u001b[0m\u001b[1;33m\u001b[0m\u001b[0m\n\u001b[0;32m     30\u001b[0m         \u001b[0mcontador\u001b[0m \u001b[1;33m=\u001b[0m \u001b[0mcontador\u001b[0m \u001b[1;33m+\u001b[0m\u001b[1;36m1\u001b[0m\u001b[1;33m\u001b[0m\u001b[1;33m\u001b[0m\u001b[0m\n",
      "\u001b[1;31mIndexError\u001b[0m: list index out of range"
     ]
    }
   ],
   "source": [
    "lista_numeros = []\n",
    "\n",
    "for contador in range(10):\n",
    "    numero = int(input(\"Digite um numero para alimentar a lista de dez numeros: \"))\n",
    "    lista_numeros.append(numero)\n",
    "    contador = contador + 1\n",
    "\n",
    "print(lista_numeros)\n",
    "\n",
    "numero_atual = lista_numeros[0]\n",
    "numero_proximo = lista_numeros[1]\n",
    "\n",
    "numeros_repetidos = 0\n",
    "contador = 0\n",
    "\n",
    "while contador <= 8 and numeros_repetidos == 0:\n",
    "    \n",
    "    if(numero_atual == numero_proximo):\n",
    "        print(f'\\nO numero {numero_atual} foi repetido em sequencia!')\n",
    "        numeros_repetidos = 1\n",
    "    \n",
    "    elif(numero_atual == lista_numeros[8]):\n",
    "        break\n",
    "        \n",
    "    else:\n",
    "        \n",
    "        numero_atual = numero_proximo\n",
    "        numero_proximo = lista_numeros[(contador+2)]\n",
    "        numeros_repetidos = 0\n",
    "        contador = contador +1\n",
    "\n",
    "if(numeros_repetidos == 0):\n",
    "    print(\"\\nNenhum numero foi repetido em sequencia!\")"
   ]
  }
 ],
 "metadata": {
  "kernelspec": {
   "display_name": "Python 3 (ipykernel)",
   "language": "python",
   "name": "python3"
  },
  "language_info": {
   "codemirror_mode": {
    "name": "ipython",
    "version": 3
   },
   "file_extension": ".py",
   "mimetype": "text/x-python",
   "name": "python",
   "nbconvert_exporter": "python",
   "pygments_lexer": "ipython3",
   "version": "3.9.13"
  }
 },
 "nbformat": 4,
 "nbformat_minor": 5
}
