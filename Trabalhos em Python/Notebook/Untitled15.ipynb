{
 "cells": [
  {
   "cell_type": "code",
   "execution_count": 2,
   "id": "284d8e28",
   "metadata": {},
   "outputs": [],
   "source": [
    "import pandas as pd"
   ]
  },
  {
   "cell_type": "code",
   "execution_count": 3,
   "id": "78847c8e",
   "metadata": {},
   "outputs": [
    {
     "name": "stderr",
     "output_type": "stream",
     "text": [
      "C:\\ProgramData\\Anaconda3\\lib\\site-packages\\IPython\\core\\interactiveshell.py:3165: DtypeWarning: Columns (41) have mixed types.Specify dtype option on import or set low_memory=False.\n",
      "  has_raised = await self.run_ast_nodes(code_ast.body, cell_name,\n"
     ]
    }
   ],
   "source": [
    "df = pd.read_csv('C:\\Temp\\leads_20221104.csv',sep=';')"
   ]
  },
  {
   "cell_type": "code",
   "execution_count": 5,
   "id": "add6f61c",
   "metadata": {},
   "outputs": [
    {
     "name": "stdout",
     "output_type": "stream",
     "text": [
      "<class 'pandas.core.frame.DataFrame'>\n",
      "RangeIndex: 36104 entries, 0 to 36103\n",
      "Data columns (total 43 columns):\n",
      " #   Column                      Non-Null Count  Dtype  \n",
      "---  ------                      --------------  -----  \n",
      " 0   id                          36104 non-null  int64  \n",
      " 1   nome                        36104 non-null  object \n",
      " 2   email                       36104 non-null  object \n",
      " 3   telephone                   1824 non-null   float64\n",
      " 4   cellphone                   36104 non-null  int64  \n",
      " 5   cpf                         5579 non-null   float64\n",
      " 6   business_model              16700 non-null  object \n",
      " 7   best_contact_time           4669 non-null   object \n",
      " 8   utm_source                  32107 non-null  object \n",
      " 9   utm_medium                  33897 non-null  object \n",
      " 10  utm_campaign                31388 non-null  object \n",
      " 11  street                      10321 non-null  object \n",
      " 12  number                      5608 non-null   object \n",
      " 13  complement                  3917 non-null   object \n",
      " 14  neighbourhood               10303 non-null  object \n",
      " 15  city                        36104 non-null  object \n",
      " 16  state                       36104 non-null  object \n",
      " 17  cep                         10394 non-null  float64\n",
      " 18  privacy_policy_accepted_at  29390 non-null  object \n",
      " 19  serasa_checked_at           19452 non-null  object \n",
      " 20  serasa_status               5530 non-null   object \n",
      " 21  created_at                  36104 non-null  object \n",
      " 22  updated_at                  36104 non-null  object \n",
      " 23  status                      36104 non-null  object \n",
      " 24  input_channel               36104 non-null  object \n",
      " 25  cylinder_type               36104 non-null  object \n",
      " 26  cancel_reason               32251 non-null  object \n",
      " 27  cancel_comments             10961 non-null  object \n",
      " 28  contact_attempt_comments    0 non-null      float64\n",
      " 29  last_contact_attempt_at     0 non-null      float64\n",
      " 30  observations                26205 non-null  object \n",
      " 31  schedule_due_date           4816 non-null   object \n",
      " 32  reschedule_due_date         875 non-null    object \n",
      " 33  schedule_period             4816 non-null   object \n",
      " 34  reschedule_period           875 non-null    object \n",
      " 35  how_did_you_know            4429 non-null   object \n",
      " 36  client_id                   4078 non-null   float64\n",
      " 37  full_name                   0 non-null      float64\n",
      " 38  birthdate                   0 non-null      float64\n",
      " 39  consumption_days            13 non-null     float64\n",
      " 40  referrer_id                 1060 non-null   float64\n",
      " 41  referrer_code               1083 non-null   object \n",
      " 42  first_contact_attempt_at    0 non-null      float64\n",
      "dtypes: float64(11), int64(2), object(30)\n",
      "memory usage: 11.8+ MB\n"
     ]
    }
   ],
   "source": [
    "df.info()"
   ]
  }
 ],
 "metadata": {
  "kernelspec": {
   "display_name": "Python 3",
   "language": "python",
   "name": "python3"
  },
  "language_info": {
   "codemirror_mode": {
    "name": "ipython",
    "version": 3
   },
   "file_extension": ".py",
   "mimetype": "text/x-python",
   "name": "python",
   "nbconvert_exporter": "python",
   "pygments_lexer": "ipython3",
   "version": "3.8.8"
  }
 },
 "nbformat": 4,
 "nbformat_minor": 5
}
