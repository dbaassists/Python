{
 "cells": [
  {
   "cell_type": "markdown",
   "id": "6799b51e",
   "metadata": {},
   "source": [
    "2) Crie um dicionário vazio semana = {} e o complete com uma chave para cada dia da semana, tendo como seu valor uma lista com as aulas que você tem nesse dia (sábado e domingo recebem listas vazias, ou você tem aula?).\n",
    "\n",
    "Sua Resposta:"
   ]
  },
  {
   "cell_type": "code",
   "execution_count": null,
   "id": "47ad8622",
   "metadata": {},
   "outputs": [],
   "source": [
    "\n",
    "\n",
    "\n",
    "\n",
    "\n",
    "\n",
    "\n",
    "\n",
    "\n"
   ]
  },
  {
   "cell_type": "markdown",
   "id": "70e1a506",
   "metadata": {},
   "source": [
    "3) Crie um dicionário vazio filmes = {}. Utilize o nome de um filme como chave. E, como valor, outro dicionário contendo o vilão e o ano em que o filme foi lançado. Preencha 5 filmes.\n",
    "\n",
    "Sua Resposta:"
   ]
  },
  {
   "cell_type": "code",
   "execution_count": 47,
   "id": "58070b8f",
   "metadata": {},
   "outputs": [
    {
     "name": "stdout",
     "output_type": "stream",
     "text": [
      "{'filme': 'Eternos', 'vilao': 'Kang', 'ano': '2021'}\n",
      "{'filme': 'Viúva Negra', 'vilao': 'General Dreykov', 'ano': '2021'}\n",
      "{'filme': 'Venom: Tempo de Carnificina', 'vilao': 'Carnificina', 'ano': '2021'}\n",
      "{'filme': 'Duna', 'vilao': 'Elvis', 'ano': '2021'}\n",
      "{'filme': 'Esquadrão Suicida', 'vilao': 'Starro', 'ano': '2021'}\n"
     ]
    }
   ],
   "source": [
    "cabecalho = ['filme', 'vilao', 'ano']\n",
    "\n",
    "lista_filme = [\n",
    "['Eternos','Kang','2021']\n",
    ",['Viúva Negra','General Dreykov','2021']\n",
    ",['Venom: Tempo de Carnificina','Carnificina','2021']\n",
    ",['Duna','Elvis','2021']\n",
    ",['Esquadrão Suicida','Starro','2021']\n",
    "]\n",
    "\n",
    "filme = {}\n",
    "\n",
    "for i in range(len(lista_filme)):\n",
    "\n",
    "    filme = dict(zip(['filme', 'vilao', 'ano'], [lista_filme[i][0],lista_filme[i][1],lista_filme[i][2]]))\n",
    "              \n",
    "    print(filme)        "
   ]
  },
  {
   "cell_type": "markdown",
   "id": "f6c4c267",
   "metadata": {},
   "source": [
    "6) Crie um dicionário que é uma agenda e coloque nele os seguintes dados: chave (cpf),  nome, idade, telefone. O programa deve ler  um número indeterminado de dados, criar a agenda e imprimir todos os itens do dicionário no formato chave: nome-idadefone.\n",
    "\n",
    "Sua Resposta:"
   ]
  },
  {
   "cell_type": "code",
   "execution_count": 59,
   "id": "c7e5b483",
   "metadata": {},
   "outputs": [
    {
     "name": "stdout",
     "output_type": "stream",
     "text": [
      "Pode Informar seu CPF: asdas\n",
      "Qual é o seu Nome?asdasd\n",
      "E a sua idade? asdasd\n",
      "Por último, qual o seu telefone: asdas\n",
      "deseja add outro nome? (s/n)s\n",
      "Pode Informar seu CPF: asdasd\n",
      "Qual é o seu Nome?asdasd\n",
      "E a sua idade? asdasd\n",
      "Por último, qual o seu telefone: asda\n",
      "deseja add outro nome? (s/n)m\n",
      "{'cpf': 'asdasd', 'nome': 'asdasd', 'idade': 'asdasd', 'telefone': 'asda'}\n"
     ]
    }
   ],
   "source": [
    "dados={}\n",
    "s_ou_n='s'\n",
    "while s_ou_n=='s':\n",
    "    cpf= input('Pode Informar seu CPF: ')\n",
    "    nome= input('Qual é o seu Nome?')\n",
    "    idade= input('E a sua idade? ')\n",
    "    telefone= input('Por último, qual o seu telefone: ')\n",
    "    dados={'cpf':cpf,'nome':nome,'idade':idade,'telefone':telefone}\n",
    "    s_ou_n= input('deseja add outro nome? (s/n)')\n",
    "print(dados)"
   ]
  }
 ],
 "metadata": {
  "kernelspec": {
   "display_name": "Python 3",
   "language": "python",
   "name": "python3"
  },
  "language_info": {
   "codemirror_mode": {
    "name": "ipython",
    "version": 3
   },
   "file_extension": ".py",
   "mimetype": "text/x-python",
   "name": "python",
   "nbconvert_exporter": "python",
   "pygments_lexer": "ipython3",
   "version": "3.8.8"
  }
 },
 "nbformat": 4,
 "nbformat_minor": 5
}
