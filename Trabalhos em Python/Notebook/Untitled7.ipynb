{
 "cells": [
  {
   "cell_type": "code",
   "execution_count": 2,
   "id": "2de17cb4",
   "metadata": {},
   "outputs": [],
   "source": [
    "import warnings\n",
    "import pandas as pd\n",
    "from pandas.core.common import SettingWithCopyWarning\n",
    "import numpy as np\n",
    "import json"
   ]
  },
  {
   "cell_type": "code",
   "execution_count": 3,
   "id": "eaab48ff",
   "metadata": {},
   "outputs": [],
   "source": [
    "pd.options.display.max_rows = 999\n",
    "pd.options.display.max_columns=999\n",
    "warnings.simplefilter(action=\"ignore\", category=SettingWithCopyWarning)"
   ]
  },
  {
   "cell_type": "code",
   "execution_count": 7,
   "id": "fca13e09",
   "metadata": {},
   "outputs": [],
   "source": [
    "arquivo = 'DA_SD002.20220717.165532'\n",
    "\n",
    "dfOrdemVenda = pd.read_csv(arquivo, sep=';',low_memory=False,header=None)"
   ]
  },
  {
   "cell_type": "code",
   "execution_count": 10,
   "id": "d57845b7",
   "metadata": {},
   "outputs": [
    {
     "data": {
      "text/plain": [
       "0        NaN\n",
       "1        NaN\n",
       "2        NaN\n",
       "3        NaN\n",
       "4        NaN\n",
       "        ... \n",
       "23997    NaN\n",
       "23998    NaN\n",
       "23999    NaN\n",
       "24000    NaN\n",
       "24001    NaN\n",
       "Name: 100, Length: 24002, dtype: object"
      ]
     },
     "execution_count": 10,
     "metadata": {},
     "output_type": "execute_result"
    }
   ],
   "source": [
    "dfOrdemVenda[dfOrdemVenda[100]=='']"
   ]
  },
  {
   "cell_type": "code",
   "execution_count": 28,
   "id": "70d07ec0",
   "metadata": {},
   "outputs": [
    {
     "data": {
      "text/html": [
       "<div>\n",
       "<style scoped>\n",
       "    .dataframe tbody tr th:only-of-type {\n",
       "        vertical-align: middle;\n",
       "    }\n",
       "\n",
       "    .dataframe tbody tr th {\n",
       "        vertical-align: top;\n",
       "    }\n",
       "\n",
       "    .dataframe thead th {\n",
       "        text-align: right;\n",
       "    }\n",
       "</style>\n",
       "<table border=\"1\" class=\"dataframe\">\n",
       "  <thead>\n",
       "    <tr style=\"text-align: right;\">\n",
       "      <th></th>\n",
       "      <th>0</th>\n",
       "      <th>96</th>\n",
       "      <th>97</th>\n",
       "      <th>125</th>\n",
       "      <th>132</th>\n",
       "      <th>133</th>\n",
       "      <th>134</th>\n",
       "      <th>135</th>\n",
       "      <th>136</th>\n",
       "      <th>137</th>\n",
       "    </tr>\n",
       "  </thead>\n",
       "  <tbody>\n",
       "    <tr>\n",
       "      <th>183</th>\n",
       "      <td>32411871</td>\n",
       "      <td>0003665328</td>\n",
       "      <td>0003665328</td>\n",
       "      <td>PADRÃO</td>\n",
       "      <td>ZGON</td>\n",
       "      <td>DTPR_4DFSCIS43E9G3Z9WMY6E1MWQL000001184</td>\n",
       "      <td>20220717</td>\n",
       "      <td>165531</td>\n",
       "      <td>1</td>\n",
       "      <td>184</td>\n",
       "    </tr>\n",
       "    <tr>\n",
       "      <th>184</th>\n",
       "      <td>32411871</td>\n",
       "      <td>0003665328</td>\n",
       "      <td>0003665328</td>\n",
       "      <td>PADRÃO</td>\n",
       "      <td>ZGON</td>\n",
       "      <td>DTPR_4DFSCIS43E9G3Z9WMY6E1MWQL000001185</td>\n",
       "      <td>20220717</td>\n",
       "      <td>165531</td>\n",
       "      <td>1</td>\n",
       "      <td>185</td>\n",
       "    </tr>\n",
       "  </tbody>\n",
       "</table>\n",
       "</div>"
      ],
      "text/plain": [
       "          0           96          97      125   132  \\\n",
       "183  32411871  0003665328  0003665328  PADRÃO  ZGON   \n",
       "184  32411871  0003665328  0003665328  PADRÃO  ZGON   \n",
       "\n",
       "                                         133       134     135  136  137  \n",
       "183  DTPR_4DFSCIS43E9G3Z9WMY6E1MWQL000001184  20220717  165531    1  184  \n",
       "184  DTPR_4DFSCIS43E9G3Z9WMY6E1MWQL000001185  20220717  165531    1  185  "
      ]
     },
     "execution_count": 28,
     "metadata": {},
     "output_type": "execute_result"
    }
   ],
   "source": [
    "dfOrdemVenda[dfOrdemVenda[133].isin(['DTPR_4DFSCIS43E9G3Z9WMY6E1MWQL000001184','DTPR_4DFSCIS43E9G3Z9WMY6E1MWQL000001185'])][[0,96,97,125,132,133,134,135,136,137]]"
   ]
  }
 ],
 "metadata": {
  "kernelspec": {
   "display_name": "Python 3",
   "language": "python",
   "name": "python3"
  },
  "language_info": {
   "codemirror_mode": {
    "name": "ipython",
    "version": 3
   },
   "file_extension": ".py",
   "mimetype": "text/x-python",
   "name": "python",
   "nbconvert_exporter": "python",
   "pygments_lexer": "ipython3",
   "version": "3.8.8"
  }
 },
 "nbformat": 4,
 "nbformat_minor": 5
}
