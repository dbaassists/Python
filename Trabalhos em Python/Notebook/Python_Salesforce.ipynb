{
 "cells": [
  {
   "cell_type": "code",
   "execution_count": 19,
   "id": "580a8f99",
   "metadata": {},
   "outputs": [],
   "source": [
    "import json\n",
    "import datetime\n",
    "import pandas as pd\n",
    "from simple_salesforce import Salesforce, SalesforceLogin, SFType"
   ]
  },
  {
   "cell_type": "markdown",
   "id": "0f735d5b",
   "metadata": {},
   "source": [
    "#pip install simple_salesforce"
   ]
  },
  {
   "cell_type": "code",
   "execution_count": 20,
   "id": "f765ea42",
   "metadata": {},
   "outputs": [],
   "source": [
    "username='etlshv@supergasbras.com.br', \n",
    "password='Super2020', \n",
    "security_token='2yY5vNvSMICU35NLeEjGAqtSJ'"
   ]
  },
  {
   "cell_type": "code",
   "execution_count": 21,
   "id": "2939206c",
   "metadata": {},
   "outputs": [],
   "source": [
    "sf = Salesforce(\n",
    "username='etlshv@supergasbras.com.br', \n",
    "password='Super2020', \n",
    "security_token='2yY5vNvSMICU35NLeEjGAqtSJ')"
   ]
  },
  {
   "cell_type": "code",
   "execution_count": 22,
   "id": "c37b1ab7",
   "metadata": {},
   "outputs": [],
   "source": [
    "#loginInfo = json.load(open('login.json'))\n",
    "username = username #loginInfo['username']\n",
    "password = password #loginInfo['password']\n",
    "security_token = security_token #loginInfo['security_token']\n",
    "domain = 'login'"
   ]
  },
  {
   "cell_type": "code",
   "execution_count": 23,
   "id": "e3155eb0",
   "metadata": {},
   "outputs": [],
   "source": [
    "session_id, instance = SalesforceLogin(username='etlshv@supergasbras.com.br', password='Super2020', security_token='2yY5vNvSMICU35NLeEjGAqtSJ', domain=domain)\n",
    "sf = Salesforce(instance=instance, session_id=session_id)"
   ]
  },
  {
   "cell_type": "code",
   "execution_count": 6,
   "id": "c388d98e",
   "metadata": {},
   "outputs": [],
   "source": [
    "sf_SBQQ_Quote = sf.query_all(\"\"\"\n",
    "SELECT Id ,OwnerId ,IsDeleted ,Name ,RecordTypeId\n",
    "FROM SBQQ__Quote__c  \n",
    "\"\"\")"
   ]
  },
  {
   "cell_type": "code",
   "execution_count": 7,
   "id": "7fa1cbff",
   "metadata": {},
   "outputs": [],
   "source": [
    "sf_dataSBQQQuote = pd.DataFrame(sf_SBQQ_Quote['records']).drop(columns='attributes')"
   ]
  },
  {
   "cell_type": "code",
   "execution_count": 8,
   "id": "d78f5cb3",
   "metadata": {},
   "outputs": [
    {
     "data": {
      "text/html": [
       "<div>\n",
       "<style scoped>\n",
       "    .dataframe tbody tr th:only-of-type {\n",
       "        vertical-align: middle;\n",
       "    }\n",
       "\n",
       "    .dataframe tbody tr th {\n",
       "        vertical-align: top;\n",
       "    }\n",
       "\n",
       "    .dataframe thead th {\n",
       "        text-align: right;\n",
       "    }\n",
       "</style>\n",
       "<table border=\"1\" class=\"dataframe\">\n",
       "  <thead>\n",
       "    <tr style=\"text-align: right;\">\n",
       "      <th></th>\n",
       "      <th>Id</th>\n",
       "      <th>OwnerId</th>\n",
       "      <th>IsDeleted</th>\n",
       "      <th>Name</th>\n",
       "      <th>RecordTypeId</th>\n",
       "    </tr>\n",
       "  </thead>\n",
       "  <tbody>\n",
       "    <tr>\n",
       "      <th>0</th>\n",
       "      <td>a3P1Y000000EmdRUAS</td>\n",
       "      <td>0051Y00000A3RVDQA3</td>\n",
       "      <td>False</td>\n",
       "      <td>Q-08915</td>\n",
       "      <td>0121Y000001EZARQA4</td>\n",
       "    </tr>\n",
       "    <tr>\n",
       "      <th>1</th>\n",
       "      <td>a3P1Y000000EmdWUAS</td>\n",
       "      <td>005F0000001vqBbIAI</td>\n",
       "      <td>False</td>\n",
       "      <td>Q-08916</td>\n",
       "      <td>0121Y000001EZAQQA4</td>\n",
       "    </tr>\n",
       "    <tr>\n",
       "      <th>2</th>\n",
       "      <td>a3P1Y000000EmdbUAC</td>\n",
       "      <td>005F00000029obNIAQ</td>\n",
       "      <td>False</td>\n",
       "      <td>Q-08917</td>\n",
       "      <td>0121Y000001EZAQQA4</td>\n",
       "    </tr>\n",
       "    <tr>\n",
       "      <th>3</th>\n",
       "      <td>a3P1Y000000EmdgUAC</td>\n",
       "      <td>0051Y00000AvvQkQAJ</td>\n",
       "      <td>False</td>\n",
       "      <td>Q-08918</td>\n",
       "      <td>0121Y000001EZARQA4</td>\n",
       "    </tr>\n",
       "    <tr>\n",
       "      <th>4</th>\n",
       "      <td>a3P1Y000000EmdlUAC</td>\n",
       "      <td>0052A000007zd3XQAQ</td>\n",
       "      <td>False</td>\n",
       "      <td>Q-08919</td>\n",
       "      <td>0121Y000001EZARQA4</td>\n",
       "    </tr>\n",
       "    <tr>\n",
       "      <th>...</th>\n",
       "      <td>...</td>\n",
       "      <td>...</td>\n",
       "      <td>...</td>\n",
       "      <td>...</td>\n",
       "      <td>...</td>\n",
       "    </tr>\n",
       "    <tr>\n",
       "      <th>38571</th>\n",
       "      <td>a3P4z000000wx83EAA</td>\n",
       "      <td>005F0000005t4AaIAI</td>\n",
       "      <td>False</td>\n",
       "      <td>Q-28511</td>\n",
       "      <td>0121Y000001EZAQQA4</td>\n",
       "    </tr>\n",
       "    <tr>\n",
       "      <th>38572</th>\n",
       "      <td>a3P4z000000wx88EAA</td>\n",
       "      <td>0052A000009LDCqQAO</td>\n",
       "      <td>False</td>\n",
       "      <td>Q-28512</td>\n",
       "      <td>0121Y000001EZARQA4</td>\n",
       "    </tr>\n",
       "    <tr>\n",
       "      <th>38573</th>\n",
       "      <td>a3P4z000000wx8DEAQ</td>\n",
       "      <td>005F0000001vkh4IAA</td>\n",
       "      <td>False</td>\n",
       "      <td>Q-28513</td>\n",
       "      <td>0121Y000001EZARQA4</td>\n",
       "    </tr>\n",
       "    <tr>\n",
       "      <th>38574</th>\n",
       "      <td>a3P4z000000wx8IEAQ</td>\n",
       "      <td>005F0000003T3eyIAC</td>\n",
       "      <td>False</td>\n",
       "      <td>Q-28514</td>\n",
       "      <td>0121Y000001EZARQA4</td>\n",
       "    </tr>\n",
       "    <tr>\n",
       "      <th>38575</th>\n",
       "      <td>a3P4z000000wx8NEAQ</td>\n",
       "      <td>005F0000001wSouIAE</td>\n",
       "      <td>False</td>\n",
       "      <td>Q-28515</td>\n",
       "      <td>0121Y000001EZARQA4</td>\n",
       "    </tr>\n",
       "  </tbody>\n",
       "</table>\n",
       "<p>38576 rows × 5 columns</p>\n",
       "</div>"
      ],
      "text/plain": [
       "                       Id             OwnerId  IsDeleted     Name  \\\n",
       "0      a3P1Y000000EmdRUAS  0051Y00000A3RVDQA3      False  Q-08915   \n",
       "1      a3P1Y000000EmdWUAS  005F0000001vqBbIAI      False  Q-08916   \n",
       "2      a3P1Y000000EmdbUAC  005F00000029obNIAQ      False  Q-08917   \n",
       "3      a3P1Y000000EmdgUAC  0051Y00000AvvQkQAJ      False  Q-08918   \n",
       "4      a3P1Y000000EmdlUAC  0052A000007zd3XQAQ      False  Q-08919   \n",
       "...                   ...                 ...        ...      ...   \n",
       "38571  a3P4z000000wx83EAA  005F0000005t4AaIAI      False  Q-28511   \n",
       "38572  a3P4z000000wx88EAA  0052A000009LDCqQAO      False  Q-28512   \n",
       "38573  a3P4z000000wx8DEAQ  005F0000001vkh4IAA      False  Q-28513   \n",
       "38574  a3P4z000000wx8IEAQ  005F0000003T3eyIAC      False  Q-28514   \n",
       "38575  a3P4z000000wx8NEAQ  005F0000001wSouIAE      False  Q-28515   \n",
       "\n",
       "             RecordTypeId  \n",
       "0      0121Y000001EZARQA4  \n",
       "1      0121Y000001EZAQQA4  \n",
       "2      0121Y000001EZAQQA4  \n",
       "3      0121Y000001EZARQA4  \n",
       "4      0121Y000001EZARQA4  \n",
       "...                   ...  \n",
       "38571  0121Y000001EZAQQA4  \n",
       "38572  0121Y000001EZARQA4  \n",
       "38573  0121Y000001EZARQA4  \n",
       "38574  0121Y000001EZARQA4  \n",
       "38575  0121Y000001EZARQA4  \n",
       "\n",
       "[38576 rows x 5 columns]"
      ]
     },
     "execution_count": 8,
     "metadata": {},
     "output_type": "execute_result"
    }
   ],
   "source": [
    "sf_dataSBQQQuote"
   ]
  },
  {
   "cell_type": "code",
   "execution_count": 24,
   "id": "2a708ee9",
   "metadata": {},
   "outputs": [],
   "source": [
    "sf_Capex = sf.query_all(\"\"\"\n",
    "SELECT Id, Name, Consultor_Comissionado__c, Data_de_Geracao_do_CAPEX__c FROM Capex__c\n",
    "\"\"\")"
   ]
  },
  {
   "cell_type": "code",
   "execution_count": 25,
   "id": "9e72ce9c",
   "metadata": {},
   "outputs": [],
   "source": [
    "sf_dataCapex = pd.DataFrame(sf_Capex['records']).drop(columns='attributes')"
   ]
  },
  {
   "cell_type": "code",
   "execution_count": 32,
   "id": "d94677e0",
   "metadata": {},
   "outputs": [
    {
     "data": {
      "text/html": [
       "<div>\n",
       "<style scoped>\n",
       "    .dataframe tbody tr th:only-of-type {\n",
       "        vertical-align: middle;\n",
       "    }\n",
       "\n",
       "    .dataframe tbody tr th {\n",
       "        vertical-align: top;\n",
       "    }\n",
       "\n",
       "    .dataframe thead th {\n",
       "        text-align: right;\n",
       "    }\n",
       "</style>\n",
       "<table border=\"1\" class=\"dataframe\">\n",
       "  <thead>\n",
       "    <tr style=\"text-align: right;\">\n",
       "      <th></th>\n",
       "      <th>Id</th>\n",
       "      <th>Name</th>\n",
       "      <th>Consultor_Comissionado__c</th>\n",
       "      <th>Data_de_Geracao_do_CAPEX__c</th>\n",
       "    </tr>\n",
       "  </thead>\n",
       "  <tbody>\n",
       "  </tbody>\n",
       "</table>\n",
       "</div>"
      ],
      "text/plain": [
       "Empty DataFrame\n",
       "Columns: [Id, Name, Consultor_Comissionado__c, Data_de_Geracao_do_CAPEX__c]\n",
       "Index: []"
      ]
     },
     "execution_count": 32,
     "metadata": {},
     "output_type": "execute_result"
    }
   ],
   "source": [
    "sf_dataCapex[sf_dataCapex['Name'] == 'RCX-0190/0']"
   ]
  },
  {
   "cell_type": "code",
   "execution_count": 33,
   "id": "7882b5bb",
   "metadata": {},
   "outputs": [],
   "source": [
    "sf_SBQQ__QuoteLine = sf.query_all(\"\"\"\n",
    "SELECT Id ,IsDeleted ,Name ,CreatedDate ,CreatedById\n",
    "FROM SBQQ__QuoteLine__c\n",
    "\"\"\")"
   ]
  },
  {
   "cell_type": "code",
   "execution_count": 36,
   "id": "a1e21490",
   "metadata": {},
   "outputs": [],
   "source": [
    "sf_dataCapexQuoteLine = pd.DataFrame(sf_SBQQ__QuoteLine['records']).drop(columns='attributes')"
   ]
  },
  {
   "cell_type": "code",
   "execution_count": 40,
   "id": "75c9aff2",
   "metadata": {},
   "outputs": [
    {
     "data": {
      "text/html": [
       "<div>\n",
       "<style scoped>\n",
       "    .dataframe tbody tr th:only-of-type {\n",
       "        vertical-align: middle;\n",
       "    }\n",
       "\n",
       "    .dataframe tbody tr th {\n",
       "        vertical-align: top;\n",
       "    }\n",
       "\n",
       "    .dataframe thead th {\n",
       "        text-align: right;\n",
       "    }\n",
       "</style>\n",
       "<table border=\"1\" class=\"dataframe\">\n",
       "  <thead>\n",
       "    <tr style=\"text-align: right;\">\n",
       "      <th></th>\n",
       "      <th>Id</th>\n",
       "      <th>IsDeleted</th>\n",
       "      <th>Name</th>\n",
       "      <th>CreatedDate</th>\n",
       "      <th>CreatedById</th>\n",
       "    </tr>\n",
       "  </thead>\n",
       "  <tbody>\n",
       "    <tr>\n",
       "      <th>0</th>\n",
       "      <td>a3L1Y000001KCkpUAG</td>\n",
       "      <td>False</td>\n",
       "      <td>QL-0366878</td>\n",
       "      <td>2020-08-18T11:21:25.000+0000</td>\n",
       "      <td>005F00000029obNIAQ</td>\n",
       "    </tr>\n",
       "  </tbody>\n",
       "</table>\n",
       "</div>"
      ],
      "text/plain": [
       "                   Id  IsDeleted        Name                   CreatedDate  \\\n",
       "0  a3L1Y000001KCkpUAG      False  QL-0366878  2020-08-18T11:21:25.000+0000   \n",
       "\n",
       "          CreatedById  \n",
       "0  005F00000029obNIAQ  "
      ]
     },
     "execution_count": 40,
     "metadata": {},
     "output_type": "execute_result"
    }
   ],
   "source": [
    "sf_dataCapexQuoteLine[sf_dataCapexQuoteLine['Id']=='a3L1Y000001KCkpUAG']"
   ]
  },
  {
   "cell_type": "code",
   "execution_count": 15,
   "id": "ec5c74ba",
   "metadata": {},
   "outputs": [
    {
     "data": {
      "text/plain": [
       "<function __main__.xc(asss='ssss', name='a')>"
      ]
     },
     "execution_count": 15,
     "metadata": {},
     "output_type": "execute_result"
    }
   ],
   "source": [
    "def xc(asss = 'ssss', name='a'):\n",
    "    pass \n",
    "\n",
    "xc"
   ]
  },
  {
   "cell_type": "code",
   "execution_count": 16,
   "id": "f12a44ac",
   "metadata": {},
   "outputs": [
    {
     "ename": "NameError",
     "evalue": "name 'sf_dfRecordType' is not defined",
     "output_type": "error",
     "traceback": [
      "\u001b[1;31m---------------------------------------------------------------------------\u001b[0m",
      "\u001b[1;31mNameError\u001b[0m                                 Traceback (most recent call last)",
      "\u001b[1;32m<ipython-input-16-6a834c43b9de>\u001b[0m in \u001b[0;36m<module>\u001b[1;34m\u001b[0m\n\u001b[1;32m----> 1\u001b[1;33m \u001b[0mdf_zvmc\u001b[0m \u001b[1;33m=\u001b[0m \u001b[0mpd\u001b[0m\u001b[1;33m.\u001b[0m\u001b[0mmerge\u001b[0m\u001b[1;33m(\u001b[0m\u001b[0msf_df\u001b[0m\u001b[1;33m,\u001b[0m \u001b[0msf_dfRecordType\u001b[0m\u001b[1;33m,\u001b[0m \u001b[0mleft_on\u001b[0m \u001b[1;33m=\u001b[0m \u001b[1;34m'RecordTypeId'\u001b[0m\u001b[1;33m,\u001b[0m \u001b[0mright_on\u001b[0m \u001b[1;33m=\u001b[0m \u001b[1;34m'Id'\u001b[0m\u001b[1;33m)\u001b[0m\u001b[0;31m \u001b[0m\u001b[0;31m\\\u001b[0m\u001b[1;33m\u001b[0m\u001b[1;33m\u001b[0m\u001b[0m\n\u001b[0m\u001b[0;32m      2\u001b[0m \u001b[1;33m.\u001b[0m\u001b[0mmerge\u001b[0m\u001b[1;33m(\u001b[0m\u001b[0msf_dfGrupoConta\u001b[0m\u001b[1;33m,\u001b[0m \u001b[0mleft_on\u001b[0m \u001b[1;33m=\u001b[0m \u001b[1;34m'Grupo_de_Contas2__c'\u001b[0m\u001b[1;33m,\u001b[0m \u001b[0mright_on\u001b[0m \u001b[1;33m=\u001b[0m \u001b[1;34m'Id'\u001b[0m\u001b[1;33m)\u001b[0m\u001b[1;33m\u001b[0m\u001b[1;33m\u001b[0m\u001b[0m\n",
      "\u001b[1;31mNameError\u001b[0m: name 'sf_dfRecordType' is not defined"
     ]
    }
   ],
   "source": [
    "df_zvmc = pd.merge(sf_df, sf_dfRecordType, left_on = 'RecordTypeId', right_on = 'Id') \\\n",
    ".merge(sf_dfGrupoConta, left_on = 'Grupo_de_Contas2__c', right_on = 'Id')"
   ]
  },
  {
   "cell_type": "code",
   "execution_count": null,
   "id": "07f918f7",
   "metadata": {},
   "outputs": [],
   "source": [
    "df_filtrado = df_zvmc[['Id_x','Codigo_do_Cliente_SAP__c','Name_x','Name_y','Codigo_do_Grupo_de_Conta__c','Name']]\n",
    "\n",
    "df_filtrado.rename(columns={'Id_x':'IdSFEConta','Name_x':'Conta','Name_y':'TipoDeRegistroDaConta','Codigo_do_Grupo_de_Conta__c':'CodGrupoConta','Name':'NomGrupoConta'},inplace=True)"
   ]
  },
  {
   "cell_type": "code",
   "execution_count": null,
   "id": "b317f416",
   "metadata": {},
   "outputs": [],
   "source": [
    "df_filtrado.to_csv('cliente_zvmc.csv',index=False,sep=';')"
   ]
  },
  {
   "cell_type": "code",
   "execution_count": null,
   "id": "fc7e29d5",
   "metadata": {},
   "outputs": [],
   "source": [
    "#sf_df.to_csv('areavenda.csv')"
   ]
  },
  {
   "cell_type": "code",
   "execution_count": null,
   "id": "5c4450e3",
   "metadata": {},
   "outputs": [],
   "source": []
  },
  {
   "cell_type": "code",
   "execution_count": null,
   "id": "ecd0271e",
   "metadata": {},
   "outputs": [],
   "source": []
  },
  {
   "cell_type": "code",
   "execution_count": null,
   "id": "30c74120",
   "metadata": {},
   "outputs": [],
   "source": [
    "\n",
    "#sf.Area_de_Vendas__c.delete('a194z00000k2iAoAAI')\n"
   ]
  },
  {
   "cell_type": "code",
   "execution_count": null,
   "id": "f8d12bef",
   "metadata": {},
   "outputs": [],
   "source": [
    "#caminho = 'C:\\Temp\\idareavendaexcluir.csv'\n",
    "#dfAreaVendaExcluir = pd.read_csv(caminho,header=0)"
   ]
  },
  {
   "cell_type": "code",
   "execution_count": null,
   "id": "e34d6530",
   "metadata": {
    "scrolled": true
   },
   "outputs": [],
   "source": [
    "#dfAreaVendaExcluir"
   ]
  },
  {
   "cell_type": "code",
   "execution_count": null,
   "id": "1929ee84",
   "metadata": {},
   "outputs": [],
   "source": [
    "#for i in dfAreaVendaExcluir.index:\n",
    "#    try:\n",
    "#        print([i])\n",
    "#        sf.Area_de_Vendas__c.delete(dfAreaVendaExcluir['id'][i])\n",
    "#    except Exception:\n",
    "#        print('Erro ao excluir o registro: '+dfAreaVendaExcluir['id'][i] )\n",
    "    #print(dfAreaVendaExcluir['id'][i])\n",
    "    "
   ]
  },
  {
   "cell_type": "code",
   "execution_count": null,
   "id": "b46d5e23",
   "metadata": {},
   "outputs": [],
   "source": [
    "#sf.Area_de_Vendas__c.delete('a194z00000d8bLtAAI')"
   ]
  }
 ],
 "metadata": {
  "kernelspec": {
   "display_name": "Python 3",
   "language": "python",
   "name": "python3"
  },
  "language_info": {
   "codemirror_mode": {
    "name": "ipython",
    "version": 3
   },
   "file_extension": ".py",
   "mimetype": "text/x-python",
   "name": "python",
   "nbconvert_exporter": "python",
   "pygments_lexer": "ipython3",
   "version": "3.8.8"
  }
 },
 "nbformat": 4,
 "nbformat_minor": 5
}
