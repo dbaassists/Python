{
 "cells": [
  {
   "cell_type": "code",
   "execution_count": 1,
   "id": "9e10e353",
   "metadata": {},
   "outputs": [],
   "source": [
    "import pandas as pd\n",
    "\n",
    "arquivo = 'C:\\\\Temp\\\\resultado.csv'\n",
    "\n",
    "df = pd.read_csv(arquivo,header=None)\n",
    "\n",
    "df = df.dropna(axis='columns')\n",
    "\n",
    "dfFinal = df.T\n",
    "\n",
    "dfFinal = dfFinal[0].astype(str).apply(lambda x: x.replace('[\"','').replace('\"','').replace(']',''))\n",
    "\n",
    "dfFinal.to_csv('arq_resultado.csv',index=False)"
   ]
  },
  {
   "cell_type": "code",
   "execution_count": 7,
   "id": "4842e8e5",
   "metadata": {},
   "outputs": [
    {
     "name": "stdout",
     "output_type": "stream",
     "text": [
      "Arquivo Sepulveda: 0 - 8694fc02-f12f-448c-8f59-e31a7607738d\n",
      "Arquivo Sepulveda: 1 - e0f9bb94-e8c2-423b-954f-ec1e2c3b11f1\n",
      "Arquivo Sepulveda: 2 - 0294b600-8dbb-445a-88f3-b2d616c1959f\n",
      "Arquivo Sepulveda: 3 - d105edb3-5bbc-4b27-86a7-8f645dfd622d\n",
      "Arquivo Sepulveda: 4 - 98a5137c-0e8d-4d8c-b56b-ff44c97fc283\n"
     ]
    }
   ],
   "source": [
    "for i in dfFinal.index:\n",
    "    print('Arquivo Sepulveda: {0} - {1}'.format(i,dfFinal[i]))"
   ]
  }
 ],
 "metadata": {
  "kernelspec": {
   "display_name": "Python 3",
   "language": "python",
   "name": "python3"
  },
  "language_info": {
   "codemirror_mode": {
    "name": "ipython",
    "version": 3
   },
   "file_extension": ".py",
   "mimetype": "text/x-python",
   "name": "python",
   "nbconvert_exporter": "python",
   "pygments_lexer": "ipython3",
   "version": "3.8.8"
  }
 },
 "nbformat": 4,
 "nbformat_minor": 5
}
