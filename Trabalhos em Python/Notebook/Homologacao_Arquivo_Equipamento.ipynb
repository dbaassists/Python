{
 "cells": [
  {
   "cell_type": "code",
   "execution_count": 27,
   "id": "7f4e79f2",
   "metadata": {},
   "outputs": [],
   "source": [
    "import warnings\n",
    "import pandas as pd\n",
    "from pandas.core.common import SettingWithCopyWarning\n",
    "import numpy as np\n",
    "import json"
   ]
  },
  {
   "cell_type": "code",
   "execution_count": 28,
   "id": "cfd83194",
   "metadata": {},
   "outputs": [],
   "source": [
    "pd.options.display.max_rows = 999\n",
    "pd.options.display.max_columns=999\n",
    "warnings.simplefilter(action=\"ignore\", category=SettingWithCopyWarning)"
   ]
  },
  {
   "cell_type": "code",
   "execution_count": 29,
   "id": "713b7cba",
   "metadata": {},
   "outputs": [
    {
     "name": "stdout",
     "output_type": "stream",
     "text": [
      "C:\\Temp\\paramtanques.json\n"
     ]
    }
   ],
   "source": [
    "paramJson = \"C:\\\\Temp\\\\paramtanques.json\"\n",
    "print(paramJson)\n",
    "file = open(paramJson)\n",
    "dfJsonTanques = json.load(file)\n"
   ]
  },
  {
   "cell_type": "code",
   "execution_count": 30,
   "id": "3fe2450a",
   "metadata": {},
   "outputs": [],
   "source": [
    "def montaCampos(colunas):\n",
    "        \n",
    "    vcolunas = [] \n",
    "    vcolunasDataType = {}    \n",
    "    vvalor = 'str'\n",
    "\n",
    "    for indlistaCampos in colunas.split(sep=','):\n",
    "        if indlistaCampos != ',':        \n",
    "            vcolunas.append(indlistaCampos.strip())\n",
    "\n",
    "    for itemChave in range(len(vcolunas)):\n",
    "        vcolunasDataType[vcolunas[itemChave]] = vvalor\n",
    "\n",
    "    return vcolunas, vcolunasDataType\n"
   ]
  },
  {
   "cell_type": "code",
   "execution_count": 31,
   "id": "b62cd9b5",
   "metadata": {},
   "outputs": [],
   "source": [
    "colunas = dfJsonTanques['EquipamentoDescricao']['colunas']\n",
    "vcolunas,vcolunasDataType = montaCampos(colunas)\n",
    "\n",
    "arquivoTipoEquipamento = 'C:\\\\Temp\\\\0EQUIPMENT_TEXT.20220613.102805'\n",
    "\n",
    "dfEquipamentoDescricaoAntesCorrecao = pd.read_csv(arquivoTipoEquipamento\n",
    "                                , sep=';'\n",
    "                                ,names=vcolunas\n",
    "                                ,dtype=vcolunasDataType)\n"
   ]
  },
  {
   "cell_type": "code",
   "execution_count": 32,
   "id": "f172e3c9",
   "metadata": {},
   "outputs": [],
   "source": [
    "colunas = dfJsonTanques['EquipamentoDescricao']['colunas']\n",
    "vcolunas,vcolunasDataType = montaCampos(colunas)\n",
    "\n",
    "arquivoTipoEquipamento = 'C:\\\\Temp\\\\0EQUIPMENT_TEXT.20220706.164921'\n",
    "\n",
    "dfEquipamentoDescricaoPosCorrecao = pd.read_csv(arquivoTipoEquipamento\n",
    "                                , sep=';'\n",
    "                                ,names=vcolunas\n",
    "                                ,dtype=vcolunasDataType)\n",
    "\n",
    "dfEquipamentoDescricaoPosCorrecao.rename(columns={'TXTMD':'NomEquipamento_POS_RDM'},inplace=True)"
   ]
  },
  {
   "cell_type": "code",
   "execution_count": 33,
   "id": "7a562a35",
   "metadata": {},
   "outputs": [],
   "source": [
    "arquivoEquipamentoDivergente = 'C:\\\\Temp\\\\tanques\\\\NomEquipamento x TipoEquipamento.xlsx'\n",
    "\n",
    "dfEquipamentoDivergente = pd.read_excel(arquivoEquipamentoDivergente, sheet_name='Planilha1')\n",
    "\n",
    "dfEquipamentoDivergente['CodEquipamento'] = pd.Series(dfEquipamentoDivergente['CodEquipamento']).astype(str).str.zfill(18) \n",
    "\n",
    "dfEquipamentoDivergente['CodEquipamento'].count()\n",
    "\n",
    "dfEquipamentoDivergente.rename(columns={'NomEquipamento':'NomEquipamento_ARQUIVO_PAIVA'},inplace=True)\n"
   ]
  },
  {
   "cell_type": "code",
   "execution_count": 34,
   "id": "692dca14",
   "metadata": {},
   "outputs": [],
   "source": [
    "resultEquipamentoDescricao =  pd.merge(left=dfEquipamentoDivergente\n",
    "                                              , right=dfEquipamentoDescricaoPosCorrecao\n",
    "                                              , left_on='CodEquipamento'\n",
    "                                              , right_on='EQUIPMENT'\n",
    "                                               , how=\"left\"\n",
    "                                    )"
   ]
  },
  {
   "cell_type": "code",
   "execution_count": 35,
   "id": "7e05c649",
   "metadata": {},
   "outputs": [],
   "source": [
    "resultEquipamentoDescricao[['CodEquipamento','NomEquipamento_ARQUIVO_PAIVA','NomEquipamento_POS_RDM']].to_csv('acerto_equipamento.csv',sep=';', index=False)"
   ]
  },
  {
   "cell_type": "code",
   "execution_count": 36,
   "id": "be03ad2b",
   "metadata": {},
   "outputs": [],
   "source": [
    "#arquivo = 'C:\\\\Temp\\\\0EQUIPMENT_ATTR.20220614.161706'\n",
    "\n",
    "#equipATTR = pd.read_csv(arquivo, sep=';', low_memory=False, index_col=False)"
   ]
  },
  {
   "cell_type": "code",
   "execution_count": 37,
   "id": "0929cfa1",
   "metadata": {},
   "outputs": [],
   "source": [
    "#equipATTR[equipATTR['Unnamed: 0'] =='000000000010124763']"
   ]
  }
 ],
 "metadata": {
  "kernelspec": {
   "display_name": "Python 3",
   "language": "python",
   "name": "python3"
  },
  "language_info": {
   "codemirror_mode": {
    "name": "ipython",
    "version": 3
   },
   "file_extension": ".py",
   "mimetype": "text/x-python",
   "name": "python",
   "nbconvert_exporter": "python",
   "pygments_lexer": "ipython3",
   "version": "3.8.8"
  }
 },
 "nbformat": 4,
 "nbformat_minor": 5
}
