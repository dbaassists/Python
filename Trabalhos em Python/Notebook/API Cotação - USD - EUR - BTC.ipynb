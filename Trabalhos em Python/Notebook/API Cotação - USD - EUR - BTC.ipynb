{
 "cells": [
  {
   "cell_type": "code",
   "execution_count": 1,
   "id": "2c1ac9bc",
   "metadata": {},
   "outputs": [],
   "source": [
    "import requests"
   ]
  },
  {
   "cell_type": "code",
   "execution_count": 2,
   "id": "ba2d4da3",
   "metadata": {},
   "outputs": [
    {
     "name": "stdout",
     "output_type": "stream",
     "text": [
      "O Valor do Dolar hoje é R$5.062\n",
      "O Valor do Euro hoje é R$5.5318\n",
      "O Valor do Bitcoin hoje é R$200.25\n"
     ]
    }
   ],
   "source": [
    "def main():\n",
    "    r = requests.get('https://economia.awesomeapi.com.br/all')\n",
    "    if r.status_code == 200:\n",
    "        valor_dolar = r.json()['USD']['bid']\n",
    "        print(f'O Valor do Dolar hoje é R${valor_dolar}')\n",
    "        valor_euro = r.json()['EUR']['bid']\n",
    "        print(f'O Valor do Euro hoje é R${valor_euro}')\n",
    "        valor_btc = r.json()['BTC']['low']\n",
    "        print(f'O Valor do Bitcoin hoje é R${valor_btc}')\n",
    "    else:\n",
    "        print(f'Ocorreu um erro ao acessar a API {r.status_code}')\n",
    "        \n",
    "if __name__=='__main__':\n",
    "    main()"
   ]
  }
 ],
 "metadata": {
  "kernelspec": {
   "display_name": "Python 3 (ipykernel)",
   "language": "python",
   "name": "python3"
  },
  "language_info": {
   "codemirror_mode": {
    "name": "ipython",
    "version": 3
   },
   "file_extension": ".py",
   "mimetype": "text/x-python",
   "name": "python",
   "nbconvert_exporter": "python",
   "pygments_lexer": "ipython3",
   "version": "3.9.7"
  }
 },
 "nbformat": 4,
 "nbformat_minor": 5
}
