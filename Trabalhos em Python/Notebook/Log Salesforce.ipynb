{
 "cells": [
  {
   "cell_type": "code",
   "execution_count": 9,
   "id": "cbbe6b49",
   "metadata": {},
   "outputs": [],
   "source": [
    "import warnings\n",
    "import pandas as pd\n",
    "import sqlalchemy\n",
    "import pymysql\n",
    "from pandas.core.common import SettingWithCopyWarning\n",
    "import numpy as np\n",
    "import json"
   ]
  },
  {
   "cell_type": "code",
   "execution_count": 40,
   "id": "f4adbbed",
   "metadata": {},
   "outputs": [],
   "source": [
    "pd.options.display.max_rows = 999\n",
    "pd.options.display.max_columns=999\n",
    "warnings.simplefilter(action=\"ignore\", category=SettingWithCopyWarning)\n",
    "pd.set_option('display.max_colwidth', 150)\n",
    "pd.set_option('display.max_columns', 150)"
   ]
  },
  {
   "cell_type": "code",
   "execution_count": 41,
   "id": "1a5c158d",
   "metadata": {},
   "outputs": [
    {
     "data": {
      "text/html": [
       "<div>\n",
       "<style scoped>\n",
       "    .dataframe tbody tr th:only-of-type {\n",
       "        vertical-align: middle;\n",
       "    }\n",
       "\n",
       "    .dataframe tbody tr th {\n",
       "        vertical-align: top;\n",
       "    }\n",
       "\n",
       "    .dataframe thead th {\n",
       "        text-align: right;\n",
       "    }\n",
       "</style>\n",
       "<table border=\"1\" class=\"dataframe\">\n",
       "  <thead>\n",
       "    <tr style=\"text-align: right;\">\n",
       "      <th></th>\n",
       "      <th>OperationItem</th>\n",
       "      <th>Message</th>\n",
       "    </tr>\n",
       "  </thead>\n",
       "  <tbody>\n",
       "    <tr>\n",
       "      <th>0</th>\n",
       "      <td>\"FORTALEZA\",\"BR\",\"60860-000\",\"CE\",\"AV ALBERTO CRAVEIRO 507 DIAS MACEDO \",\"60860-000\",\"0001044913\",\"0001044913\",\"069149771\",\"ISENTO\",\"\",\"0000000000...</td>\n",
       "      <td>FIELD_CUSTOM_VALIDATION_EXCEPTION:Não é possível editar uma conta VDG ativa sem um contato com o campo \"Classificação do contato\" como \"Entrega\":--</td>\n",
       "    </tr>\n",
       "    <tr>\n",
       "      <th>1</th>\n",
       "      <td>\"FORTALEZA\",\"BR\",\"60860-000\",\"CE\",\"AV ALBERTO CRAVEIRO 2329 DIAS MACEDO \",\"60860-000\",\"0001041845\",\"0001041845\",\"062140582\",\"ISENTO\",\"\",\"000000000...</td>\n",
       "      <td>FIELD_FILTER_VALIDATION_EXCEPTION:O Centro Fornecedor deve ser ativo:Estabelecimento_Unidade_de_Negocio_SHV__c --</td>\n",
       "    </tr>\n",
       "    <tr>\n",
       "      <th>2</th>\n",
       "      <td>\"NATAL\",\"BR\",\"59082-300\",\"RN\",\"R ALCINDO D DE OLIVEIRA 348 CAPIM MACIO \",\"59082-300\",\"0000914324\",\"0000914324\",\"200719548\",\"ISENTO\",\"\",\"0000000000...</td>\n",
       "      <td>FIELD_FILTER_VALIDATION_EXCEPTION:O Centro Fornecedor deve ser ativo:Estabelecimento_Unidade_de_Negocio_SHV__c --</td>\n",
       "    </tr>\n",
       "    <tr>\n",
       "      <th>3</th>\n",
       "      <td>\"NATAL\",\"BR\",\"59092-100\",\"RN\",\"AV ENG ROBERTO FREIRE 2107 PONTA NEGRA \",\"59092-100\",\"0000913022\",\"0000913022\",\"ISENTO\",\"ISENTO\",\"\",\"00000000000000...</td>\n",
       "      <td>FIELD_FILTER_VALIDATION_EXCEPTION:O Centro Fornecedor deve ser ativo:Estabelecimento_Unidade_de_Negocio_SHV__c --</td>\n",
       "    </tr>\n",
       "  </tbody>\n",
       "</table>\n",
       "</div>"
      ],
      "text/plain": [
       "                                                                                                                                           OperationItem  \\\n",
       "0  \"FORTALEZA\",\"BR\",\"60860-000\",\"CE\",\"AV ALBERTO CRAVEIRO 507 DIAS MACEDO \",\"60860-000\",\"0001044913\",\"0001044913\",\"069149771\",\"ISENTO\",\"\",\"0000000000...   \n",
       "1  \"FORTALEZA\",\"BR\",\"60860-000\",\"CE\",\"AV ALBERTO CRAVEIRO 2329 DIAS MACEDO \",\"60860-000\",\"0001041845\",\"0001041845\",\"062140582\",\"ISENTO\",\"\",\"000000000...   \n",
       "2  \"NATAL\",\"BR\",\"59082-300\",\"RN\",\"R ALCINDO D DE OLIVEIRA 348 CAPIM MACIO \",\"59082-300\",\"0000914324\",\"0000914324\",\"200719548\",\"ISENTO\",\"\",\"0000000000...   \n",
       "3  \"NATAL\",\"BR\",\"59092-100\",\"RN\",\"AV ENG ROBERTO FREIRE 2107 PONTA NEGRA \",\"59092-100\",\"0000913022\",\"0000913022\",\"ISENTO\",\"ISENTO\",\"\",\"00000000000000...   \n",
       "\n",
       "                                                                                                                                               Message  \n",
       "0  FIELD_CUSTOM_VALIDATION_EXCEPTION:Não é possível editar uma conta VDG ativa sem um contato com o campo \"Classificação do contato\" como \"Entrega\":--  \n",
       "1                                    FIELD_FILTER_VALIDATION_EXCEPTION:O Centro Fornecedor deve ser ativo:Estabelecimento_Unidade_de_Negocio_SHV__c --  \n",
       "2                                    FIELD_FILTER_VALIDATION_EXCEPTION:O Centro Fornecedor deve ser ativo:Estabelecimento_Unidade_de_Negocio_SHV__c --  \n",
       "3                                    FIELD_FILTER_VALIDATION_EXCEPTION:O Centro Fornecedor deve ser ativo:Estabelecimento_Unidade_de_Negocio_SHV__c --  "
      ]
     },
     "execution_count": 41,
     "metadata": {},
     "output_type": "execute_result"
    }
   ],
   "source": [
    "arquivo = 'C:\\\\Temp\\\\97d3f35c-6fda-c0d9-9fa0-2a186978875f_0.txt'\n",
    "\n",
    "df = pd.read_csv(arquivo)\n",
    "\n",
    "df[['OperationItem','Message']]\n",
    "\n",
    "\n"
   ]
  },
  {
   "cell_type": "code",
   "execution_count": 23,
   "id": "ae261568",
   "metadata": {},
   "outputs": [],
   "source": [
    "dfz = df.assign(Column1 = df['OperationItem'].str.split(',')).explode('OperationItem')"
   ]
  },
  {
   "cell_type": "code",
   "execution_count": 32,
   "id": "e40baf3d",
   "metadata": {},
   "outputs": [],
   "source": [
    "#df['OperationItem'].str.split(', ')\n",
    "\n",
    "mylist = df['OperationItem'].replace(' ','').str.split(',')"
   ]
  },
  {
   "cell_type": "code",
   "execution_count": 36,
   "id": "b3207747",
   "metadata": {},
   "outputs": [
    {
     "ename": "KeyError",
     "evalue": "'7'",
     "output_type": "error",
     "traceback": [
      "\u001b[1;31m---------------------------------------------------------------------------\u001b[0m",
      "\u001b[1;31mKeyError\u001b[0m                                  Traceback (most recent call last)",
      "\u001b[1;32m<ipython-input-36-c46b388e0d0b>\u001b[0m in \u001b[0;36m<module>\u001b[1;34m\u001b[0m\n\u001b[1;32m----> 1\u001b[1;33m \u001b[0mmylist\u001b[0m\u001b[1;33m[\u001b[0m\u001b[1;34m'7'\u001b[0m\u001b[1;33m]\u001b[0m\u001b[1;33m\u001b[0m\u001b[1;33m\u001b[0m\u001b[0m\n\u001b[0m",
      "\u001b[1;32mC:\\ProgramData\\Anaconda3\\lib\\site-packages\\pandas\\core\\series.py\u001b[0m in \u001b[0;36m__getitem__\u001b[1;34m(self, key)\u001b[0m\n\u001b[0;32m    851\u001b[0m \u001b[1;33m\u001b[0m\u001b[0m\n\u001b[0;32m    852\u001b[0m         \u001b[1;32melif\u001b[0m \u001b[0mkey_is_scalar\u001b[0m\u001b[1;33m:\u001b[0m\u001b[1;33m\u001b[0m\u001b[1;33m\u001b[0m\u001b[0m\n\u001b[1;32m--> 853\u001b[1;33m             \u001b[1;32mreturn\u001b[0m \u001b[0mself\u001b[0m\u001b[1;33m.\u001b[0m\u001b[0m_get_value\u001b[0m\u001b[1;33m(\u001b[0m\u001b[0mkey\u001b[0m\u001b[1;33m)\u001b[0m\u001b[1;33m\u001b[0m\u001b[1;33m\u001b[0m\u001b[0m\n\u001b[0m\u001b[0;32m    854\u001b[0m \u001b[1;33m\u001b[0m\u001b[0m\n\u001b[0;32m    855\u001b[0m         \u001b[1;32mif\u001b[0m \u001b[0mis_hashable\u001b[0m\u001b[1;33m(\u001b[0m\u001b[0mkey\u001b[0m\u001b[1;33m)\u001b[0m\u001b[1;33m:\u001b[0m\u001b[1;33m\u001b[0m\u001b[1;33m\u001b[0m\u001b[0m\n",
      "\u001b[1;32mC:\\ProgramData\\Anaconda3\\lib\\site-packages\\pandas\\core\\series.py\u001b[0m in \u001b[0;36m_get_value\u001b[1;34m(self, label, takeable)\u001b[0m\n\u001b[0;32m    959\u001b[0m \u001b[1;33m\u001b[0m\u001b[0m\n\u001b[0;32m    960\u001b[0m         \u001b[1;31m# Similar to Index.get_value, but we do not fall back to positional\u001b[0m\u001b[1;33m\u001b[0m\u001b[1;33m\u001b[0m\u001b[1;33m\u001b[0m\u001b[0m\n\u001b[1;32m--> 961\u001b[1;33m         \u001b[0mloc\u001b[0m \u001b[1;33m=\u001b[0m \u001b[0mself\u001b[0m\u001b[1;33m.\u001b[0m\u001b[0mindex\u001b[0m\u001b[1;33m.\u001b[0m\u001b[0mget_loc\u001b[0m\u001b[1;33m(\u001b[0m\u001b[0mlabel\u001b[0m\u001b[1;33m)\u001b[0m\u001b[1;33m\u001b[0m\u001b[1;33m\u001b[0m\u001b[0m\n\u001b[0m\u001b[0;32m    962\u001b[0m         \u001b[1;32mreturn\u001b[0m \u001b[0mself\u001b[0m\u001b[1;33m.\u001b[0m\u001b[0mindex\u001b[0m\u001b[1;33m.\u001b[0m\u001b[0m_get_values_for_loc\u001b[0m\u001b[1;33m(\u001b[0m\u001b[0mself\u001b[0m\u001b[1;33m,\u001b[0m \u001b[0mloc\u001b[0m\u001b[1;33m,\u001b[0m \u001b[0mlabel\u001b[0m\u001b[1;33m)\u001b[0m\u001b[1;33m\u001b[0m\u001b[1;33m\u001b[0m\u001b[0m\n\u001b[0;32m    963\u001b[0m \u001b[1;33m\u001b[0m\u001b[0m\n",
      "\u001b[1;32mC:\\ProgramData\\Anaconda3\\lib\\site-packages\\pandas\\core\\indexes\\range.py\u001b[0m in \u001b[0;36mget_loc\u001b[1;34m(self, key, method, tolerance)\u001b[0m\n\u001b[0;32m    352\u001b[0m                 \u001b[1;32mexcept\u001b[0m \u001b[0mValueError\u001b[0m \u001b[1;32mas\u001b[0m \u001b[0merr\u001b[0m\u001b[1;33m:\u001b[0m\u001b[1;33m\u001b[0m\u001b[1;33m\u001b[0m\u001b[0m\n\u001b[0;32m    353\u001b[0m                     \u001b[1;32mraise\u001b[0m \u001b[0mKeyError\u001b[0m\u001b[1;33m(\u001b[0m\u001b[0mkey\u001b[0m\u001b[1;33m)\u001b[0m \u001b[1;32mfrom\u001b[0m \u001b[0merr\u001b[0m\u001b[1;33m\u001b[0m\u001b[1;33m\u001b[0m\u001b[0m\n\u001b[1;32m--> 354\u001b[1;33m             \u001b[1;32mraise\u001b[0m \u001b[0mKeyError\u001b[0m\u001b[1;33m(\u001b[0m\u001b[0mkey\u001b[0m\u001b[1;33m)\u001b[0m\u001b[1;33m\u001b[0m\u001b[1;33m\u001b[0m\u001b[0m\n\u001b[0m\u001b[0;32m    355\u001b[0m         \u001b[1;32mreturn\u001b[0m \u001b[0msuper\u001b[0m\u001b[1;33m(\u001b[0m\u001b[1;33m)\u001b[0m\u001b[1;33m.\u001b[0m\u001b[0mget_loc\u001b[0m\u001b[1;33m(\u001b[0m\u001b[0mkey\u001b[0m\u001b[1;33m,\u001b[0m \u001b[0mmethod\u001b[0m\u001b[1;33m=\u001b[0m\u001b[0mmethod\u001b[0m\u001b[1;33m,\u001b[0m \u001b[0mtolerance\u001b[0m\u001b[1;33m=\u001b[0m\u001b[0mtolerance\u001b[0m\u001b[1;33m)\u001b[0m\u001b[1;33m\u001b[0m\u001b[1;33m\u001b[0m\u001b[0m\n\u001b[0;32m    356\u001b[0m \u001b[1;33m\u001b[0m\u001b[0m\n",
      "\u001b[1;31mKeyError\u001b[0m: '7'"
     ]
    }
   ],
   "source": []
  }
 ],
 "metadata": {
  "kernelspec": {
   "display_name": "Python 3",
   "language": "python",
   "name": "python3"
  },
  "language_info": {
   "codemirror_mode": {
    "name": "ipython",
    "version": 3
   },
   "file_extension": ".py",
   "mimetype": "text/x-python",
   "name": "python",
   "nbconvert_exporter": "python",
   "pygments_lexer": "ipython3",
   "version": "3.8.8"
  }
 },
 "nbformat": 4,
 "nbformat_minor": 5
}
