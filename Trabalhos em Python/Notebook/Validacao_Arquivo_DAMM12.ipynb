{
 "cells": [
  {
   "cell_type": "code",
   "execution_count": 3,
   "id": "b7464bfe",
   "metadata": {},
   "outputs": [],
   "source": [
    "import warnings\n",
    "import pandas as pd\n",
    "from pandas.core.common import SettingWithCopyWarning\n",
    "import numpy as np\n",
    "import json"
   ]
  },
  {
   "cell_type": "code",
   "execution_count": 4,
   "id": "33430503",
   "metadata": {},
   "outputs": [],
   "source": [
    "pd.options.display.max_rows = 999\n",
    "pd.options.display.max_columns=999\n",
    "warnings.simplefilter(action=\"ignore\", category=SettingWithCopyWarning)"
   ]
  },
  {
   "cell_type": "code",
   "execution_count": 5,
   "id": "e33d2948",
   "metadata": {},
   "outputs": [],
   "source": [
    "arquivo = 'C:\\\\Temp\\\\OP_DAMM12\\\\OP_DAMM12_20220815.txt'\n",
    "\n",
    "dfPVOMaterial = pd.read_csv(arquivo, sep=';',low_memory=False)"
   ]
  },
  {
   "cell_type": "code",
   "execution_count": 6,
   "id": "4b07e993",
   "metadata": {},
   "outputs": [
    {
     "data": {
      "text/html": [
       "<div>\n",
       "<style scoped>\n",
       "    .dataframe tbody tr th:only-of-type {\n",
       "        vertical-align: middle;\n",
       "    }\n",
       "\n",
       "    .dataframe tbody tr th {\n",
       "        vertical-align: top;\n",
       "    }\n",
       "\n",
       "    .dataframe thead th {\n",
       "        text-align: right;\n",
       "    }\n",
       "</style>\n",
       "<table border=\"1\" class=\"dataframe\">\n",
       "  <thead>\n",
       "    <tr style=\"text-align: right;\">\n",
       "      <th></th>\n",
       "      <th>OHREQUID</th>\n",
       "      <th>DATAPAKID</th>\n",
       "      <th>RECORD</th>\n",
       "      <th>MATERIAL</th>\n",
       "      <th>PLANT</th>\n",
       "      <th>STOR_LOC</th>\n",
       "      <th>MATL_TYPE</th>\n",
       "      <th>BASE_UOM</th>\n",
       "      <th>/BIC/OG_MATNR</th>\n",
       "      <th>TXTSH</th>\n",
       "      <th>MATL_GROUP</th>\n",
       "      <th>/BIC/CH_MAKTX</th>\n",
       "      <th>PUR_GROUP</th>\n",
       "    </tr>\n",
       "  </thead>\n",
       "  <tbody>\n",
       "    <tr>\n",
       "      <th>18512</th>\n",
       "      <td>396998</td>\n",
       "      <td>1</td>\n",
       "      <td>18513</td>\n",
       "      <td>2000006405</td>\n",
       "      <td>1098</td>\n",
       "      <td>GBUT</td>\n",
       "      <td>ZHIB</td>\n",
       "      <td>UN</td>\n",
       "      <td>NaN</td>\n",
       "      <td>NaN</td>\n",
       "      <td>FROTA0004</td>\n",
       "      <td>FROTA; CONTRASTE AR CONDICIONADO AUTOMOT</td>\n",
       "      <td>B06</td>\n",
       "    </tr>\n",
       "    <tr>\n",
       "      <th>18525</th>\n",
       "      <td>396998</td>\n",
       "      <td>1</td>\n",
       "      <td>18529</td>\n",
       "      <td>2000006405</td>\n",
       "      <td>1331</td>\n",
       "      <td>CHEI</td>\n",
       "      <td>ZHIB</td>\n",
       "      <td>UN</td>\n",
       "      <td>NaN</td>\n",
       "      <td>NaN</td>\n",
       "      <td>FROTA0004</td>\n",
       "      <td>FROTA; CONTRASTE AR CONDICIONADO AUTOMOT</td>\n",
       "      <td>B06</td>\n",
       "    </tr>\n",
       "  </tbody>\n",
       "</table>\n",
       "</div>"
      ],
      "text/plain": [
       "       OHREQUID  DATAPAKID  RECORD    MATERIAL  PLANT STOR_LOC MATL_TYPE  \\\n",
       "18512    396998          1   18513  2000006405   1098     GBUT      ZHIB   \n",
       "18525    396998          1   18529  2000006405   1331     CHEI      ZHIB   \n",
       "\n",
       "      BASE_UOM /BIC/OG_MATNR TXTSH MATL_GROUP  \\\n",
       "18512       UN           NaN   NaN  FROTA0004   \n",
       "18525       UN           NaN   NaN  FROTA0004   \n",
       "\n",
       "                                  /BIC/CH_MAKTX PUR_GROUP  \n",
       "18512  FROTA; CONTRASTE AR CONDICIONADO AUTOMOT       B06  \n",
       "18525  FROTA; CONTRASTE AR CONDICIONADO AUTOMOT       B06  "
      ]
     },
     "execution_count": 6,
     "metadata": {},
     "output_type": "execute_result"
    }
   ],
   "source": [
    "dfPVOMaterial[dfPVOMaterial['MATERIAL']==2000006405].head(2)"
   ]
  },
  {
   "cell_type": "code",
   "execution_count": 7,
   "id": "69cd11fc",
   "metadata": {},
   "outputs": [],
   "source": [
    "dfPVOMaterialUnico =  dfPVOMaterial[\n",
    "['MATERIAL'\n",
    ",'MATL_TYPE'\n",
    ",'/BIC/CH_MAKTX'\n",
    ",'BASE_UOM'\n",
    ",'MATL_GROUP'\n",
    ",'TXTSH'\n",
    ",'PUR_GROUP']].drop_duplicates(['MATERIAL'\n",
    ",'MATL_TYPE'\n",
    ",'/BIC/CH_MAKTX'\n",
    ",'BASE_UOM'\n",
    ",'MATL_GROUP'\n",
    ",'TXTSH'\n",
    ",'PUR_GROUP'])"
   ]
  },
  {
   "cell_type": "code",
   "execution_count": 8,
   "id": "6b968eca",
   "metadata": {},
   "outputs": [],
   "source": [
    "#dfPVOMaterialUnico.to_csv('op_damm12.csv',sep=';',index=False)"
   ]
  },
  {
   "cell_type": "code",
   "execution_count": 11,
   "id": "0eba1b74",
   "metadata": {},
   "outputs": [
    {
     "data": {
      "text/html": [
       "<div>\n",
       "<style scoped>\n",
       "    .dataframe tbody tr th:only-of-type {\n",
       "        vertical-align: middle;\n",
       "    }\n",
       "\n",
       "    .dataframe tbody tr th {\n",
       "        vertical-align: top;\n",
       "    }\n",
       "\n",
       "    .dataframe thead th {\n",
       "        text-align: right;\n",
       "    }\n",
       "</style>\n",
       "<table border=\"1\" class=\"dataframe\">\n",
       "  <thead>\n",
       "    <tr style=\"text-align: right;\">\n",
       "      <th></th>\n",
       "      <th>MATERIAL</th>\n",
       "      <th>MATL_TYPE</th>\n",
       "      <th>/BIC/CH_MAKTX</th>\n",
       "      <th>BASE_UOM</th>\n",
       "      <th>MATL_GROUP</th>\n",
       "      <th>TXTSH</th>\n",
       "      <th>PUR_GROUP</th>\n",
       "    </tr>\n",
       "  </thead>\n",
       "  <tbody>\n",
       "    <tr>\n",
       "      <th>613</th>\n",
       "      <td>906693</td>\n",
       "      <td>ZUNB</td>\n",
       "      <td>VAPORIZADOR; AC; 220/380/440V</td>\n",
       "      <td>UN</td>\n",
       "      <td>CAPEX0021</td>\n",
       "      <td>Capex</td>\n",
       "      <td>B07</td>\n",
       "    </tr>\n",
       "  </tbody>\n",
       "</table>\n",
       "</div>"
      ],
      "text/plain": [
       "     MATERIAL MATL_TYPE                  /BIC/CH_MAKTX BASE_UOM MATL_GROUP  \\\n",
       "613    906693      ZUNB  VAPORIZADOR; AC; 220/380/440V       UN  CAPEX0021   \n",
       "\n",
       "     TXTSH PUR_GROUP  \n",
       "613  Capex       B07  "
      ]
     },
     "execution_count": 11,
     "metadata": {},
     "output_type": "execute_result"
    }
   ],
   "source": [
    "dfPVOMaterialUnico[dfPVOMaterialUnico['MATERIAL']==906693]"
   ]
  }
 ],
 "metadata": {
  "kernelspec": {
   "display_name": "Python 3",
   "language": "python",
   "name": "python3"
  },
  "language_info": {
   "codemirror_mode": {
    "name": "ipython",
    "version": 3
   },
   "file_extension": ".py",
   "mimetype": "text/x-python",
   "name": "python",
   "nbconvert_exporter": "python",
   "pygments_lexer": "ipython3",
   "version": "3.8.8"
  }
 },
 "nbformat": 4,
 "nbformat_minor": 5
}
