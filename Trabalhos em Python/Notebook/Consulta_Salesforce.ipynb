{
 "cells": [
  {
   "cell_type": "code",
   "execution_count": 28,
   "id": "580a8f99",
   "metadata": {},
   "outputs": [],
   "source": [
    "import json\n",
    "import datetime\n",
    "import pandas as pd\n",
    "from simple_salesforce import Salesforce, SalesforceLogin, SFType"
   ]
  },
  {
   "cell_type": "markdown",
   "id": "0f735d5b",
   "metadata": {},
   "source": [
    "#pip install simple_salesforce"
   ]
  },
  {
   "cell_type": "code",
   "execution_count": 29,
   "id": "f765ea42",
   "metadata": {},
   "outputs": [],
   "source": [
    "username='etlshv@supergasbras.com.br', \n",
    "password='Super2020', \n",
    "security_token='2yY5vNvSMICU35NLeEjGAqtSJ'"
   ]
  },
  {
   "cell_type": "code",
   "execution_count": 30,
   "id": "ff95a69e",
   "metadata": {},
   "outputs": [],
   "source": [
    "sf = Salesforce(\n",
    "username='etlshv@supergasbras.com.br', \n",
    "password='Super2020', \n",
    "security_token='2yY5vNvSMICU35NLeEjGAqtSJ')"
   ]
  },
  {
   "cell_type": "code",
   "execution_count": 31,
   "id": "c37b1ab7",
   "metadata": {},
   "outputs": [],
   "source": [
    "#loginInfo = json.load(open('login.json'))\n",
    "username = username #loginInfo['username']\n",
    "password = password #loginInfo['password']\n",
    "security_token = security_token #loginInfo['security_token']\n",
    "domain = 'login'"
   ]
  },
  {
   "cell_type": "code",
   "execution_count": 32,
   "id": "e3155eb0",
   "metadata": {},
   "outputs": [],
   "source": [
    "session_id, instance = SalesforceLogin(username='etlshv@supergasbras.com.br', password='Super2020', security_token='2yY5vNvSMICU35NLeEjGAqtSJ', domain=domain)\n",
    "sf = Salesforce(instance=instance, session_id=session_id)"
   ]
  },
  {
   "cell_type": "code",
   "execution_count": 34,
   "id": "c388d98e",
   "metadata": {},
   "outputs": [],
   "source": [
    "sf_data = sf.query_all(\"\"\"\n",
    "SELECT Id, AccountId, Subtipo_do_Caso__c,CreatedDate,Status,Description\n",
    "\n",
    "\n",
    "FROM Case \n",
    "\n",
    "where idRespostaQuestao__c IN (\n",
    "'000014321042 - 0002',\n",
    "'000014396589 - 0015',\n",
    "'000014321540 - 0010')\n",
    "\n",
    "\"\"\")"
   ]
  },
  {
   "cell_type": "code",
   "execution_count": 35,
   "id": "883211ef",
   "metadata": {},
   "outputs": [],
   "source": [
    "sf_df = pd.DataFrame(sf_data['records']).drop(columns='attributes')"
   ]
  },
  {
   "cell_type": "code",
   "execution_count": 36,
   "id": "aa1848dc",
   "metadata": {},
   "outputs": [
    {
     "data": {
      "text/html": [
       "<div>\n",
       "<style scoped>\n",
       "    .dataframe tbody tr th:only-of-type {\n",
       "        vertical-align: middle;\n",
       "    }\n",
       "\n",
       "    .dataframe tbody tr th {\n",
       "        vertical-align: top;\n",
       "    }\n",
       "\n",
       "    .dataframe thead th {\n",
       "        text-align: right;\n",
       "    }\n",
       "</style>\n",
       "<table border=\"1\" class=\"dataframe\">\n",
       "  <thead>\n",
       "    <tr style=\"text-align: right;\">\n",
       "      <th></th>\n",
       "      <th>Id</th>\n",
       "      <th>AccountId</th>\n",
       "      <th>Subtipo_do_Caso__c</th>\n",
       "      <th>CreatedDate</th>\n",
       "      <th>Status</th>\n",
       "      <th>Description</th>\n",
       "    </tr>\n",
       "  </thead>\n",
       "  <tbody>\n",
       "    <tr>\n",
       "      <th>0</th>\n",
       "      <td>5004z00001eiHBGAA2</td>\n",
       "      <td>0011Y00002kKQOuQAO</td>\n",
       "      <td>Instalações</td>\n",
       "      <td>2022-06-02T19:21:36.000+0000</td>\n",
       "      <td>Aberto</td>\n",
       "      <td>* Nota SAP: 000014396589\\n\u000f * Data Entrada: 12...</td>\n",
       "    </tr>\n",
       "    <tr>\n",
       "      <th>1</th>\n",
       "      <td>5004z00001eiHCdAAM</td>\n",
       "      <td>0011Y00002q5DCDQA2</td>\n",
       "      <td>Instalações</td>\n",
       "      <td>2022-06-02T19:21:36.000+0000</td>\n",
       "      <td>Fechado</td>\n",
       "      <td>* Nota SAP: 000014321540\\n\u000f * Data Entrada: 13...</td>\n",
       "    </tr>\n",
       "    <tr>\n",
       "      <th>2</th>\n",
       "      <td>5004z00001g8ZhmAAE</td>\n",
       "      <td>0011Y00002q5DCDQA2</td>\n",
       "      <td>Instalações</td>\n",
       "      <td>2022-07-27T17:43:18.000+0000</td>\n",
       "      <td>Aberto</td>\n",
       "      <td>* Nota SAP: 000014321540\\n\u000f * Data Entrada: 13...</td>\n",
       "    </tr>\n",
       "    <tr>\n",
       "      <th>3</th>\n",
       "      <td>5004z00001g8ZgPAAU</td>\n",
       "      <td>0011Y00002kKQOuQAO</td>\n",
       "      <td>Instalações</td>\n",
       "      <td>2022-07-27T17:43:18.000+0000</td>\n",
       "      <td>Aberto</td>\n",
       "      <td>* Nota SAP: 000014396589\\n\u000f * Data Entrada: 12...</td>\n",
       "    </tr>\n",
       "    <tr>\n",
       "      <th>4</th>\n",
       "      <td>5004z00001g8ZpIAAU</td>\n",
       "      <td>0011Y00003CwPicQAF</td>\n",
       "      <td>RCC</td>\n",
       "      <td>2022-07-27T17:44:42.000+0000</td>\n",
       "      <td>Fechado</td>\n",
       "      <td>* Nota SAP: 000014321042\\n\u000f * Data Entrada: 13...</td>\n",
       "    </tr>\n",
       "    <tr>\n",
       "      <th>5</th>\n",
       "      <td>5004z00001g8Zs6AAE</td>\n",
       "      <td>0011Y00002kKQOuQAO</td>\n",
       "      <td>Instalações</td>\n",
       "      <td>2022-07-27T17:45:43.000+0000</td>\n",
       "      <td>Aberto</td>\n",
       "      <td>* Nota SAP: 000014396589\\n\u000f * Data Entrada: 12...</td>\n",
       "    </tr>\n",
       "    <tr>\n",
       "      <th>6</th>\n",
       "      <td>5004z00001g8ZtTAAU</td>\n",
       "      <td>0011Y00002q5DCDQA2</td>\n",
       "      <td>Instalações</td>\n",
       "      <td>2022-07-27T17:45:43.000+0000</td>\n",
       "      <td>Aberto</td>\n",
       "      <td>* Nota SAP: 000014321540\\n\u000f * Data Entrada: 13...</td>\n",
       "    </tr>\n",
       "    <tr>\n",
       "      <th>7</th>\n",
       "      <td>5004z00001g8a0fAAA</td>\n",
       "      <td>0011Y00003CwPicQAF</td>\n",
       "      <td>RCC</td>\n",
       "      <td>2022-07-27T17:46:43.000+0000</td>\n",
       "      <td>Fechado</td>\n",
       "      <td>* Nota SAP: 000014321042\\n\u000f * Data Entrada: 13...</td>\n",
       "    </tr>\n",
       "  </tbody>\n",
       "</table>\n",
       "</div>"
      ],
      "text/plain": [
       "                   Id           AccountId Subtipo_do_Caso__c  \\\n",
       "0  5004z00001eiHBGAA2  0011Y00002kKQOuQAO        Instalações   \n",
       "1  5004z00001eiHCdAAM  0011Y00002q5DCDQA2        Instalações   \n",
       "2  5004z00001g8ZhmAAE  0011Y00002q5DCDQA2        Instalações   \n",
       "3  5004z00001g8ZgPAAU  0011Y00002kKQOuQAO        Instalações   \n",
       "4  5004z00001g8ZpIAAU  0011Y00003CwPicQAF                RCC   \n",
       "5  5004z00001g8Zs6AAE  0011Y00002kKQOuQAO        Instalações   \n",
       "6  5004z00001g8ZtTAAU  0011Y00002q5DCDQA2        Instalações   \n",
       "7  5004z00001g8a0fAAA  0011Y00003CwPicQAF                RCC   \n",
       "\n",
       "                    CreatedDate   Status  \\\n",
       "0  2022-06-02T19:21:36.000+0000   Aberto   \n",
       "1  2022-06-02T19:21:36.000+0000  Fechado   \n",
       "2  2022-07-27T17:43:18.000+0000   Aberto   \n",
       "3  2022-07-27T17:43:18.000+0000   Aberto   \n",
       "4  2022-07-27T17:44:42.000+0000  Fechado   \n",
       "5  2022-07-27T17:45:43.000+0000   Aberto   \n",
       "6  2022-07-27T17:45:43.000+0000   Aberto   \n",
       "7  2022-07-27T17:46:43.000+0000  Fechado   \n",
       "\n",
       "                                         Description  \n",
       "0  * Nota SAP: 000014396589\\n\u000f * Data Entrada: 12...  \n",
       "1  * Nota SAP: 000014321540\\n\u000f * Data Entrada: 13...  \n",
       "2  * Nota SAP: 000014321540\\n\u000f * Data Entrada: 13...  \n",
       "3  * Nota SAP: 000014396589\\n\u000f * Data Entrada: 12...  \n",
       "4  * Nota SAP: 000014321042\\n\u000f * Data Entrada: 13...  \n",
       "5  * Nota SAP: 000014396589\\n\u000f * Data Entrada: 12...  \n",
       "6  * Nota SAP: 000014321540\\n\u000f * Data Entrada: 13...  \n",
       "7  * Nota SAP: 000014321042\\n\u000f * Data Entrada: 13...  "
      ]
     },
     "execution_count": 36,
     "metadata": {},
     "output_type": "execute_result"
    }
   ],
   "source": [
    "sf_df"
   ]
  },
  {
   "cell_type": "code",
   "execution_count": 17,
   "id": "658a4980",
   "metadata": {},
   "outputs": [
    {
     "data": {
      "text/html": [
       "<div>\n",
       "<style scoped>\n",
       "    .dataframe tbody tr th:only-of-type {\n",
       "        vertical-align: middle;\n",
       "    }\n",
       "\n",
       "    .dataframe tbody tr th {\n",
       "        vertical-align: top;\n",
       "    }\n",
       "\n",
       "    .dataframe thead th {\n",
       "        text-align: right;\n",
       "    }\n",
       "</style>\n",
       "<table border=\"1\" class=\"dataframe\">\n",
       "  <thead>\n",
       "    <tr style=\"text-align: right;\">\n",
       "      <th></th>\n",
       "      <th>Id</th>\n",
       "      <th>Codigo_do_Cliente_SAP__c</th>\n",
       "      <th>Codigo_Parceiro_Negocio__c</th>\n",
       "      <th>Name</th>\n",
       "      <th>RecordTypeId</th>\n",
       "      <th>Grupo_de_Contas2__c</th>\n",
       "    </tr>\n",
       "  </thead>\n",
       "  <tbody>\n",
       "    <tr>\n",
       "      <th>139952</th>\n",
       "      <td>0011Y000035h3veQAA</td>\n",
       "      <td>None</td>\n",
       "      <td>1.0</td>\n",
       "      <td>ALEXANDRE SABINO MOREIRA</td>\n",
       "      <td>0121Y000001J66XQAS</td>\n",
       "      <td>a17F000000R17A7IAJ</td>\n",
       "    </tr>\n",
       "    <tr>\n",
       "      <th>107047</th>\n",
       "      <td>0011Y000035gtlmQAA</td>\n",
       "      <td>None</td>\n",
       "      <td>2.0</td>\n",
       "      <td>NILTON DESSAUNE NETO</td>\n",
       "      <td>0121Y000001J66XQAS</td>\n",
       "      <td>a17F000000R17A7IAJ</td>\n",
       "    </tr>\n",
       "    <tr>\n",
       "      <th>320041</th>\n",
       "      <td>0011Y00003AwjUYQAZ</td>\n",
       "      <td>None</td>\n",
       "      <td>3.0</td>\n",
       "      <td>MARCOS CARVALHEDO DE MORAES</td>\n",
       "      <td>0121Y000001J66XQAS</td>\n",
       "      <td>a17F000000R17A7IAJ</td>\n",
       "    </tr>\n",
       "    <tr>\n",
       "      <th>88147</th>\n",
       "      <td>0011Y000035go8sQAA</td>\n",
       "      <td>None</td>\n",
       "      <td>4.0</td>\n",
       "      <td>GUSTAVO MACEDO DE OLIVEIRA</td>\n",
       "      <td>0121Y000001J66XQAS</td>\n",
       "      <td>a17F000000R17A7IAJ</td>\n",
       "    </tr>\n",
       "    <tr>\n",
       "      <th>119176</th>\n",
       "      <td>0011Y000035gxcqQAA</td>\n",
       "      <td>None</td>\n",
       "      <td>5.0</td>\n",
       "      <td>ANTONIO MARTINS DOS SANTOS</td>\n",
       "      <td>0121Y000001J66XQAS</td>\n",
       "      <td>a17F000000R17A7IAJ</td>\n",
       "    </tr>\n",
       "    <tr>\n",
       "      <th>...</th>\n",
       "      <td>...</td>\n",
       "      <td>...</td>\n",
       "      <td>...</td>\n",
       "      <td>...</td>\n",
       "      <td>...</td>\n",
       "      <td>...</td>\n",
       "    </tr>\n",
       "    <tr>\n",
       "      <th>2109493</th>\n",
       "      <td>001F000001tOgReIAK</td>\n",
       "      <td>0003544178</td>\n",
       "      <td>NaN</td>\n",
       "      <td>CONCEICAO DE MARIA A V RESTAURANTES</td>\n",
       "      <td>012A0000000ernMIAQ</td>\n",
       "      <td>a17F000000R17A3IAJ</td>\n",
       "    </tr>\n",
       "    <tr>\n",
       "      <th>2109494</th>\n",
       "      <td>001F000001tOgRjIAK</td>\n",
       "      <td>0003544179</td>\n",
       "      <td>NaN</td>\n",
       "      <td>PROVINCIA FRANCISCANA DA IMACULADA</td>\n",
       "      <td>012A0000000ernMIAQ</td>\n",
       "      <td>a17F000000R17A3IAJ</td>\n",
       "    </tr>\n",
       "    <tr>\n",
       "      <th>2109495</th>\n",
       "      <td>001F000001tOhSbIAK</td>\n",
       "      <td>0003544305</td>\n",
       "      <td>NaN</td>\n",
       "      <td>RAFAEL BOMFIM DOS SANTOS 0397670656</td>\n",
       "      <td>012A0000000ernRIAQ</td>\n",
       "      <td>a17F000000R17A3IAJ</td>\n",
       "    </tr>\n",
       "    <tr>\n",
       "      <th>2109496</th>\n",
       "      <td>001F000001tOhUXIA0</td>\n",
       "      <td>0003545206</td>\n",
       "      <td>NaN</td>\n",
       "      <td>JOSE MARIA FERREIRA SANTOS EPP</td>\n",
       "      <td>012A0000000ernMIAQ</td>\n",
       "      <td>a17F000000R17A3IAJ</td>\n",
       "    </tr>\n",
       "    <tr>\n",
       "      <th>2109497</th>\n",
       "      <td>001F000001tOhW4IAK</td>\n",
       "      <td>0003544203</td>\n",
       "      <td>NaN</td>\n",
       "      <td>PANIFICADORA CRISTO REI SANTOS LTDA</td>\n",
       "      <td>012A0000000ernMIAQ</td>\n",
       "      <td>a17F000000R17A3IAJ</td>\n",
       "    </tr>\n",
       "  </tbody>\n",
       "</table>\n",
       "<p>2109498 rows × 6 columns</p>\n",
       "</div>"
      ],
      "text/plain": [
       "                         Id Codigo_do_Cliente_SAP__c  \\\n",
       "139952   0011Y000035h3veQAA                     None   \n",
       "107047   0011Y000035gtlmQAA                     None   \n",
       "320041   0011Y00003AwjUYQAZ                     None   \n",
       "88147    0011Y000035go8sQAA                     None   \n",
       "119176   0011Y000035gxcqQAA                     None   \n",
       "...                     ...                      ...   \n",
       "2109493  001F000001tOgReIAK               0003544178   \n",
       "2109494  001F000001tOgRjIAK               0003544179   \n",
       "2109495  001F000001tOhSbIAK               0003544305   \n",
       "2109496  001F000001tOhUXIA0               0003545206   \n",
       "2109497  001F000001tOhW4IAK               0003544203   \n",
       "\n",
       "         Codigo_Parceiro_Negocio__c                                 Name  \\\n",
       "139952                          1.0             ALEXANDRE SABINO MOREIRA   \n",
       "107047                          2.0                 NILTON DESSAUNE NETO   \n",
       "320041                          3.0          MARCOS CARVALHEDO DE MORAES   \n",
       "88147                           4.0           GUSTAVO MACEDO DE OLIVEIRA   \n",
       "119176                          5.0           ANTONIO MARTINS DOS SANTOS   \n",
       "...                             ...                                  ...   \n",
       "2109493                         NaN  CONCEICAO DE MARIA A V RESTAURANTES   \n",
       "2109494                         NaN   PROVINCIA FRANCISCANA DA IMACULADA   \n",
       "2109495                         NaN  RAFAEL BOMFIM DOS SANTOS 0397670656   \n",
       "2109496                         NaN       JOSE MARIA FERREIRA SANTOS EPP   \n",
       "2109497                         NaN  PANIFICADORA CRISTO REI SANTOS LTDA   \n",
       "\n",
       "               RecordTypeId Grupo_de_Contas2__c  \n",
       "139952   0121Y000001J66XQAS  a17F000000R17A7IAJ  \n",
       "107047   0121Y000001J66XQAS  a17F000000R17A7IAJ  \n",
       "320041   0121Y000001J66XQAS  a17F000000R17A7IAJ  \n",
       "88147    0121Y000001J66XQAS  a17F000000R17A7IAJ  \n",
       "119176   0121Y000001J66XQAS  a17F000000R17A7IAJ  \n",
       "...                     ...                 ...  \n",
       "2109493  012A0000000ernMIAQ  a17F000000R17A3IAJ  \n",
       "2109494  012A0000000ernMIAQ  a17F000000R17A3IAJ  \n",
       "2109495  012A0000000ernRIAQ  a17F000000R17A3IAJ  \n",
       "2109496  012A0000000ernMIAQ  a17F000000R17A3IAJ  \n",
       "2109497  012A0000000ernMIAQ  a17F000000R17A3IAJ  \n",
       "\n",
       "[2109498 rows x 6 columns]"
      ]
     },
     "execution_count": 17,
     "metadata": {},
     "output_type": "execute_result"
    }
   ],
   "source": [
    "sf_df.sort_values(by=['Codigo_Parceiro_Negocio__c'])"
   ]
  },
  {
   "cell_type": "code",
   "execution_count": 23,
   "id": "5980050b",
   "metadata": {},
   "outputs": [
    {
     "data": {
      "text/html": [
       "<div>\n",
       "<style scoped>\n",
       "    .dataframe tbody tr th:only-of-type {\n",
       "        vertical-align: middle;\n",
       "    }\n",
       "\n",
       "    .dataframe tbody tr th {\n",
       "        vertical-align: top;\n",
       "    }\n",
       "\n",
       "    .dataframe thead th {\n",
       "        text-align: right;\n",
       "    }\n",
       "</style>\n",
       "<table border=\"1\" class=\"dataframe\">\n",
       "  <thead>\n",
       "    <tr style=\"text-align: right;\">\n",
       "      <th></th>\n",
       "      <th>Id</th>\n",
       "      <th>Codigo_do_Cliente_SAP__c</th>\n",
       "      <th>Codigo_Parceiro_Negocio__c</th>\n",
       "      <th>Name</th>\n",
       "      <th>RecordTypeId</th>\n",
       "      <th>Grupo_de_Contas2__c</th>\n",
       "    </tr>\n",
       "  </thead>\n",
       "  <tbody>\n",
       "    <tr>\n",
       "      <th>1746185</th>\n",
       "      <td>0014z00001lpJSbAAM</td>\n",
       "      <td>None</td>\n",
       "      <td>10399376.0</td>\n",
       "      <td>KLEBER DE SOUZA VITAL</td>\n",
       "      <td>0121Y000001J66XQAS</td>\n",
       "      <td>a17F000000R17A7IAJ</td>\n",
       "    </tr>\n",
       "  </tbody>\n",
       "</table>\n",
       "</div>"
      ],
      "text/plain": [
       "                         Id Codigo_do_Cliente_SAP__c  \\\n",
       "1746185  0014z00001lpJSbAAM                     None   \n",
       "\n",
       "         Codigo_Parceiro_Negocio__c                   Name  \\\n",
       "1746185                  10399376.0  KLEBER DE SOUZA VITAL   \n",
       "\n",
       "               RecordTypeId Grupo_de_Contas2__c  \n",
       "1746185  0121Y000001J66XQAS  a17F000000R17A7IAJ  "
      ]
     },
     "execution_count": 23,
     "metadata": {},
     "output_type": "execute_result"
    }
   ],
   "source": [
    "sf_df[sf_df['Codigo_Parceiro_Negocio__c']== 10399376]"
   ]
  },
  {
   "cell_type": "code",
   "execution_count": 96,
   "id": "e60673c1",
   "metadata": {},
   "outputs": [],
   "source": [
    "sf_dataGrupoConta = sf.query_all(\"\"\"\n",
    "SELECT Id, Codigo_do_Grupo_de_Conta__c,Name\n",
    "\n",
    "FROM Grupo_de_Conta__c\n",
    "\"\"\")"
   ]
  },
  {
   "cell_type": "code",
   "execution_count": 97,
   "id": "ec1e10db",
   "metadata": {},
   "outputs": [],
   "source": [
    "sf_dataRecordType = sf.query_all(\"\"\"\n",
    "SELECT Id, Name\n",
    "\n",
    "FROM RecordType\n",
    "\"\"\")"
   ]
  },
  {
   "cell_type": "code",
   "execution_count": 98,
   "id": "a1e21490",
   "metadata": {},
   "outputs": [],
   "source": [
    "sf_df = pd.DataFrame(sf_data['records']).drop(columns='attributes')\n",
    "\n",
    "sf_dfRecordType = pd.DataFrame(sf_dataRecordType['records']).drop(columns='attributes')\n",
    "\n",
    "sf_dfGrupoConta = pd.DataFrame(sf_dataGrupoConta['records']).drop(columns='attributes')\n"
   ]
  },
  {
   "cell_type": "code",
   "execution_count": 99,
   "id": "247449b3",
   "metadata": {},
   "outputs": [],
   "source": [
    "df_zvmc = pd.merge(sf_df, sf_dfRecordType, left_on = 'RecordTypeId', right_on = 'Id') \\\n",
    ".merge(sf_dfGrupoConta, left_on = 'Grupo_de_Contas2__c', right_on = 'Id')"
   ]
  },
  {
   "cell_type": "code",
   "execution_count": 100,
   "id": "8162961d",
   "metadata": {},
   "outputs": [
    {
     "name": "stderr",
     "output_type": "stream",
     "text": [
      "C:\\ProgramData\\Anaconda3\\lib\\site-packages\\pandas\\core\\frame.py:4441: SettingWithCopyWarning: \n",
      "A value is trying to be set on a copy of a slice from a DataFrame\n",
      "\n",
      "See the caveats in the documentation: https://pandas.pydata.org/pandas-docs/stable/user_guide/indexing.html#returning-a-view-versus-a-copy\n",
      "  return super().rename(\n"
     ]
    }
   ],
   "source": [
    "df_filtrado = df_zvmc[['Id_x','Codigo_do_Cliente_SAP__c','Name_x','Name_y','Codigo_do_Grupo_de_Conta__c','Name']]\n",
    "\n",
    "df_filtrado.rename(columns={'Id_x':'IdSFEConta','Name_x':'Conta','Name_y':'TipoDeRegistroDaConta','Codigo_do_Grupo_de_Conta__c':'CodGrupoConta','Name':'NomGrupoConta'},inplace=True)"
   ]
  },
  {
   "cell_type": "code",
   "execution_count": 110,
   "id": "d57251ca",
   "metadata": {},
   "outputs": [],
   "source": [
    "df_filtrado.to_csv('cliente_zvmc.csv',index=False,sep=';')"
   ]
  },
  {
   "cell_type": "code",
   "execution_count": 19,
   "id": "092b33ae",
   "metadata": {},
   "outputs": [],
   "source": [
    "sf_Conta = sf.query_all(\"\"\"\n",
    "SELECT Id, Codigo_do_Cliente_SAP__c, OwnerId\n",
    "\n",
    "FROM Account \n",
    "\n",
    "where Codigo_do_Cliente_SAP__c  = '0001249990'\n",
    "\"\"\")"
   ]
  },
  {
   "cell_type": "code",
   "execution_count": 20,
   "id": "8db6bb67",
   "metadata": {},
   "outputs": [
    {
     "data": {
      "text/html": [
       "<div>\n",
       "<style scoped>\n",
       "    .dataframe tbody tr th:only-of-type {\n",
       "        vertical-align: middle;\n",
       "    }\n",
       "\n",
       "    .dataframe tbody tr th {\n",
       "        vertical-align: top;\n",
       "    }\n",
       "\n",
       "    .dataframe thead th {\n",
       "        text-align: right;\n",
       "    }\n",
       "</style>\n",
       "<table border=\"1\" class=\"dataframe\">\n",
       "  <thead>\n",
       "    <tr style=\"text-align: right;\">\n",
       "      <th></th>\n",
       "      <th>Id</th>\n",
       "      <th>Codigo_do_Cliente_SAP__c</th>\n",
       "      <th>OwnerId</th>\n",
       "    </tr>\n",
       "  </thead>\n",
       "  <tbody>\n",
       "    <tr>\n",
       "      <th>0</th>\n",
       "      <td>001F000000vvG1SIAU</td>\n",
       "      <td>0001249990</td>\n",
       "      <td>005F0000007fMveIAE</td>\n",
       "    </tr>\n",
       "  </tbody>\n",
       "</table>\n",
       "</div>"
      ],
      "text/plain": [
       "                   Id Codigo_do_Cliente_SAP__c             OwnerId\n",
       "0  001F000000vvG1SIAU               0001249990  005F0000007fMveIAE"
      ]
     },
     "execution_count": 20,
     "metadata": {},
     "output_type": "execute_result"
    }
   ],
   "source": [
    "sf_cliente = pd.DataFrame(sf_Conta['records']).drop(columns='attributes')\n",
    "sf_cliente"
   ]
  },
  {
   "cell_type": "code",
   "execution_count": 102,
   "id": "fc7e29d5",
   "metadata": {},
   "outputs": [],
   "source": [
    "#sf_df.to_csv('areavenda.csv')"
   ]
  },
  {
   "cell_type": "code",
   "execution_count": null,
   "id": "f8e12d8c",
   "metadata": {},
   "outputs": [],
   "source": []
  },
  {
   "cell_type": "code",
   "execution_count": null,
   "id": "ecd0271e",
   "metadata": {},
   "outputs": [],
   "source": []
  },
  {
   "cell_type": "code",
   "execution_count": 103,
   "id": "30c74120",
   "metadata": {},
   "outputs": [],
   "source": [
    "\n",
    "#sf.Area_de_Vendas__c.delete('a194z00000k2iAoAAI')\n"
   ]
  },
  {
   "cell_type": "code",
   "execution_count": 104,
   "id": "f8d12bef",
   "metadata": {},
   "outputs": [],
   "source": [
    "#caminho = 'C:\\Temp\\idareavendaexcluir.csv'\n",
    "#dfAreaVendaExcluir = pd.read_csv(caminho,header=0)"
   ]
  },
  {
   "cell_type": "code",
   "execution_count": 105,
   "id": "e34d6530",
   "metadata": {
    "scrolled": true
   },
   "outputs": [],
   "source": [
    "#dfAreaVendaExcluir"
   ]
  },
  {
   "cell_type": "code",
   "execution_count": 106,
   "id": "1929ee84",
   "metadata": {},
   "outputs": [],
   "source": [
    "#for i in dfAreaVendaExcluir.index:\n",
    "#    try:\n",
    "#        print([i])\n",
    "#        sf.Area_de_Vendas__c.delete(dfAreaVendaExcluir['id'][i])\n",
    "#    except Exception:\n",
    "#        print('Erro ao excluir o registro: '+dfAreaVendaExcluir['id'][i] )\n",
    "    #print(dfAreaVendaExcluir['id'][i])\n",
    "    "
   ]
  },
  {
   "cell_type": "code",
   "execution_count": 107,
   "id": "b46d5e23",
   "metadata": {},
   "outputs": [],
   "source": [
    "#sf.Area_de_Vendas__c.delete('a194z00000d8bLtAAI')"
   ]
  }
 ],
 "metadata": {
  "kernelspec": {
   "display_name": "Python 3",
   "language": "python",
   "name": "python3"
  },
  "language_info": {
   "codemirror_mode": {
    "name": "ipython",
    "version": 3
   },
   "file_extension": ".py",
   "mimetype": "text/x-python",
   "name": "python",
   "nbconvert_exporter": "python",
   "pygments_lexer": "ipython3",
   "version": "3.8.8"
  }
 },
 "nbformat": 4,
 "nbformat_minor": 5
}
