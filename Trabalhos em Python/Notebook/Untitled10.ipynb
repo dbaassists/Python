{
 "cells": [
  {
   "cell_type": "code",
   "execution_count": 1,
   "id": "1d16e592",
   "metadata": {},
   "outputs": [],
   "source": [
    "import warnings\n",
    "import pandas as pd\n",
    "from pandas.core.common import SettingWithCopyWarning\n",
    "import numpy as np\n",
    "import json\n",
    "import os"
   ]
  },
  {
   "cell_type": "code",
   "execution_count": 2,
   "id": "2fa6d42d",
   "metadata": {},
   "outputs": [],
   "source": [
    "pd.options.display.max_rows = 999\n",
    "pd.options.display.max_columns=999\n",
    "warnings.simplefilter(action=\"ignore\", category=SettingWithCopyWarning)"
   ]
  },
  {
   "cell_type": "code",
   "execution_count": null,
   "id": "0cc4d74d",
   "metadata": {},
   "outputs": [],
   "source": [
    "arquivoZTSD088 = 'C:\\\\Temp\\\\ZTSD088\\\\VendaDCRLO\\\\'\n",
    "\n",
    "dfFinalZTSD088 = pd.DataFrame()\n",
    "\n",
    "for arquivosZTSD088 in os.listdir(arquivoZTSD088):\n",
    "\n",
    "    arq_final = arquivoZTSD088 + arquivosZTSD088\n",
    "\n",
    "    dfZTSD088 = pd.read_csv(arq_final\n",
    "                            , header=None\n",
    "                            , sep=';'\n",
    "                            , low_memory=False\n",
    "                            , usecols=(0,1)\n",
    "                            , names=['CodRelatorio','NumItem']\n",
    "                            , dtype={'CodRelatorio':'str','NumItem':'str'}\n",
    "                           )"
   ]
  }
 ],
 "metadata": {
  "kernelspec": {
   "display_name": "Python 3",
   "language": "python",
   "name": "python3"
  },
  "language_info": {
   "codemirror_mode": {
    "name": "ipython",
    "version": 3
   },
   "file_extension": ".py",
   "mimetype": "text/x-python",
   "name": "python",
   "nbconvert_exporter": "python",
   "pygments_lexer": "ipython3",
   "version": "3.8.8"
  }
 },
 "nbformat": 4,
 "nbformat_minor": 5
}
