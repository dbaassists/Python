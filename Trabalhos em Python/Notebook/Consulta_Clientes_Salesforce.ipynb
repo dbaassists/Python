{
 "cells": [
  {
   "cell_type": "code",
   "execution_count": 1,
   "id": "580a8f99",
   "metadata": {},
   "outputs": [],
   "source": [
    "import json\n",
    "import datetime\n",
    "import pandas as pd\n",
    "from simple_salesforce import Salesforce, SalesforceLogin, SFType"
   ]
  },
  {
   "cell_type": "markdown",
   "id": "0f735d5b",
   "metadata": {},
   "source": [
    "#pip install simple_salesforce"
   ]
  },
  {
   "cell_type": "markdown",
   "id": "daea90ce",
   "metadata": {},
   "source": [
    "AMBIENTE DE PRODUÇÃO "
   ]
  },
  {
   "cell_type": "code",
   "execution_count": 2,
   "id": "f765ea42",
   "metadata": {},
   "outputs": [],
   "source": [
    "username='etlshv@supergasbras.com.br', \n",
    "password='Super2020', \n",
    "security_token='2yY5vNvSMICU35NLeEjGAqtSJ'"
   ]
  },
  {
   "cell_type": "code",
   "execution_count": 3,
   "id": "c37b1ab7",
   "metadata": {},
   "outputs": [],
   "source": [
    "#loginInfo = json.load(open('login.json'))\n",
    "username = username #loginInfo['username']\n",
    "password = password #loginInfo['password']\n",
    "security_token = security_token #loginInfo['security_token']\n",
    "domain = 'login'"
   ]
  },
  {
   "cell_type": "code",
   "execution_count": 4,
   "id": "e3155eb0",
   "metadata": {},
   "outputs": [],
   "source": [
    "session_id, instance = SalesforceLogin(username='etlshv@supergasbras.com.br', password='Super2020', security_token='2yY5vNvSMICU35NLeEjGAqtSJ', domain=domain)\n",
    "sf = Salesforce(instance=instance, session_id=session_id)"
   ]
  },
  {
   "cell_type": "markdown",
   "id": "ff63a8b0",
   "metadata": {},
   "source": [
    "AMBIENTE DE UAT"
   ]
  },
  {
   "cell_type": "code",
   "execution_count": 2,
   "id": "d0a38754",
   "metadata": {},
   "outputs": [],
   "source": [
    "username='etlshv@supergasbras.com.br.uat', \n",
    "password='ETLS@&UAT@21', \n",
    "security_token='92MFvc9OAkhLZ1WRl2V2OwJJ'"
   ]
  },
  {
   "cell_type": "code",
   "execution_count": 3,
   "id": "7a1b0d01",
   "metadata": {},
   "outputs": [],
   "source": [
    "#loginInfo = json.load(open('login.json'))\n",
    "username = username #loginInfo['username']\n",
    "password = password #loginInfo['password']\n",
    "security_token = security_token #loginInfo['security_token']\n",
    "domain = 'test'"
   ]
  },
  {
   "cell_type": "code",
   "execution_count": 4,
   "id": "dc5fea2e",
   "metadata": {},
   "outputs": [],
   "source": [
    "session_id, instance = SalesforceLogin(username='etlshv@supergasbras.com.br.uat', password='ETLS@&UAT@21', security_token='92MFvc9OAkhLZ1WRl2V2OwJJ', domain=domain)\n",
    "sf = Salesforce(instance=instance, session_id=session_id)"
   ]
  },
  {
   "cell_type": "code",
   "execution_count": null,
   "id": "fe18f84a",
   "metadata": {},
   "outputs": [],
   "source": [
    "sf = Salesforce(\n",
    "username = 'etlshv@supergasbras.com.br.uat', \n",
    "password = 'ETLS@&UAT@21',\n",
    "security_token= '92MFvc9OAkhLZ1WRl2V2OwJJ',\n",
    "domain= 'test')"
   ]
  },
  {
   "cell_type": "code",
   "execution_count": 5,
   "id": "9e61189c",
   "metadata": {},
   "outputs": [
    {
     "ename": "KeyError",
     "evalue": "\"['attributes'] not found in axis\"",
     "output_type": "error",
     "traceback": [
      "\u001b[1;31m---------------------------------------------------------------------------\u001b[0m",
      "\u001b[1;31mKeyError\u001b[0m                                  Traceback (most recent call last)",
      "\u001b[1;32m~\\AppData\\Local\\Temp\\ipykernel_2992\\1223943054.py\u001b[0m in \u001b[0;36m<module>\u001b[1;34m\u001b[0m\n\u001b[0;32m     13\u001b[0m \u001b[0msf_dataConta\u001b[0m \u001b[1;33m=\u001b[0m \u001b[0msf\u001b[0m\u001b[1;33m.\u001b[0m\u001b[0mquery_all\u001b[0m\u001b[1;33m(\u001b[0m\u001b[0mqueryConta\u001b[0m\u001b[1;33m)\u001b[0m\u001b[1;33m\u001b[0m\u001b[1;33m\u001b[0m\u001b[0m\n\u001b[0;32m     14\u001b[0m \u001b[1;33m\u001b[0m\u001b[0m\n\u001b[1;32m---> 15\u001b[1;33m \u001b[0msf_dfConta\u001b[0m \u001b[1;33m=\u001b[0m \u001b[0mpd\u001b[0m\u001b[1;33m.\u001b[0m\u001b[0mDataFrame\u001b[0m\u001b[1;33m(\u001b[0m\u001b[0msf_dataConta\u001b[0m\u001b[1;33m[\u001b[0m\u001b[1;34m'records'\u001b[0m\u001b[1;33m]\u001b[0m\u001b[1;33m)\u001b[0m\u001b[1;33m.\u001b[0m\u001b[0mdrop\u001b[0m\u001b[1;33m(\u001b[0m\u001b[0mcolumns\u001b[0m\u001b[1;33m=\u001b[0m\u001b[1;34m'attributes'\u001b[0m\u001b[1;33m)\u001b[0m\u001b[1;33m\u001b[0m\u001b[1;33m\u001b[0m\u001b[0m\n\u001b[0m\u001b[0;32m     16\u001b[0m \u001b[0msf_dfConta\u001b[0m \u001b[1;31m#['Codigo_do_Cliente_SAP__c'].to_csv('Codigo_do_Cliente_SAP__c.csv', index=False) #.groupby(['OwnerId']).agg(Qtd=('OwnerId','count'))\u001b[0m\u001b[1;33m\u001b[0m\u001b[1;33m\u001b[0m\u001b[0m\n",
      "\u001b[1;32mC:\\ProgramData\\Anaconda3\\lib\\site-packages\\pandas\\util\\_decorators.py\u001b[0m in \u001b[0;36mwrapper\u001b[1;34m(*args, **kwargs)\u001b[0m\n\u001b[0;32m    309\u001b[0m                     \u001b[0mstacklevel\u001b[0m\u001b[1;33m=\u001b[0m\u001b[0mstacklevel\u001b[0m\u001b[1;33m,\u001b[0m\u001b[1;33m\u001b[0m\u001b[1;33m\u001b[0m\u001b[0m\n\u001b[0;32m    310\u001b[0m                 )\n\u001b[1;32m--> 311\u001b[1;33m             \u001b[1;32mreturn\u001b[0m \u001b[0mfunc\u001b[0m\u001b[1;33m(\u001b[0m\u001b[1;33m*\u001b[0m\u001b[0margs\u001b[0m\u001b[1;33m,\u001b[0m \u001b[1;33m**\u001b[0m\u001b[0mkwargs\u001b[0m\u001b[1;33m)\u001b[0m\u001b[1;33m\u001b[0m\u001b[1;33m\u001b[0m\u001b[0m\n\u001b[0m\u001b[0;32m    312\u001b[0m \u001b[1;33m\u001b[0m\u001b[0m\n\u001b[0;32m    313\u001b[0m         \u001b[1;32mreturn\u001b[0m \u001b[0mwrapper\u001b[0m\u001b[1;33m\u001b[0m\u001b[1;33m\u001b[0m\u001b[0m\n",
      "\u001b[1;32mC:\\ProgramData\\Anaconda3\\lib\\site-packages\\pandas\\core\\frame.py\u001b[0m in \u001b[0;36mdrop\u001b[1;34m(self, labels, axis, index, columns, level, inplace, errors)\u001b[0m\n\u001b[0;32m   4955\u001b[0m                 \u001b[0mweight\u001b[0m  \u001b[1;36m1.0\u001b[0m     \u001b[1;36m0.8\u001b[0m\u001b[1;33m\u001b[0m\u001b[1;33m\u001b[0m\u001b[0m\n\u001b[0;32m   4956\u001b[0m         \"\"\"\n\u001b[1;32m-> 4957\u001b[1;33m         return super().drop(\n\u001b[0m\u001b[0;32m   4958\u001b[0m             \u001b[0mlabels\u001b[0m\u001b[1;33m=\u001b[0m\u001b[0mlabels\u001b[0m\u001b[1;33m,\u001b[0m\u001b[1;33m\u001b[0m\u001b[1;33m\u001b[0m\u001b[0m\n\u001b[0;32m   4959\u001b[0m             \u001b[0maxis\u001b[0m\u001b[1;33m=\u001b[0m\u001b[0maxis\u001b[0m\u001b[1;33m,\u001b[0m\u001b[1;33m\u001b[0m\u001b[1;33m\u001b[0m\u001b[0m\n",
      "\u001b[1;32mC:\\ProgramData\\Anaconda3\\lib\\site-packages\\pandas\\core\\generic.py\u001b[0m in \u001b[0;36mdrop\u001b[1;34m(self, labels, axis, index, columns, level, inplace, errors)\u001b[0m\n\u001b[0;32m   4265\u001b[0m         \u001b[1;32mfor\u001b[0m \u001b[0maxis\u001b[0m\u001b[1;33m,\u001b[0m \u001b[0mlabels\u001b[0m \u001b[1;32min\u001b[0m \u001b[0maxes\u001b[0m\u001b[1;33m.\u001b[0m\u001b[0mitems\u001b[0m\u001b[1;33m(\u001b[0m\u001b[1;33m)\u001b[0m\u001b[1;33m:\u001b[0m\u001b[1;33m\u001b[0m\u001b[1;33m\u001b[0m\u001b[0m\n\u001b[0;32m   4266\u001b[0m             \u001b[1;32mif\u001b[0m \u001b[0mlabels\u001b[0m \u001b[1;32mis\u001b[0m \u001b[1;32mnot\u001b[0m \u001b[1;32mNone\u001b[0m\u001b[1;33m:\u001b[0m\u001b[1;33m\u001b[0m\u001b[1;33m\u001b[0m\u001b[0m\n\u001b[1;32m-> 4267\u001b[1;33m                 \u001b[0mobj\u001b[0m \u001b[1;33m=\u001b[0m \u001b[0mobj\u001b[0m\u001b[1;33m.\u001b[0m\u001b[0m_drop_axis\u001b[0m\u001b[1;33m(\u001b[0m\u001b[0mlabels\u001b[0m\u001b[1;33m,\u001b[0m \u001b[0maxis\u001b[0m\u001b[1;33m,\u001b[0m \u001b[0mlevel\u001b[0m\u001b[1;33m=\u001b[0m\u001b[0mlevel\u001b[0m\u001b[1;33m,\u001b[0m \u001b[0merrors\u001b[0m\u001b[1;33m=\u001b[0m\u001b[0merrors\u001b[0m\u001b[1;33m)\u001b[0m\u001b[1;33m\u001b[0m\u001b[1;33m\u001b[0m\u001b[0m\n\u001b[0m\u001b[0;32m   4268\u001b[0m \u001b[1;33m\u001b[0m\u001b[0m\n\u001b[0;32m   4269\u001b[0m         \u001b[1;32mif\u001b[0m \u001b[0minplace\u001b[0m\u001b[1;33m:\u001b[0m\u001b[1;33m\u001b[0m\u001b[1;33m\u001b[0m\u001b[0m\n",
      "\u001b[1;32mC:\\ProgramData\\Anaconda3\\lib\\site-packages\\pandas\\core\\generic.py\u001b[0m in \u001b[0;36m_drop_axis\u001b[1;34m(self, labels, axis, level, errors, consolidate, only_slice)\u001b[0m\n\u001b[0;32m   4309\u001b[0m                 \u001b[0mnew_axis\u001b[0m \u001b[1;33m=\u001b[0m \u001b[0maxis\u001b[0m\u001b[1;33m.\u001b[0m\u001b[0mdrop\u001b[0m\u001b[1;33m(\u001b[0m\u001b[0mlabels\u001b[0m\u001b[1;33m,\u001b[0m \u001b[0mlevel\u001b[0m\u001b[1;33m=\u001b[0m\u001b[0mlevel\u001b[0m\u001b[1;33m,\u001b[0m \u001b[0merrors\u001b[0m\u001b[1;33m=\u001b[0m\u001b[0merrors\u001b[0m\u001b[1;33m)\u001b[0m\u001b[1;33m\u001b[0m\u001b[1;33m\u001b[0m\u001b[0m\n\u001b[0;32m   4310\u001b[0m             \u001b[1;32melse\u001b[0m\u001b[1;33m:\u001b[0m\u001b[1;33m\u001b[0m\u001b[1;33m\u001b[0m\u001b[0m\n\u001b[1;32m-> 4311\u001b[1;33m                 \u001b[0mnew_axis\u001b[0m \u001b[1;33m=\u001b[0m \u001b[0maxis\u001b[0m\u001b[1;33m.\u001b[0m\u001b[0mdrop\u001b[0m\u001b[1;33m(\u001b[0m\u001b[0mlabels\u001b[0m\u001b[1;33m,\u001b[0m \u001b[0merrors\u001b[0m\u001b[1;33m=\u001b[0m\u001b[0merrors\u001b[0m\u001b[1;33m)\u001b[0m\u001b[1;33m\u001b[0m\u001b[1;33m\u001b[0m\u001b[0m\n\u001b[0m\u001b[0;32m   4312\u001b[0m             \u001b[0mindexer\u001b[0m \u001b[1;33m=\u001b[0m \u001b[0maxis\u001b[0m\u001b[1;33m.\u001b[0m\u001b[0mget_indexer\u001b[0m\u001b[1;33m(\u001b[0m\u001b[0mnew_axis\u001b[0m\u001b[1;33m)\u001b[0m\u001b[1;33m\u001b[0m\u001b[1;33m\u001b[0m\u001b[0m\n\u001b[0;32m   4313\u001b[0m \u001b[1;33m\u001b[0m\u001b[0m\n",
      "\u001b[1;32mC:\\ProgramData\\Anaconda3\\lib\\site-packages\\pandas\\core\\indexes\\base.py\u001b[0m in \u001b[0;36mdrop\u001b[1;34m(self, labels, errors)\u001b[0m\n\u001b[0;32m   6659\u001b[0m         \u001b[1;32mif\u001b[0m \u001b[0mmask\u001b[0m\u001b[1;33m.\u001b[0m\u001b[0many\u001b[0m\u001b[1;33m(\u001b[0m\u001b[1;33m)\u001b[0m\u001b[1;33m:\u001b[0m\u001b[1;33m\u001b[0m\u001b[1;33m\u001b[0m\u001b[0m\n\u001b[0;32m   6660\u001b[0m             \u001b[1;32mif\u001b[0m \u001b[0merrors\u001b[0m \u001b[1;33m!=\u001b[0m \u001b[1;34m\"ignore\"\u001b[0m\u001b[1;33m:\u001b[0m\u001b[1;33m\u001b[0m\u001b[1;33m\u001b[0m\u001b[0m\n\u001b[1;32m-> 6661\u001b[1;33m                 \u001b[1;32mraise\u001b[0m \u001b[0mKeyError\u001b[0m\u001b[1;33m(\u001b[0m\u001b[1;34mf\"{list(labels[mask])} not found in axis\"\u001b[0m\u001b[1;33m)\u001b[0m\u001b[1;33m\u001b[0m\u001b[1;33m\u001b[0m\u001b[0m\n\u001b[0m\u001b[0;32m   6662\u001b[0m             \u001b[0mindexer\u001b[0m \u001b[1;33m=\u001b[0m \u001b[0mindexer\u001b[0m\u001b[1;33m[\u001b[0m\u001b[1;33m~\u001b[0m\u001b[0mmask\u001b[0m\u001b[1;33m]\u001b[0m\u001b[1;33m\u001b[0m\u001b[1;33m\u001b[0m\u001b[0m\n\u001b[0;32m   6663\u001b[0m         \u001b[1;32mreturn\u001b[0m \u001b[0mself\u001b[0m\u001b[1;33m.\u001b[0m\u001b[0mdelete\u001b[0m\u001b[1;33m(\u001b[0m\u001b[0mindexer\u001b[0m\u001b[1;33m)\u001b[0m\u001b[1;33m\u001b[0m\u001b[1;33m\u001b[0m\u001b[0m\n",
      "\u001b[1;31mKeyError\u001b[0m: \"['attributes'] not found in axis\""
     ]
    }
   ],
   "source": [
    "\n",
    "queryConta = f\"\"\"SELECT \n",
    "Id\n",
    ",Codigo_do_Cliente_SAP__c\n",
    ",CodigoClienteSAPRecebedor_DFV__c\n",
    "FROM Account \n",
    "where Codigo_do_Cliente_SAP__c  in (\n",
    "\n",
    "'0003991950'\n",
    "\n",
    " )\n",
    "\n",
    " \"\"\"\n",
    "sf_dataConta = sf.query_all(queryConta)\n",
    "\n",
    "sf_dfConta = pd.DataFrame(sf_dataConta['records']).drop(columns='attributes')\n",
    "sf_dfConta #['Codigo_do_Cliente_SAP__c'].to_csv('Codigo_do_Cliente_SAP__c.csv', index=False) #.groupby(['OwnerId']).agg(Qtd=('OwnerId','count'))"
   ]
  },
  {
   "cell_type": "code",
   "execution_count": null,
   "id": "d8dc3c2a",
   "metadata": {},
   "outputs": [],
   "source": [
    "queryVD = f\"\"\"select \n",
    "Codigo_do_Cliente_SAP__c\n",
    ",Data_do_Abastecimento__c\n",
    ",Volume_Realizado__c\n",
    ",Preco_Realizado__c\n",
    ",ID_Externo__c\n",
    ",Granel_R_Ton__c\n",
    ",P_13__c\n",
    ",P_20__c\n",
    ",P_45__c\n",
    ",Codigo_do_Cliente_SAP_Recebedor__c\n",
    ",Codigo_do_Material__c\n",
    ",Conta_Recebedor__c\n",
    ",Embalagem__c\n",
    ",Quantidade_Faturada__c\n",
    ",V_PrecoItem__c\n",
    ",CreatedDate\n",
    "from Venda_Dia__c \n",
    "WHERE Codigo_do_Cliente_SAP__c = '0003880695'\n",
    "\n",
    "\"\"\"\n",
    "sf_dataVD = sf.query_all(queryVD)\n",
    "\n",
    "sf_dfVD = pd.DataFrame(sf_dataVD['records']).drop(columns='attributes')\n",
    "\n",
    "sf_dfVD.sort_values(by='Data_do_Abastecimento__c' , ascending=False)"
   ]
  },
  {
   "cell_type": "code",
   "execution_count": 42,
   "id": "894d3c3c",
   "metadata": {},
   "outputs": [
    {
     "data": {
      "text/html": [
       "<div>\n",
       "<style scoped>\n",
       "    .dataframe tbody tr th:only-of-type {\n",
       "        vertical-align: middle;\n",
       "    }\n",
       "\n",
       "    .dataframe tbody tr th {\n",
       "        vertical-align: top;\n",
       "    }\n",
       "\n",
       "    .dataframe thead th {\n",
       "        text-align: right;\n",
       "    }\n",
       "</style>\n",
       "<table border=\"1\" class=\"dataframe\">\n",
       "  <thead>\n",
       "    <tr style=\"text-align: right;\">\n",
       "      <th></th>\n",
       "      <th>Id</th>\n",
       "      <th>Username</th>\n",
       "      <th>Name</th>\n",
       "    </tr>\n",
       "  </thead>\n",
       "  <tbody>\n",
       "    <tr>\n",
       "      <th>3347</th>\n",
       "      <td>0054z000008nl67AAA</td>\n",
       "      <td>pamela.atran@supergasbras.com.br</td>\n",
       "      <td>Pamela Callegaro Astran</td>\n",
       "    </tr>\n",
       "  </tbody>\n",
       "</table>\n",
       "</div>"
      ],
      "text/plain": [
       "                      Id                          Username  \\\n",
       "3347  0054z000008nl67AAA  pamela.atran@supergasbras.com.br   \n",
       "\n",
       "                         Name  \n",
       "3347  Pamela Callegaro Astran  "
      ]
     },
     "execution_count": 42,
     "metadata": {},
     "output_type": "execute_result"
    }
   ],
   "source": [
    "queryConsultor = f\"\"\"SELECT Id, Username, Name FROM User\n",
    "\"\"\"\n",
    "sf_dataConsultor = sf.query_all(queryConsultor)\n",
    "\n",
    "sf_dfConsultor = pd.DataFrame(sf_dataConsultor['records']).drop(columns='attributes')\n",
    "\n",
    "\n",
    "sf_dfConsultor[sf_dfConsultor['Id'] =='0054z000008nl67AAA']\n",
    "\n",
    "#sf_dfConsultor[sf_dfConsultor['Name'].str.contains('PAMELA', na=False)]\n",
    "#sf_dfConsultor[sf_dfConsultor['Id']=='005F0000004tnliIAA']\n"
   ]
  },
  {
   "cell_type": "code",
   "execution_count": 36,
   "id": "3a7d137f",
   "metadata": {},
   "outputs": [
    {
     "data": {
      "text/html": [
       "<div>\n",
       "<style scoped>\n",
       "    .dataframe tbody tr th:only-of-type {\n",
       "        vertical-align: middle;\n",
       "    }\n",
       "\n",
       "    .dataframe tbody tr th {\n",
       "        vertical-align: top;\n",
       "    }\n",
       "\n",
       "    .dataframe thead th {\n",
       "        text-align: right;\n",
       "    }\n",
       "</style>\n",
       "<table border=\"1\" class=\"dataframe\">\n",
       "  <thead>\n",
       "    <tr style=\"text-align: right;\">\n",
       "      <th></th>\n",
       "      <th>Codigo_do_Cliente_SAP__c</th>\n",
       "      <th>Name_y</th>\n",
       "    </tr>\n",
       "  </thead>\n",
       "  <tbody>\n",
       "    <tr>\n",
       "      <th>0</th>\n",
       "      <td>0000970099</td>\n",
       "      <td>Adriana Serafim Dos Santos</td>\n",
       "    </tr>\n",
       "    <tr>\n",
       "      <th>1</th>\n",
       "      <td>0000984615</td>\n",
       "      <td>Gabrielle Sampaio</td>\n",
       "    </tr>\n",
       "    <tr>\n",
       "      <th>2</th>\n",
       "      <td>0001010875</td>\n",
       "      <td>Gabrielle Sampaio</td>\n",
       "    </tr>\n",
       "    <tr>\n",
       "      <th>3</th>\n",
       "      <td>0001050746</td>\n",
       "      <td>ISABELLA DO NASCIMENTO MARTINS</td>\n",
       "    </tr>\n",
       "    <tr>\n",
       "      <th>4</th>\n",
       "      <td>0001169208</td>\n",
       "      <td>Edyane Souza de Oliveira</td>\n",
       "    </tr>\n",
       "    <tr>\n",
       "      <th>5</th>\n",
       "      <td>0001318785</td>\n",
       "      <td>Adriana Serafim Dos Santos</td>\n",
       "    </tr>\n",
       "    <tr>\n",
       "      <th>6</th>\n",
       "      <td>0001319674</td>\n",
       "      <td>Marcelo Luis Lause</td>\n",
       "    </tr>\n",
       "    <tr>\n",
       "      <th>7</th>\n",
       "      <td>0001936923</td>\n",
       "      <td>Automated Process</td>\n",
       "    </tr>\n",
       "    <tr>\n",
       "      <th>8</th>\n",
       "      <td>0001963243</td>\n",
       "      <td>Adriana Serafim Dos Santos</td>\n",
       "    </tr>\n",
       "    <tr>\n",
       "      <th>9</th>\n",
       "      <td>0001967772</td>\n",
       "      <td>Automated Process</td>\n",
       "    </tr>\n",
       "    <tr>\n",
       "      <th>10</th>\n",
       "      <td>0003543152</td>\n",
       "      <td>Flavio Ricoi Castro Andrade</td>\n",
       "    </tr>\n",
       "    <tr>\n",
       "      <th>11</th>\n",
       "      <td>0003603355</td>\n",
       "      <td>Automated Process</td>\n",
       "    </tr>\n",
       "    <tr>\n",
       "      <th>12</th>\n",
       "      <td>0003615022</td>\n",
       "      <td>ISABELLA DO NASCIMENTO MARTINS</td>\n",
       "    </tr>\n",
       "    <tr>\n",
       "      <th>13</th>\n",
       "      <td>0003629298</td>\n",
       "      <td>Gabrielle Sampaio</td>\n",
       "    </tr>\n",
       "    <tr>\n",
       "      <th>14</th>\n",
       "      <td>0003674243</td>\n",
       "      <td>Cláudia Regina Maciel da Costa Carneiro</td>\n",
       "    </tr>\n",
       "    <tr>\n",
       "      <th>15</th>\n",
       "      <td>0003679453</td>\n",
       "      <td>Gabrielle Sampaio</td>\n",
       "    </tr>\n",
       "    <tr>\n",
       "      <th>16</th>\n",
       "      <td>0003681261</td>\n",
       "      <td>Flavio Ricoi Castro Andrade</td>\n",
       "    </tr>\n",
       "    <tr>\n",
       "      <th>17</th>\n",
       "      <td>0003686057</td>\n",
       "      <td>Cláudia Regina Maciel da Costa Carneiro</td>\n",
       "    </tr>\n",
       "    <tr>\n",
       "      <th>18</th>\n",
       "      <td>0003686063</td>\n",
       "      <td>Automated Process</td>\n",
       "    </tr>\n",
       "    <tr>\n",
       "      <th>19</th>\n",
       "      <td>0003711499</td>\n",
       "      <td>Flavio Ricoi Castro Andrade</td>\n",
       "    </tr>\n",
       "    <tr>\n",
       "      <th>20</th>\n",
       "      <td>0003723308</td>\n",
       "      <td>Flavio Ricoi Castro Andrade</td>\n",
       "    </tr>\n",
       "    <tr>\n",
       "      <th>21</th>\n",
       "      <td>0003723311</td>\n",
       "      <td>Automated Process</td>\n",
       "    </tr>\n",
       "    <tr>\n",
       "      <th>22</th>\n",
       "      <td>0003755815</td>\n",
       "      <td>Flavio Ricoi Castro Andrade</td>\n",
       "    </tr>\n",
       "    <tr>\n",
       "      <th>23</th>\n",
       "      <td>0003761122</td>\n",
       "      <td>Flavio Ricoi Castro Andrade</td>\n",
       "    </tr>\n",
       "    <tr>\n",
       "      <th>24</th>\n",
       "      <td>0003766632</td>\n",
       "      <td>Edyane Souza de Oliveira</td>\n",
       "    </tr>\n",
       "    <tr>\n",
       "      <th>25</th>\n",
       "      <td>0003842566</td>\n",
       "      <td>Gabrielle Sampaio</td>\n",
       "    </tr>\n",
       "    <tr>\n",
       "      <th>26</th>\n",
       "      <td>0003845901</td>\n",
       "      <td>Edyane Souza de Oliveira</td>\n",
       "    </tr>\n",
       "    <tr>\n",
       "      <th>27</th>\n",
       "      <td>0003853147</td>\n",
       "      <td>Claudia Lucia Saturnino</td>\n",
       "    </tr>\n",
       "    <tr>\n",
       "      <th>28</th>\n",
       "      <td>0003870154</td>\n",
       "      <td>Flavio Ricoi Castro Andrade</td>\n",
       "    </tr>\n",
       "    <tr>\n",
       "      <th>29</th>\n",
       "      <td>0003873954</td>\n",
       "      <td>Edyane Souza de Oliveira</td>\n",
       "    </tr>\n",
       "    <tr>\n",
       "      <th>30</th>\n",
       "      <td>0003888968</td>\n",
       "      <td>Cláudia Regina Maciel da Costa Carneiro</td>\n",
       "    </tr>\n",
       "    <tr>\n",
       "      <th>31</th>\n",
       "      <td>0003889081</td>\n",
       "      <td>Cláudia Regina Maciel da Costa Carneiro</td>\n",
       "    </tr>\n",
       "    <tr>\n",
       "      <th>32</th>\n",
       "      <td>0003889818</td>\n",
       "      <td>Thaís Cristina Denucci Corrêa</td>\n",
       "    </tr>\n",
       "    <tr>\n",
       "      <th>33</th>\n",
       "      <td>0003894442</td>\n",
       "      <td>Adriana Serafim Dos Santos</td>\n",
       "    </tr>\n",
       "    <tr>\n",
       "      <th>34</th>\n",
       "      <td>0003894617</td>\n",
       "      <td>Edyane Souza de Oliveira</td>\n",
       "    </tr>\n",
       "    <tr>\n",
       "      <th>35</th>\n",
       "      <td>0003897756</td>\n",
       "      <td>ISABELLA DO NASCIMENTO MARTINS</td>\n",
       "    </tr>\n",
       "    <tr>\n",
       "      <th>36</th>\n",
       "      <td>0003903337</td>\n",
       "      <td>Sheila Borges Rocha</td>\n",
       "    </tr>\n",
       "    <tr>\n",
       "      <th>37</th>\n",
       "      <td>0003903358</td>\n",
       "      <td>Thaís Cristina Denucci Corrêa</td>\n",
       "    </tr>\n",
       "    <tr>\n",
       "      <th>38</th>\n",
       "      <td>0003906410</td>\n",
       "      <td>Karine Laignier de Souza</td>\n",
       "    </tr>\n",
       "    <tr>\n",
       "      <th>39</th>\n",
       "      <td>0003910282</td>\n",
       "      <td>Adriana Serafim Dos Santos</td>\n",
       "    </tr>\n",
       "    <tr>\n",
       "      <th>40</th>\n",
       "      <td>0003913495</td>\n",
       "      <td>Edyane Souza de Oliveira</td>\n",
       "    </tr>\n",
       "    <tr>\n",
       "      <th>41</th>\n",
       "      <td>0003927231</td>\n",
       "      <td>Adriana Serafim Dos Santos</td>\n",
       "    </tr>\n",
       "    <tr>\n",
       "      <th>42</th>\n",
       "      <td>0003928434</td>\n",
       "      <td>Adriana Serafim Dos Santos</td>\n",
       "    </tr>\n",
       "    <tr>\n",
       "      <th>43</th>\n",
       "      <td>0003934301</td>\n",
       "      <td>Adriana Serafim Dos Santos</td>\n",
       "    </tr>\n",
       "    <tr>\n",
       "      <th>44</th>\n",
       "      <td>0003935885</td>\n",
       "      <td>Cláudia Regina Maciel da Costa Carneiro</td>\n",
       "    </tr>\n",
       "    <tr>\n",
       "      <th>45</th>\n",
       "      <td>0003936963</td>\n",
       "      <td>Adriana Serafim Dos Santos</td>\n",
       "    </tr>\n",
       "    <tr>\n",
       "      <th>46</th>\n",
       "      <td>0003937302</td>\n",
       "      <td>Adriana Serafim Dos Santos</td>\n",
       "    </tr>\n",
       "    <tr>\n",
       "      <th>47</th>\n",
       "      <td>0003937339</td>\n",
       "      <td>Adriana Serafim Dos Santos</td>\n",
       "    </tr>\n",
       "    <tr>\n",
       "      <th>48</th>\n",
       "      <td>0003940140</td>\n",
       "      <td>Flavio Ricoi Castro Andrade</td>\n",
       "    </tr>\n",
       "    <tr>\n",
       "      <th>49</th>\n",
       "      <td>0003941972</td>\n",
       "      <td>Adriana Serafim Dos Santos</td>\n",
       "    </tr>\n",
       "    <tr>\n",
       "      <th>50</th>\n",
       "      <td>0003946401</td>\n",
       "      <td>Cláudia Regina Maciel da Costa Carneiro</td>\n",
       "    </tr>\n",
       "    <tr>\n",
       "      <th>51</th>\n",
       "      <td>0003953785</td>\n",
       "      <td>Adriana Serafim Dos Santos</td>\n",
       "    </tr>\n",
       "    <tr>\n",
       "      <th>52</th>\n",
       "      <td>0003962059</td>\n",
       "      <td>Sidiney Jose Cazarim</td>\n",
       "    </tr>\n",
       "    <tr>\n",
       "      <th>53</th>\n",
       "      <td>0003970055</td>\n",
       "      <td>Edyane Souza de Oliveira</td>\n",
       "    </tr>\n",
       "  </tbody>\n",
       "</table>\n",
       "</div>"
      ],
      "text/plain": [
       "   Codigo_do_Cliente_SAP__c                                   Name_y\n",
       "0                0000970099               Adriana Serafim Dos Santos\n",
       "1                0000984615                        Gabrielle Sampaio\n",
       "2                0001010875                        Gabrielle Sampaio\n",
       "3                0001050746           ISABELLA DO NASCIMENTO MARTINS\n",
       "4                0001169208                 Edyane Souza de Oliveira\n",
       "5                0001318785               Adriana Serafim Dos Santos\n",
       "6                0001319674                       Marcelo Luis Lause\n",
       "7                0001936923                        Automated Process\n",
       "8                0001963243               Adriana Serafim Dos Santos\n",
       "9                0001967772                        Automated Process\n",
       "10               0003543152              Flavio Ricoi Castro Andrade\n",
       "11               0003603355                        Automated Process\n",
       "12               0003615022           ISABELLA DO NASCIMENTO MARTINS\n",
       "13               0003629298                        Gabrielle Sampaio\n",
       "14               0003674243  Cláudia Regina Maciel da Costa Carneiro\n",
       "15               0003679453                        Gabrielle Sampaio\n",
       "16               0003681261              Flavio Ricoi Castro Andrade\n",
       "17               0003686057  Cláudia Regina Maciel da Costa Carneiro\n",
       "18               0003686063                        Automated Process\n",
       "19               0003711499              Flavio Ricoi Castro Andrade\n",
       "20               0003723308              Flavio Ricoi Castro Andrade\n",
       "21               0003723311                        Automated Process\n",
       "22               0003755815              Flavio Ricoi Castro Andrade\n",
       "23               0003761122              Flavio Ricoi Castro Andrade\n",
       "24               0003766632                 Edyane Souza de Oliveira\n",
       "25               0003842566                        Gabrielle Sampaio\n",
       "26               0003845901                 Edyane Souza de Oliveira\n",
       "27               0003853147                  Claudia Lucia Saturnino\n",
       "28               0003870154              Flavio Ricoi Castro Andrade\n",
       "29               0003873954                 Edyane Souza de Oliveira\n",
       "30               0003888968  Cláudia Regina Maciel da Costa Carneiro\n",
       "31               0003889081  Cláudia Regina Maciel da Costa Carneiro\n",
       "32               0003889818            Thaís Cristina Denucci Corrêa\n",
       "33               0003894442               Adriana Serafim Dos Santos\n",
       "34               0003894617                 Edyane Souza de Oliveira\n",
       "35               0003897756           ISABELLA DO NASCIMENTO MARTINS\n",
       "36               0003903337                      Sheila Borges Rocha\n",
       "37               0003903358            Thaís Cristina Denucci Corrêa\n",
       "38               0003906410                 Karine Laignier de Souza\n",
       "39               0003910282               Adriana Serafim Dos Santos\n",
       "40               0003913495                 Edyane Souza de Oliveira\n",
       "41               0003927231               Adriana Serafim Dos Santos\n",
       "42               0003928434               Adriana Serafim Dos Santos\n",
       "43               0003934301               Adriana Serafim Dos Santos\n",
       "44               0003935885  Cláudia Regina Maciel da Costa Carneiro\n",
       "45               0003936963               Adriana Serafim Dos Santos\n",
       "46               0003937302               Adriana Serafim Dos Santos\n",
       "47               0003937339               Adriana Serafim Dos Santos\n",
       "48               0003940140              Flavio Ricoi Castro Andrade\n",
       "49               0003941972               Adriana Serafim Dos Santos\n",
       "50               0003946401  Cláudia Regina Maciel da Costa Carneiro\n",
       "51               0003953785               Adriana Serafim Dos Santos\n",
       "52               0003962059                     Sidiney Jose Cazarim\n",
       "53               0003970055                 Edyane Souza de Oliveira"
      ]
     },
     "execution_count": 36,
     "metadata": {},
     "output_type": "execute_result"
    }
   ],
   "source": [
    "result = pd.merge(left=sf_dfConta\n",
    "                              , right=sf_dfConsultor\n",
    "                              , left_on='OwnerId'\n",
    "                              , right_on='Id'  \n",
    "                              , how='left'\n",
    "                                    )[['Codigo_do_Cliente_SAP__c','Name_y']]\n",
    "\n",
    "result.sort_values(by='Codigo_do_Cliente_SAP__c') #[result['Name_y']!='Ricardo Cici'].sort_values(by='Name_y')\n",
    "\n",
    "#result.groupby(['Name_y']).agg(Qtd=('Name_y','count'))"
   ]
  },
  {
   "cell_type": "code",
   "execution_count": null,
   "id": "732f735c",
   "metadata": {},
   "outputs": [],
   "source": [
    "sf_dfConta.sort_values(by=['Id','CreatedDate']).to_csv('C:\\\\Temp\\\\extracao_cliente_sgi_sfe.csv',\n",
    "                                                      sep=';',\n",
    "                                                      index=False)"
   ]
  },
  {
   "cell_type": "code",
   "execution_count": null,
   "id": "3a679645",
   "metadata": {},
   "outputs": [],
   "source": [
    "\n",
    "x = pd.DataFrame(sf_dfConta['Account']) #.drop(columns='attributes')\n",
    "\n",
    "x.info()\n",
    "\n",
    "#pd.DataFrame(sf_dfConta['attributes']).drop(columns='attributes')"
   ]
  },
  {
   "cell_type": "code",
   "execution_count": null,
   "id": "538cef79",
   "metadata": {},
   "outputs": [],
   "source": [
    "sf_dfConta2  = pd.DataFrame(sf_dfConta['Account']).drop(columns='attributes')"
   ]
  },
  {
   "cell_type": "code",
   "execution_count": null,
   "id": "3d1f05be",
   "metadata": {},
   "outputs": [],
   "source": [
    "sf_dfConta2"
   ]
  },
  {
   "cell_type": "code",
   "execution_count": null,
   "id": "283f4642",
   "metadata": {},
   "outputs": [],
   "source": [
    "\n",
    "queryConta = f\"\"\"SELECT \n",
    "Id\n",
    ",Id_ODS__c\n",
    ",Canal_de_Distribuicao__c\n",
    ",Conta__c\n",
    ",Bloqueio__c\n",
    "FROM Area_de_Vendas__c\n",
    "WHERE Conta__c = '001A000000d7IiPIAU'\"\"\"\n",
    "sf_dataConta = sf.query_all(queryConta)\n",
    "\n",
    "sf_dfConta = pd.DataFrame(sf_dataConta['records']).drop(columns='attributes')\n",
    "sf_dfConta"
   ]
  },
  {
   "cell_type": "code",
   "execution_count": null,
   "id": "732f6cf1",
   "metadata": {},
   "outputs": [],
   "source": [
    "\n",
    "queryCanal = f\"\"\"SELECT \n",
    "Id\n",
    ",Name\n",
    "FROM Canal_de_Distribuicao__c\"\"\"\n",
    "sf_dataCanal = sf.query_all(queryCanal)\n",
    "\n",
    "sf_dfCanal = pd.DataFrame(sf_dataCanal['records']).drop(columns='attributes')\n",
    "sf_dfCanal"
   ]
  },
  {
   "cell_type": "code",
   "execution_count": null,
   "id": "f8edb022",
   "metadata": {},
   "outputs": [],
   "source": [
    "result = pd.merge(left=sf_dfConta\n",
    "                              , right=sf_dfCanal\n",
    "                              , left_on='Canal_de_Distribuicao__c'\n",
    "                              , right_on='Id'  \n",
    "                              , how='left'\n",
    "                                    )[['Conta__c','Name','Bloqueio__c']]\n",
    "\n",
    "\n",
    "\n",
    "result"
   ]
  },
  {
   "cell_type": "code",
   "execution_count": null,
   "id": "c388d98e",
   "metadata": {},
   "outputs": [],
   "source": [
    "queryConta = f\"\"\" SELECT \n",
    "Id\n",
    ",Codigo_do_Cliente_SAP__c\n",
    ",Name\n",
    ",UFCapex__c\n",
    ",Estabelecimento_Unidade_de_Negocio_SHV__c \n",
    ",Grupo_de_Contas2__c\n",
    ",Grupo_de_Contas__c\n",
    ",ownerid\n",
    ",CodigoClienteSAPRecebedor_DFV__c\n",
    ",CreatedDate\n",
    ",CreatedById\n",
    "FROM Account\n",
    "where Numero_do_Documento__c = '56720629972'\n",
    "\"\"\"\n",
    "sf_dataConta = sf.query_all(queryConta)"
   ]
  },
  {
   "cell_type": "code",
   "execution_count": null,
   "id": "1e1f0e90",
   "metadata": {},
   "outputs": [],
   "source": [
    "sf_dfConta = pd.DataFrame(sf_dataConta['records']).drop(columns='attributes')\n",
    "#sf_dfConta['CreatedDate'].max()\n",
    "sf_dfConta.sort_values(by='CreatedDate' , ascending=False)\n",
    "#sf_dfConta.to_csv('base_cliente_sfe_luan.csv',sep=';',index=False)"
   ]
  },
  {
   "cell_type": "code",
   "execution_count": null,
   "id": "b0f123e7",
   "metadata": {},
   "outputs": [],
   "source": [
    "dfclientesfe = pd.read_csv('C:\\\\Temp\\\\contas_sfe.txt',names=['CodCliente'],dtype={'CodCliente':'str'})\n",
    "dfclientesfe.info()"
   ]
  },
  {
   "cell_type": "code",
   "execution_count": null,
   "id": "df7c1777",
   "metadata": {},
   "outputs": [],
   "source": [
    "queryCentro = f\"\"\"SELECT Id\n",
    ", Name\n",
    ", Codigo_do_Estabelecimento__c\n",
    ", Unidade_de_negocio__c\n",
    ", Area__c\n",
    ", Ativo__c\n",
    ", Codigo_Centro_Fornecedor__c \n",
    "FROM Estabelecimento__c\n",
    "\"\"\"\n",
    "sf_dataCentro = sf.query_all(queryCentro)\n",
    "\n",
    "sf_dataCentro = pd.DataFrame(sf_dataCentro['records']).drop(columns='attributes')\n",
    "sf_dataCentro[sf_dataCentro['Codigo_do_Estabelecimento__c'].isin(['1285','1821'])]\n",
    "#sf_dfConta.to_csv('base_cliente_sfe_uat.csv',sep=';',index=False)\n",
    "\n"
   ]
  },
  {
   "cell_type": "code",
   "execution_count": null,
   "id": "82352887",
   "metadata": {},
   "outputs": [],
   "source": [
    "\n",
    "\n",
    "sf_dataCentro[sf_dataCentro['Id'].isin(['a0B4z00001PwiLwEAJ'])]"
   ]
  },
  {
   "cell_type": "code",
   "execution_count": null,
   "id": "0287c459",
   "metadata": {},
   "outputs": [],
   "source": [
    "resultAmostraClienteSFE = pd.merge((pd.merge(left=dfclientesfe\n",
    "                              , right=sf_dfConta\n",
    "                              , left_on='CodCliente'\n",
    "                              , right_on='Codigo_do_Cliente_SAP__c'  \n",
    "                              , how='left'\n",
    "                                    )[['CodCliente','Estabelecimento_Unidade_de_Negocio_SHV__c']]\n",
    "                          ), right=sf_dataCentro\n",
    "                          , left_on='Estabelecimento_Unidade_de_Negocio_SHV__c'\n",
    "                          , right_on='Id'\n",
    "                          , how='left'\n",
    "                                )[['CodCliente','Codigo_do_Estabelecimento__c']]\n",
    "\n",
    "resultAmostraClienteSFE.to_csv('base_cliente_621.csv',sep=';')"
   ]
  },
  {
   "cell_type": "code",
   "execution_count": null,
   "id": "01940fe3",
   "metadata": {},
   "outputs": [],
   "source": [
    "resultAmostraClienteConsultor = pd.merge(left=sf_dfConta\n",
    "                              , right=sf_dataCentro\n",
    "                              , left_on='Estabelecimento_Unidade_de_Negocio_SHV__c'\n",
    "                              , right_on='Id'                                                                                              \n",
    "                                    )[['Codigo_do_Cliente_SAP__c','Codigo_do_Estabelecimento__c','Name_y']]\n",
    "\n",
    "resultAmostraClienteConsultor"
   ]
  },
  {
   "cell_type": "code",
   "execution_count": null,
   "id": "eb4f7d81",
   "metadata": {},
   "outputs": [],
   "source": [
    "queryArea_de_Vendas = f\"\"\" SELECT \n",
    "Id\n",
    ",Name\n",
    ",Empresa__c\n",
    ",Id_ODS__c\n",
    ",Setor_de_Atividade__c\n",
    ",Grupo_de_Preco__c\n",
    ",Conta__c\n",
    ",Canal_de_Distribuicao__c\n",
    ",Bloqueio__c\n",
    ",CreatedDate\n",
    "FROM Area_de_Vendas__c\n",
    "where Conta__c IN (\n",
    "'0011Y00002s2PkqQAE',\n",
    "'0011Y00002u9yWKQAY',\n",
    "'0012A00001udqxbQAA',\n",
    "'0014z00001hWuXGAA0',\n",
    "'0014z00001hX1GiAAK',\n",
    "'0014z00001hXHQvAAO',\n",
    "'0014z00001hXJi7AAG',\n",
    "'0014z00001hXchHAAS',\n",
    "'0014z00001hYJE9AAO',\n",
    "'0014z00001hYWT2AAO',\n",
    "'0014z00001iJLqlAAG',\n",
    "'0014z00001iJsQkAAK',\n",
    "'0014z00001iKX9bAAG',\n",
    "'0014z00001iKs66AAC',\n",
    "'0014z00001iLOfWAAW',\n",
    "'0014z00001iM364AAC',\n",
    "'0014z00001iM77bAAC',\n",
    "'0014z00001jTQKAAA4',\n",
    "'0014z00001jV1MpAAK',\n",
    "'0014z00001jVRAyAAO',\n",
    "'0014z00001lsRiMAAU',\n",
    "'0014z00001nJNnHAAW',\n",
    "'001A000000d7LXAIA2',\n",
    "'001A000000d7PWrIAM',\n",
    "'001A000000d7Ru2IAE',\n",
    "'001A000000d7arZIAQ',\n",
    "'001A000000d7fm2IAA',\n",
    "'001A000000d7iuAIAQ',\n",
    "'001A000000dGZFFIA4',\n",
    "'001F000000j7cFsIAI',\n",
    "'001F000000j7eVXIAY',\n",
    "'001F000000j7gggIAA',\n",
    "'001F000000lXXz2IAG',\n",
    "'001F000000marGHIAY',\n",
    "'001F000000n6yuHIAQ',\n",
    "'001F000000n7EBBIA2',\n",
    "'001F000000o1DMOIA2',\n",
    "'001F000001NooSKIAZ',\n",
    "'001F000001TJCoQIAX',\n",
    "'001F000001VdPCuIAN',\n",
    "'001F000001VevDcIAJ',\n",
    "'001F000001fbMtcIAE')\n",
    "\n",
    "\"\"\"\n",
    "sf_dataArea_de_Vendas = sf.query_all(queryArea_de_Vendas)"
   ]
  },
  {
   "cell_type": "code",
   "execution_count": null,
   "id": "7be31747",
   "metadata": {},
   "outputs": [],
   "source": [
    "sf_dataArea_de_Vendas = pd.DataFrame(sf_dataArea_de_Vendas['records']).drop(columns='attributes')\n",
    "sf_dataArea_de_Vendas\n",
    "sf_dataArea_de_Vendas.to_csv('base_areaVendas_sfe_uat.csv',sep=';',index=False)"
   ]
  },
  {
   "cell_type": "code",
   "execution_count": null,
   "id": "23ff751e",
   "metadata": {},
   "outputs": [],
   "source": [
    "queryConsultor = f\"\"\"SELECT Id, Username, Name FROM User\n",
    "\"\"\"\n",
    "sf_dataConsultor = sf.query_all(queryConsultor)\n",
    "\n",
    "sf_dfConsultor = pd.DataFrame(sf_dataConsultor['records']).drop(columns='attributes')\n",
    "\n",
    "sf_dfConsultor[sf_dfConsultor['Id']=='0052A000009LHLmQAO']\n",
    "#sf_dfConsultor[sf_dfConsultor['Id']=='0054z000008nCT6AAM']\n"
   ]
  },
  {
   "cell_type": "code",
   "execution_count": null,
   "id": "6e1fdd61",
   "metadata": {},
   "outputs": [],
   "source": [
    "resultAmostraClienteConsultor = pd.merge(left=sf_dfConta\n",
    "                              , right=sf_dfConsultor\n",
    "                              , left_on='OwnerId'\n",
    "                              , right_on='Id'                                                                                              \n",
    "                                    )[['Id_x','Codigo_do_Cliente_SAP__c','Name_x','Username','Name_y']]\n",
    "\n",
    "resultAmostraClienteConsultor.groupby(['Name_y'],as_index=False).agg(Qtd=('Name_y','count'))\n",
    "\n",
    "resultAmostraClienteConsultor.sort_values(by='Codigo_do_Cliente_SAP__c').to_csv('base_cliente_consultores_henrique.csv',sep=';',index=False)"
   ]
  },
  {
   "cell_type": "code",
   "execution_count": null,
   "id": "7e780ed4",
   "metadata": {},
   "outputs": [],
   "source": [
    "#queryGrupoConta = f\"\"\" SELECT \n",
    "#Id\n",
    "#,Name\n",
    "#,OwnerId\n",
    "#,CreatedById\n",
    "#,LastModifiedById\n",
    "#FROM Grupo_de_Conta__c\n",
    "#\"\"\"\n",
    "#sf_dataGrupoConta = sf.query_all(queryGrupoConta)\n",
    "\n",
    "#sf_dfGrupoConta = pd.DataFrame(sf_dataGrupoConta['records']).drop(columns='attributes')\n",
    "\n",
    "#sf_dfGrupoConta[sf_dfGrupoConta['Id']=='a17F000000R17A3IAJ']\n"
   ]
  },
  {
   "cell_type": "code",
   "execution_count": null,
   "id": "e6e09763",
   "metadata": {},
   "outputs": [],
   "source": [
    "#sf.Account.update('0018D00000HARkyQAH',{'Grupo_de_Contas2__c': 'a17F000000R17A3IAJ'})"
   ]
  },
  {
   "cell_type": "code",
   "execution_count": null,
   "id": "ffc6f2e9",
   "metadata": {},
   "outputs": [],
   "source": [
    "#contact = sf.Account.get('0018D00000HARkmQAH')\n",
    "#contact"
   ]
  },
  {
   "cell_type": "code",
   "execution_count": null,
   "id": "d33898b1",
   "metadata": {},
   "outputs": [],
   "source": [
    "#sf_dfConta = pd.DataFrame(sf_dataConta['records']).drop(columns='attributes')\n",
    "#sf_dfConta.count()\n",
    "##sf_dfConta.to_csv('arquivo_clientes_sae.csv',sep=';',index=False)"
   ]
  },
  {
   "cell_type": "code",
   "execution_count": null,
   "id": "5ff257ce",
   "metadata": {},
   "outputs": [],
   "source": [
    "#sf_dfConta[sf_dfConta['Codigo_do_Cliente_SAP__c']=='0003901683']"
   ]
  },
  {
   "cell_type": "code",
   "execution_count": null,
   "id": "4c1dd364",
   "metadata": {},
   "outputs": [],
   "source": [
    "#z\\xczaczxsdfsdfsdfsdf"
   ]
  },
  {
   "cell_type": "code",
   "execution_count": null,
   "id": "c581bb9b",
   "metadata": {},
   "outputs": [],
   "source": [
    "queryArea_de_Vendas = f\"\"\" SELECT \n",
    "Id\n",
    ",Name\n",
    ",Empresa__c\n",
    ",Id_ODS__c\n",
    ",Setor_de_Atividade__c\n",
    ",Grupo_de_Preco__c\n",
    ",Conta__c\n",
    ",Canal_de_Distribuicao__c\n",
    ",Bloqueio__c\n",
    ",CreatedDate\n",
    "FROM Area_de_Vendas__c\n",
    "where Conta__c = '001A000000d7IiPIAU'\n",
    "\n",
    "\"\"\"\n",
    "sf_dataArea_de_Vendas = sf.query_all(queryArea_de_Vendas)"
   ]
  },
  {
   "cell_type": "code",
   "execution_count": null,
   "id": "aed9d70e",
   "metadata": {},
   "outputs": [],
   "source": [
    "sf_dataArea_de_Vendas = pd.DataFrame(sf_dataArea_de_Vendas['records']).drop(columns='attributes')\n",
    "sf_dataArea_de_Vendas\n",
    "#sf_dataArea_de_Vendas.to_csv('base_areaVendas_sfe_uat.csv',sep=';',index=False)"
   ]
  },
  {
   "cell_type": "code",
   "execution_count": null,
   "id": "cf173162",
   "metadata": {},
   "outputs": [],
   "source": [
    "resultClienteAreaVenda = pd.merge(left=sf_dfConta\n",
    "                              , right=sf_dataArea_de_Vendas\n",
    "                              , left_on='Id'\n",
    "                              , right_on='Conta__c'                                                                                              \n",
    "                                    )[['Codigo_do_Cliente_SAP__c','Name_x','Conta__c','Empresa__c','Bloqueio__c','CreatedDate']]\n",
    "\n",
    "resultClienteAreaVenda"
   ]
  },
  {
   "cell_type": "code",
   "execution_count": null,
   "id": "8bdb41e7",
   "metadata": {},
   "outputs": [],
   "source": [
    "arquivoCliente = 'base_cliente_sfe_uat.csv'\n",
    "\n",
    "dfClienteSFE_JANAINA = pd.read_csv(arquivoCliente, sep=';',low_memory=False)\n",
    "\n",
    "dfClienteSFE_JANAINA[dfClienteSFE_JANAINA['Codigo_do_Cliente_SAP__c'].isin(['0003951669',\n",
    "'0003951668',\n",
    "'0003951670',\n",
    "'0003951671',\n",
    "'0003951672',\n",
    "'0003951673',\n",
    "'0003951674',\n",
    "'0003951675',\n",
    "'0003951676',\n",
    "'0003951677',\n",
    "'0003951678',\n",
    "'0003951679',\n",
    "'0003951680'])].to_csv('clientes_janaina.csv',sep=';',index=False)"
   ]
  },
  {
   "cell_type": "code",
   "execution_count": null,
   "id": "0ac26ebb",
   "metadata": {},
   "outputs": [],
   "source": [
    "baseClienteClonado = dfClienteSFE_JANAINA[dfClienteSFE_JANAINA['Codigo_do_Cliente_SAP__c'].isin(['0003951669',\n",
    "'0003951668',\n",
    "'0003951670',\n",
    "'0003951671',\n",
    "'0003951672',\n",
    "'0003951673',\n",
    "'0003951674',\n",
    "'0003951675',\n",
    "'0003951676',\n",
    "'0003951677',\n",
    "'0003951678',\n",
    "'0003951679',\n",
    "'0003951680'])]\n",
    "\n",
    "resultAmostra = pd.merge(left=baseClienteClonado\n",
    "                              , right=sf_dataArea_de_Vendas\n",
    "                              , left_on='Id'\n",
    "                              , right_on='Conta__c'                                                                                              \n",
    "                                    )#[['IDTSFECLIENTE','CLIENTE SAP','idtsfecentro','Estabelecimento_Unidade_de_Negocio_SHV__c']]\n",
    "\n",
    "resultAmostra\n",
    "\n",
    "#.to_csv('clientes_area_venda_janaina.csv',sep=';',index=False)"
   ]
  },
  {
   "cell_type": "code",
   "execution_count": null,
   "id": "d52076cb",
   "metadata": {},
   "outputs": [],
   "source": [
    "arquivoBaseCentros = 'centros_incorportacao_mic_super.csv'\n",
    "\n",
    "dfBaseCentros = pd.read_csv(arquivoBaseCentros, sep=';',low_memory=False)\n",
    "\n",
    "dfBaseCentros"
   ]
  },
  {
   "cell_type": "code",
   "execution_count": null,
   "id": "0e80962a",
   "metadata": {},
   "outputs": [],
   "source": [
    "result = pd.merge(left=sf_dfConta\n",
    "                              , right=dfBaseCentros\n",
    "                              , left_on='Estabelecimento_Unidade_de_Negocio_SHV__c'\n",
    "                              , right_on='IDTSFECentro'                                                                                              \n",
    "                                    )\n",
    "                  \n",
    "result[['Id','Codigo_do_Cliente_SAP__c','Estabelecimento_Unidade_de_Negocio_SHV__c','CodCentro']].sort_values(by='CodCentro')"
   ]
  },
  {
   "cell_type": "code",
   "execution_count": null,
   "id": "6965440b",
   "metadata": {},
   "outputs": [],
   "source": [
    "arquivoIsabela = 'Extração SF Contas nos Centros antigos.xlsx'\n",
    "\n",
    "dfClienteIsabele = pd.read_excel(arquivoIsabela)\n",
    "\n",
    "dfClienteIsabele"
   ]
  },
  {
   "cell_type": "code",
   "execution_count": null,
   "id": "7df813db",
   "metadata": {},
   "outputs": [],
   "source": [
    "dfAmostra = dfClienteIsabele[dfClienteIsabele['seq'] <= 200]"
   ]
  },
  {
   "cell_type": "code",
   "execution_count": null,
   "id": "450ce338",
   "metadata": {},
   "outputs": [],
   "source": [
    "arquivoBaseClienteSalesforce = 'base_cliente_sfe_uat.csv'\n",
    "\n",
    "dfBaseClienteSalesforce = pd.read_csv(arquivoBaseClienteSalesforce, sep=';',low_memory=False)\n",
    "\n",
    "dfBaseClienteSalesforce"
   ]
  },
  {
   "cell_type": "code",
   "execution_count": null,
   "id": "53f73f17",
   "metadata": {},
   "outputs": [],
   "source": [
    "resultAmostra = pd.merge(pd.merge(pd.merge(left=dfAmostra\n",
    "                              , right=dfBaseClienteSalesforce\n",
    "                              , left_on='IDTSFECLIENTE'\n",
    "                              , right_on='Id'                                                                                              \n",
    "                                    ), right=dfBaseCentros\n",
    "                              , left_on='Estabelecimento_Unidade_de_Negocio_SHV__c'\n",
    "                              , right_on='IDTSFECentro'\n",
    "                        ), right=dfBaseCentros\n",
    "                              , left_on='idtsfecentro'\n",
    "                              , right_on='IDTSFECentro')[['IDTSFECLIENTE'\n",
    "                                                          ,'CLIENTE SAP'\n",
    "                                                          ,'idtsfecentro'\n",
    "                                                          ,'CodCentro_y'\n",
    "                                                          ,'Estabelecimento_Unidade_de_Negocio_SHV__c'\n",
    "                                                          ,'CodCentro_x']]\n",
    "\n",
    "resultAmostra.loc[resultAmostra['CodCentro_x'] == resultAmostra['CodCentro_y'], 'Comparacao'] = 'Não Mudou Centro'\n",
    "resultAmostra.loc[resultAmostra['CodCentro_x'] != resultAmostra['CodCentro_y'], 'Comparacao'] = 'Mudou Centro'\n",
    "\n",
    "resultAmostra.groupby(['Comparacao'],as_index=False).agg(Qtd=('Comparacao','count'))"
   ]
  },
  {
   "cell_type": "code",
   "execution_count": null,
   "id": "5cb4e00c",
   "metadata": {},
   "outputs": [],
   "source": [
    "\n",
    "dfcliente = pd.read_csv('arquivo_clientes_sae.csv', sep=';',dtype={'Id':'str',\n",
    "'OwnerId':'str',\n",
    "'Codigo_do_Cliente_SAP__c':'str',\n",
    "'Name':'str',\n",
    "'UFCapex__c':'str'\t,\n",
    "'Cidade__c':'str',\n",
    "'CodigoClienteSAPRecebedor_DFV__c':'str',\n",
    "'Codigo_Parceiro_Negocio__c':'str'})\n",
    "\n",
    "\n",
    "dfcliente"
   ]
  },
  {
   "cell_type": "code",
   "execution_count": null,
   "id": "bf240f18",
   "metadata": {},
   "outputs": [],
   "source": [
    "\n",
    "dfcliente_nao_integrados = pd.read_csv('clientes_nao_integrados.csv', sep=';',dtype={'Codigo_do_Cliente_SAP__c':'str'})\n",
    "\n",
    "\n",
    "dfcliente_nao_integrados"
   ]
  },
  {
   "cell_type": "code",
   "execution_count": null,
   "id": "65a26994",
   "metadata": {},
   "outputs": [],
   "source": [
    "result = pd.merge(left=dfcliente_nao_integrados\n",
    "                              , right=dfcliente\n",
    "                              , left_on='Codigo_do_Cliente_SAP__c'\n",
    "                              , right_on='Codigo_do_Cliente_SAP__c'                                                                                              \n",
    "                                    )"
   ]
  },
  {
   "cell_type": "code",
   "execution_count": null,
   "id": "9704bba2",
   "metadata": {},
   "outputs": [],
   "source": [
    "result"
   ]
  },
  {
   "cell_type": "code",
   "execution_count": null,
   "id": "ded76cc0",
   "metadata": {},
   "outputs": [],
   "source": [
    "dfbaseEmpregado = pd.read_csv('base_empregado.csv', sep=';',dtype={'IdtSFEEmpregado':'str', \n",
    "                                                                  'CodEmpregado':'str',\n",
    "                                                                  'NomConsultor':'str'}\n",
    "                             ,names=['IdtSFEEmpregado','CodEmpregado','NomConsultor']\n",
    "                             ,header=0)\n",
    "\n",
    "\n",
    "dfbaseEmpregado"
   ]
  },
  {
   "cell_type": "code",
   "execution_count": null,
   "id": "75b5ad57",
   "metadata": {},
   "outputs": [],
   "source": [
    "resultFinal = pd.merge(left=result\n",
    "                              , right=dfbaseEmpregado\n",
    "                              , left_on='OwnerId'\n",
    "                              , right_on='IdtSFEEmpregado'                                                                                              \n",
    "                                    )[['Codigo_do_Cliente_SAP__c'\n",
    "             ,'Id'\n",
    "             ,'OwnerId'\n",
    "             ,'CodEmpregado'\n",
    "             ,'NomConsultor'\n",
    "             ,'Name'\n",
    "             ,'UFCapex__c'\n",
    "             ,'Cidade__c'\n",
    "             ,'CodigoClienteSAPRecebedor_DFV__c'\n",
    "             ,'Codigo_Parceiro_Negocio__c'\n",
    "]].sort_values(by='Codigo_do_Cliente_SAP__c')"
   ]
  },
  {
   "cell_type": "code",
   "execution_count": null,
   "id": "10f6cfd8",
   "metadata": {},
   "outputs": [],
   "source": [
    "resultFinal.to_csv('arquivo_final.csv',sep=';',index=False)"
   ]
  },
  {
   "cell_type": "code",
   "execution_count": null,
   "id": "94289adc",
   "metadata": {},
   "outputs": [],
   "source": [
    "asdasdasdasdasdasd"
   ]
  },
  {
   "cell_type": "code",
   "execution_count": null,
   "id": "c86bc637",
   "metadata": {},
   "outputs": [],
   "source": [
    "resultFinal[resultFinal['Codigo_do_Cliente_SAP__c']=='0003925333']"
   ]
  },
  {
   "cell_type": "code",
   "execution_count": null,
   "id": "afb8fb5d",
   "metadata": {},
   "outputs": [],
   "source": [
    "queryConta = f\"\"\" SELECT Id, Name FROM user where Id In ('005F0000001vqBbIAI')\"\"\"\n",
    "sf_dataConta = sf.query_all(queryConta)"
   ]
  },
  {
   "cell_type": "code",
   "execution_count": null,
   "id": "8d8a69b1",
   "metadata": {},
   "outputs": [],
   "source": [
    "sf_dfConta = pd.DataFrame(sf_dataConta['records']).drop(columns='attributes')\n",
    "sf_dfConta"
   ]
  },
  {
   "cell_type": "code",
   "execution_count": null,
   "id": "9988a222",
   "metadata": {},
   "outputs": [],
   "source": [
    "adsdsdadsd"
   ]
  },
  {
   "cell_type": "code",
   "execution_count": null,
   "id": "6e40b61c",
   "metadata": {},
   "outputs": [],
   "source": [
    "arquivo = 'C:\\\\Temp\\\\EXTCONTACONTRATO_20220502171614.csv'\n",
    "\n",
    "df = pd.read_csv(arquivo, sep=';',error_bad_lines=False,engine='python')"
   ]
  },
  {
   "cell_type": "code",
   "execution_count": null,
   "id": "451675ea",
   "metadata": {},
   "outputs": [],
   "source": [
    "df[df['Parceiro de Negocio'] == 42570]"
   ]
  },
  {
   "cell_type": "code",
   "execution_count": null,
   "id": "6874a3d3",
   "metadata": {},
   "outputs": [],
   "source": [
    "df[df['Codigo do cliente Datasul'] =='0001051639']"
   ]
  },
  {
   "cell_type": "code",
   "execution_count": null,
   "id": "51f173ab",
   "metadata": {},
   "outputs": [],
   "source": [
    "\n",
    "queryMCTQ = f\"\"\" SELECT Id\n",
    ",Origin\n",
    ",ParentId\n",
    ",CaseNumber\n",
    ",AccountId\n",
    ",CreatedDate\n",
    ",CreatedById\n",
    ",Status\n",
    ",Description\n",
    ",ClosedDate\n",
    ",Tempo_de_Duracao__c\t\n",
    ",Numero_do_Protocolo__c\n",
    "\n",
    "FROM Case \n",
    "\n",
    "WHERE Origin IN ('RCC' , 'Atendimento pela URA')\n",
    "\n",
    "and CaseNumber = '01694400'\"\"\"\n",
    "sf_dataMCTQ = sf.query_all(queryMCTQ)\n",
    "sf_dfMCTQ = pd.DataFrame(sf_dataMCTQ['records']).drop(columns='attributes')\n",
    "sf_dfMCTQ"
   ]
  },
  {
   "cell_type": "code",
   "execution_count": null,
   "id": "9e49bf88",
   "metadata": {},
   "outputs": [],
   "source": [
    "AnoMes = 2022\n",
    "#print(AnoMes)\n",
    "queryCPQ = f\"\"\" SELECT \n",
    "    Id\n",
    "    ,IdCapex_DFV__c\n",
    "    ,SBQQ__Account__c\n",
    "    FROM SBQQ__QUOTE__C\n",
    "    WHERE IdCapex_DFV__c in (\n",
    "'4100012805'\n",
    ")\n",
    "\"\"\"\n",
    "#print(query)\n",
    "\n",
    "sf_dataCPQ = sf.query_all(queryCPQ)"
   ]
  },
  {
   "cell_type": "code",
   "execution_count": null,
   "id": "72607887",
   "metadata": {},
   "outputs": [],
   "source": [
    "sf_dfCPQ = pd.DataFrame(sf_dataCPQ['records']).drop(columns='attributes')\n",
    "sf_dfCPQ"
   ]
  },
  {
   "cell_type": "code",
   "execution_count": null,
   "id": "6e4fd0eb",
   "metadata": {},
   "outputs": [],
   "source": [
    "queryCLT = f\"\"\" SELECT \n",
    "    Id\n",
    "    ,Name\n",
    "    ,Data_de_aprovacao_do_CAPEX_no_SFE__c\n",
    "    FROM Capex__c\n",
    "    WHERE Name in ( '4000030669' )\n",
    "\"\"\"\n",
    "sf_dataCLT = sf.query_all(queryCLT)\n",
    "\n",
    "sf_dfCLT = pd.DataFrame(sf_dataCLT['records']).drop(columns='attributes')\n",
    "\n",
    "sf_dfCLT"
   ]
  },
  {
   "cell_type": "code",
   "execution_count": null,
   "id": "f1be5e2e",
   "metadata": {},
   "outputs": [],
   "source": [
    "queryAccount = f\"\"\" SELECT \n",
    "    Codigo_do_Cliente_SAP__c\n",
    "    ,Status_da_Conta__c\n",
    "    ,OwnerId\n",
    "    ,CodigoClienteSAPRecebedor_DFV__c\n",
    "    ,Id\n",
    "    FROM account\n",
    "    WHERE Codigo_do_Cliente_SAP__c in ('0003921820')\n",
    "\"\"\"\n",
    "sf_dataAccount = sf.query_all(queryAccount)\n",
    "\n",
    "sf_dfAccount = pd.DataFrame(sf_dataAccount['records']).drop(columns='attributes')\n",
    "\n",
    "sf_dfAccount"
   ]
  },
  {
   "cell_type": "code",
   "execution_count": null,
   "id": "3d43593f",
   "metadata": {},
   "outputs": [],
   "source": [
    "queryAreaVenda = f\"\"\" SELECT \n",
    "    Id,Id_ODS__c,Conta__c,Bloqueio__c,Setor_de_Atividade__c\n",
    "    FROM Area_de_Vendas__c\n",
    "    Where Conta__c = '0014z00001iLLbjAAG'\n",
    "\"\"\"\n",
    "sf_dataAreaVenda = sf.query_all(queryAreaVenda)\n",
    "\n",
    "sf_dfAreaVenda = pd.DataFrame(sf_dataAreaVenda['records']).drop(columns='attributes')\n",
    "\n",
    "sf_dfAreaVenda"
   ]
  },
  {
   "cell_type": "code",
   "execution_count": null,
   "id": "5fc4760f",
   "metadata": {},
   "outputs": [],
   "source": [
    "sf_df.groupby(['OwnerId']).count()"
   ]
  },
  {
   "cell_type": "code",
   "execution_count": null,
   "id": "e60673c1",
   "metadata": {},
   "outputs": [],
   "source": [
    "sf_dataGrupoConta = sf.query_all(\"\"\"\n",
    "SELECT Id, Codigo_do_Grupo_de_Conta__c,Name\n",
    "\n",
    "FROM Grupo_de_Conta__c\n",
    "\"\"\")"
   ]
  },
  {
   "cell_type": "code",
   "execution_count": null,
   "id": "ec1e10db",
   "metadata": {},
   "outputs": [],
   "source": [
    "sf_dataRecordType = sf.query_all(\"\"\"\n",
    "SELECT Id, Name\n",
    "\n",
    "FROM User\n",
    "\n",
    "where id = '005F0000003soctIAA'\n",
    "\"\"\")"
   ]
  },
  {
   "cell_type": "code",
   "execution_count": null,
   "id": "a1e21490",
   "metadata": {},
   "outputs": [],
   "source": [
    "\n",
    "sf_dfRecordType = pd.DataFrame(sf_dataRecordType['records']).drop(columns='attributes')\n",
    "\n",
    "sf_dfRecordType\n"
   ]
  },
  {
   "cell_type": "code",
   "execution_count": null,
   "id": "247449b3",
   "metadata": {},
   "outputs": [],
   "source": [
    "df_zvmc = pd.merge(sf_df, sf_dfRecordType, left_on = 'RecordTypeId', right_on = 'Id') \\\n",
    ".merge(sf_dfGrupoConta, left_on = 'Grupo_de_Contas2__c', right_on = 'Id')"
   ]
  },
  {
   "cell_type": "code",
   "execution_count": null,
   "id": "8162961d",
   "metadata": {},
   "outputs": [],
   "source": [
    "df_filtrado = df_zvmc[['Id_x','Codigo_do_Cliente_SAP__c','Name_x','Name_y','Codigo_do_Grupo_de_Conta__c','Name']]\n",
    "\n",
    "df_filtrado.rename(columns={'Id_x':'IdSFEConta','Name_x':'Conta','Name_y':'TipoDeRegistroDaConta','Codigo_do_Grupo_de_Conta__c':'CodGrupoConta','Name':'NomGrupoConta'},inplace=True)"
   ]
  },
  {
   "cell_type": "code",
   "execution_count": null,
   "id": "d57251ca",
   "metadata": {},
   "outputs": [],
   "source": [
    "df_filtrado.to_csv('cliente_zvmc.csv',index=False,sep=';')"
   ]
  },
  {
   "cell_type": "code",
   "execution_count": null,
   "id": "7e6cf71f",
   "metadata": {},
   "outputs": [],
   "source": [
    "arquivo = 'f1794978-671d-b385-b13d-9ba7c8704def_0.txt'\n",
    "\n",
    "df = pd.read_csv(arquivo, sep=',')"
   ]
  },
  {
   "cell_type": "code",
   "execution_count": null,
   "id": "07c304aa",
   "metadata": {},
   "outputs": [],
   "source": [
    "df.info()"
   ]
  },
  {
   "cell_type": "code",
   "execution_count": null,
   "id": "9381edf8",
   "metadata": {},
   "outputs": [],
   "source": [
    "df.groupby(['Message']).count()"
   ]
  },
  {
   "cell_type": "code",
   "execution_count": null,
   "id": "5d392afc",
   "metadata": {},
   "outputs": [],
   "source": [
    "arquivo = '2da2bfcf-fa18-33d8-e914-a31115c68da9_0.txt'\n",
    "\n",
    "df = pd.read_csv(arquivo, sep=',')"
   ]
  },
  {
   "cell_type": "code",
   "execution_count": null,
   "id": "adcf25a6",
   "metadata": {},
   "outputs": [],
   "source": [
    "df.groupby(['Message']).count()"
   ]
  },
  {
   "cell_type": "code",
   "execution_count": null,
   "id": "3715fb64",
   "metadata": {},
   "outputs": [],
   "source": [
    "\n",
    "queryCaso = f\"\"\"SELECT \n",
    "Id\n",
    ",Codigo_do_Caso__c\n",
    ",Type,Subtipo_do_Caso__c\n",
    ",Canal_de_Venda__c\n",
    ",Origin\n",
    ",Priority\n",
    ",Status\n",
    ",Data_de_Vencimento__c\n",
    ",Subject\n",
    ",Description\n",
    ",idRespostaQuestao__c\n",
    ",AccountId\n",
    ",CreatedDate\n",
    ",CreatedById\n",
    ",CaseNumber\n",
    "FROM Case \n",
    "where Origin = 'Checklist de Abastecimento'\n",
    "and CreatedDate >= 2022-11-29T00:00:03Z\"\"\"\n",
    "sf_dataCaso = sf.query_all(queryCaso)\n",
    "\n",
    "sf_dfCaso = pd.DataFrame(sf_dataCaso['records']).drop(columns='attributes')\n",
    "sf_dfCaso"
   ]
  },
  {
   "cell_type": "code",
   "execution_count": null,
   "id": "6ff5c697",
   "metadata": {},
   "outputs": [],
   "source": [
    "queryConta = f\"\"\" SELECT \n",
    "Id\n",
    ",Codigo_do_Cliente_SAP__c\n",
    "FROM Account\n",
    "\"\"\"\n",
    "sf_dataConta = sf.query_all(queryConta)\n",
    "sf_dfConta = pd.DataFrame(sf_dataConta['records']).drop(columns='attributes')\n",
    "sf_dfConta"
   ]
  },
  {
   "cell_type": "code",
   "execution_count": null,
   "id": "4c31f4ea",
   "metadata": {},
   "outputs": [],
   "source": [
    "resultFinal = pd.merge(left=sf_dfCaso\n",
    "                              , right=sf_dfConta\n",
    "                              , left_on='AccountId'\n",
    "                              , right_on='Id'                                                                                              \n",
    "                                    )"
   ]
  },
  {
   "cell_type": "code",
   "execution_count": null,
   "id": "fccfcda2",
   "metadata": {},
   "outputs": [],
   "source": [
    "resultFinal.to_csv('base_casos_hml.csv', index=False, sep=';', encoding='latin-1')"
   ]
  }
 ],
 "metadata": {
  "kernelspec": {
   "display_name": "Python 3 (ipykernel)",
   "language": "python",
   "name": "python3"
  },
  "language_info": {
   "codemirror_mode": {
    "name": "ipython",
    "version": 3
   },
   "file_extension": ".py",
   "mimetype": "text/x-python",
   "name": "python",
   "nbconvert_exporter": "python",
   "pygments_lexer": "ipython3",
   "version": "3.9.13"
  }
 },
 "nbformat": 4,
 "nbformat_minor": 5
}
