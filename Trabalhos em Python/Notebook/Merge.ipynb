{
 "cells": [
  {
   "cell_type": "code",
   "execution_count": 1,
   "id": "35cb7282",
   "metadata": {},
   "outputs": [],
   "source": [
    "import json"
   ]
  },
  {
   "cell_type": "code",
   "execution_count": 2,
   "id": "cbfdecb0",
   "metadata": {},
   "outputs": [],
   "source": [
    "file = open('arqJson.json')\n",
    "dfJsonSempreGas = json.load(file)"
   ]
  },
  {
   "cell_type": "code",
   "execution_count": 3,
   "id": "d20f8ad3",
   "metadata": {},
   "outputs": [
    {
     "data": {
      "text/plain": [
       "{'cylinders': {'tabelaSQLServer': 'public.cylinders',\n",
       "  'colunasTabela': 'id,device_id,tare,created_at,updated_at,first_reading_id,historical_consumption,address_id,seal_number,installed,manual_last_reading_weight,brand,usage',\n",
       "  'tabela_destino': 'tmp_cylinders',\n",
       "  'tabela_origem': 'cylinders',\n",
       "  'colunasMerge': 'id,id2'},\n",
       " 'consumption_rates': {'tabelaSQLServer': 'public.consumption_rates',\n",
       "  'colunasTabela': 'id, client_id, device_id, days_until_empty, rate, created_at, updated_at',\n",
       "  'tabela_destino': 'tmp_consumption_rates',\n",
       "  'tabela_origem': 'consumption_rates',\n",
       "  'colunasMerge': 'id'}}"
      ]
     },
     "execution_count": 3,
     "metadata": {},
     "output_type": "execute_result"
    }
   ],
   "source": [
    "dfJsonSempreGas"
   ]
  },
  {
   "cell_type": "code",
   "execution_count": 5,
   "id": "5b011633",
   "metadata": {
    "scrolled": true
   },
   "outputs": [
    {
     "name": "stdout",
     "output_type": "stream",
     "text": [
      "----------------------------------------------------------------------\n",
      "tabela que será atualizada: \n",
      "public.cylinders\n",
      "\n",
      "merge_final: \n",
      "tmp_cylinders.id = cylinders.id AND tmp_cylinders.id2 = cylinders.id2\n",
      "\n",
      "colunas insert: \n",
      "cylinders.id,cylinders.device_id,cylinders.tare,cylinders.created_at,cylinders.updated_at,cylinders.first_reading_id,cylinders.historical_consumption,cylinders.address_id,cylinders.seal_number,cylinders.installed,cylinders.manual_last_reading_weight,cylinders.brand,cylinders.usage\n",
      "\n",
      "comando merge: \n",
      "   \n",
      "    MERGE INTO tmp_cylinders\n",
      "    USING cylinders\n",
      "    ON tmp_cylinders.id = cylinders.id AND tmp_cylinders.id2 = cylinders.id2\n",
      "    WHEN MATCHED THEN\n",
      "    UPDATE SET \n",
      "    tmp_cylinders.device_id = cylinders.device_id,tmp_cylinders.tare = cylinders.tare,tmp_cylinders.created_at = cylinders.created_at,tmp_cylinders.updated_at = cylinders.updated_at,tmp_cylinders.first_reading_id = cylinders.first_reading_id,tmp_cylinders.historical_consumption = cylinders.historical_consumption,tmp_cylinders.address_id = cylinders.address_id,tmp_cylinders.seal_number = cylinders.seal_number,tmp_cylinders.installed = cylinders.installed,tmp_cylinders.manual_last_reading_weight = cylinders.manual_last_reading_weight,tmp_cylinders.brand = cylinders.brand,tmp_cylinders.usage = cylinders.usage\n",
      "    WHEN NOT MATCHED\n",
      "    THEN INSERT (id,device_id,tare,created_at,updated_at,first_reading_id,historical_consumption,address_id,seal_number,installed,manual_last_reading_weight,brand,usage) VALUES (cylinders.id,cylinders.device_id,cylinders.tare,cylinders.created_at,cylinders.updated_at,cylinders.first_reading_id,cylinders.historical_consumption,cylinders.address_id,cylinders.seal_number,cylinders.installed,cylinders.manual_last_reading_weight,cylinders.brand,cylinders.usage)    \n",
      "    \n",
      "\n",
      "----------------------------------------------------------------------\n",
      "tabela que será atualizada: \n",
      "public.consumption_rates\n",
      "\n",
      "merge_final: \n",
      "tmp_consumption_rates.id = consumption_rates.id\n",
      "\n",
      "colunas insert: \n",
      "consumption_rates.id,consumption_rates.client_id,consumption_rates.device_id,consumption_rates.days_until_empty,consumption_rates.rate,consumption_rates.created_at,consumption_rates.updated_at\n",
      "\n",
      "comando merge: \n",
      "   \n",
      "    MERGE INTO tmp_consumption_rates\n",
      "    USING consumption_rates\n",
      "    ON tmp_consumption_rates.id = consumption_rates.id\n",
      "    WHEN MATCHED THEN\n",
      "    UPDATE SET \n",
      "    tmp_consumption_rates.client_id = consumption_rates.client_id,tmp_consumption_rates.device_id = consumption_rates.device_id,tmp_consumption_rates.days_until_empty = consumption_rates.days_until_empty,tmp_consumption_rates.rate = consumption_rates.rate,tmp_consumption_rates.created_at = consumption_rates.created_at,tmp_consumption_rates.updated_at = consumption_rates.updated_at\n",
      "    WHEN NOT MATCHED\n",
      "    THEN INSERT (id, client_id, device_id, days_until_empty, rate, created_at, updated_at) VALUES (consumption_rates.id,consumption_rates.client_id,consumption_rates.device_id,consumption_rates.days_until_empty,consumption_rates.rate,consumption_rates.created_at,consumption_rates.updated_at)    \n",
      "    \n",
      "\n"
     ]
    }
   ],
   "source": [
    "for i in dfJsonSempreGas:\n",
    "    tabelaSQLServer = dfJsonSempreGas[i]['tabelaSQLServer']\n",
    "    colunasTabela = dfJsonSempreGas[i]['colunasTabela']\n",
    "    tabela_destino = dfJsonSempreGas[i]['tabela_destino']\n",
    "    tabela_origem = dfJsonSempreGas[i]['tabela_origem']\n",
    "    colunasMerge = dfJsonSempreGas[i]['colunasMerge']\n",
    "    \n",
    "    print('----------------------------------------------------------------------')\n",
    "    \n",
    "    print('tabela que será atualizada: ' + '\\n' + tabelaSQLServer + '\\n') \n",
    "\n",
    "    listMerge = [field.strip().split(' ')[0] for field in colunasMerge.split(',')]\n",
    "    listColunas = [fieldColunas.strip().split(' ')[0] for fieldColunas in colunasTabela.split(',')]\n",
    "\n",
    "    colunasMerge_lista = []\n",
    "    colunasUpdate_lista = []\n",
    "    colunas_insert = []\n",
    "    \n",
    "    for cm in listMerge:\n",
    "        colunasMerge_lista.append('{tabela_destino}.{cm} = {tabela_origem}.{cm}'.format(**locals()))\n",
    "\n",
    "    merge_final = ' AND '.join(colunasMerge_lista)\n",
    "    \n",
    "    print('merge_final: '+ '\\n' + merge_final + '\\n')\n",
    "\n",
    "    for colunas in listColunas:\n",
    "        colunas_insert.append('{tabela_origem}.{colunas}'.format(**locals()))\n",
    "        if colunas not in listMerge:\n",
    "            colunasUpdate_lista.append('{tabela_destino}.{colunas} = {tabela_origem}.{colunas}'.format(**locals()))\n",
    "\n",
    "    colunas_insert_final = ','.join(colunas_insert)\n",
    "    colunas_final = ','.join(colunasUpdate_lista)\n",
    "\n",
    "    print('colunas insert: '+ '\\n' + colunas_insert_final + '\\n')\n",
    "    \n",
    "    query = \"\"\"   \n",
    "    MERGE INTO {0}\n",
    "    USING {1}\n",
    "    ON {2}\n",
    "    WHEN MATCHED THEN\n",
    "    UPDATE SET \n",
    "    {3}\n",
    "    WHEN NOT MATCHED\n",
    "    THEN INSERT ({4}) VALUES ({5})    \n",
    "    \"\"\".format(tabela_destino,tabela_origem,merge_final,colunas_final,colunasTabela,colunas_insert_final)\n",
    "    \n",
    "    print('comando merge: ' + '\\n' + query + '\\n')\n"
   ]
  }
 ],
 "metadata": {
  "kernelspec": {
   "display_name": "Python 3 (ipykernel)",
   "language": "python",
   "name": "python3"
  },
  "language_info": {
   "codemirror_mode": {
    "name": "ipython",
    "version": 3
   },
   "file_extension": ".py",
   "mimetype": "text/x-python",
   "name": "python",
   "nbconvert_exporter": "python",
   "pygments_lexer": "ipython3",
   "version": "3.9.13"
  }
 },
 "nbformat": 4,
 "nbformat_minor": 5
}
