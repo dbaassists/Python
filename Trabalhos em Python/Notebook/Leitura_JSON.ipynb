{
 "cells": [
  {
   "cell_type": "code",
   "execution_count": 1,
   "id": "67f7c2a5",
   "metadata": {},
   "outputs": [],
   "source": [
    "import sys\n",
    "import requests\n",
    "import pandas as pd\n",
    "import json\n",
    "import os\n",
    "import urllib\n",
    "import pyodbc\n"
   ]
  },
  {
   "cell_type": "code",
   "execution_count": 37,
   "id": "56869c2a",
   "metadata": {},
   "outputs": [],
   "source": [
    "\n",
    "\n",
    "def importa_arquivo_gestao_acesso(diretorio):\n",
    "    try:\n",
    "        \n",
    "        print('Processamento iniciado!')\n",
    "        \n",
    "        diretorioArquivo = ''\n",
    "\n",
    "        dfPrimeiroLogin = pd.DataFrame(columns=[  'StartDate'\n",
    "                                                , 'EndDate'\n",
    "                                                , 'Login'\n",
    "                                                , 'CodigoSap'\n",
    "                                                , 'Aplicacao'\n",
    "                                                , 'PrimeiroNome'\n",
    "                                                , 'UltimoNome'\n",
    "                                                , 'Email'\n",
    "                                                , 'Celular'\n",
    "                                                , 'DataCriacao'\n",
    "                                                , 'NomeArquivo'\n",
    "                                               ])\n",
    "\n",
    "        for arquivo in os.listdir(diretorio):\n",
    "\n",
    "            diretorioArquivos = diretorio + '\\\\' + arquivo\n",
    "\n",
    "            with open(diretorioArquivos, encoding='utf-8') as arquivoJson:\n",
    "\n",
    "                arq = json.load(arquivoJson)\n",
    "\n",
    "                StartDate = arq['StartDate']\n",
    "                EndDate = arq['EndDate']\n",
    "                Login = arq['Login']\n",
    "                NomeArquivo = arquivo\n",
    "\n",
    "                for itensClienteAplicacao in arq['Retorno']['Usuario']['AplicacoesClientes']:\n",
    "\n",
    "                    listaitensCliente  = itensClienteAplicacao['Clientes']\n",
    "\n",
    "                    listaitensAplicacao  = itensClienteAplicacao['Aplicacao']\n",
    "\n",
    "                    for itemCliente in listaitensCliente:\n",
    "\n",
    "                        CodigoSap = itemCliente['CodigoSap']\n",
    "\n",
    "                    for itemAplicacao in listaitensAplicacao:\n",
    "\n",
    "                        if itemAplicacao == 'Id':\n",
    "\n",
    "                            Aplicacao = listaitensAplicacao[itemAplicacao]\n",
    "\n",
    "                    itens = arq['Retorno']['Usuario']\n",
    "\n",
    "                    for itensUsuario in itens:                \n",
    "\n",
    "                        if itensUsuario in ('PrimeiroNome','UltimoNome','Email','Celular','DataCriacao'):\n",
    "\n",
    "                            if itensUsuario == 'PrimeiroNome':\n",
    "\n",
    "                                PrimeiroNome = str(itens[itensUsuario])\n",
    "\n",
    "                            elif itensUsuario == 'UltimoNome':\n",
    "\n",
    "                                UltimoNome = str(itens[itensUsuario])\n",
    "\n",
    "                            elif itensUsuario == 'Email':\n",
    "\n",
    "                                Email = str(itens[itensUsuario])\n",
    "\n",
    "                            elif itensUsuario == 'Celular':\n",
    "\n",
    "                                Celular = str(itens[itensUsuario])\n",
    "\n",
    "                            elif itensUsuario == 'DataCriacao':\n",
    "\n",
    "                                DataCriacao = str(itens[itensUsuario])\n",
    "\n",
    "                    dfPrimeiroLogin = dfPrimeiroLogin.append({'StartDate': StartDate\n",
    "                                                              ,'EndDate': EndDate\n",
    "                                                              ,'Login': Login\n",
    "                                                              ,'CodigoSap': CodigoSap\n",
    "                                                              ,'Aplicacao':Aplicacao\n",
    "                                                              ,'PrimeiroNome' : PrimeiroNome\n",
    "                                                              ,'UltimoNome' : UltimoNome\n",
    "                                                              ,'Email' : Email\n",
    "                                                              ,'Celular' : Celular\n",
    "                                                              ,'DataCriacao' : DataCriacao\n",
    "                                                              ,'NomeArquivo' : NomeArquivo}, ignore_index=True) \n",
    "                    \n",
    "                    \n",
    "        dfPrimeiroLogin.to_csv('dadosGestaoAcesso.csv',index=False,sep=';')\n",
    "        print('Arquivo gerado!')\n",
    "                    \n",
    "    except Exception as e:\n",
    "        \n",
    "        print(e)\n",
    "        print('Ocorreu um erro!')\n",
    "        \n",
    "    finally:\n",
    "        \n",
    "        print('Processamento realizado com sucesso!')\n",
    "        "
   ]
  },
  {
   "cell_type": "code",
   "execution_count": 38,
   "id": "d2059913",
   "metadata": {},
   "outputs": [
    {
     "name": "stdout",
     "output_type": "stream",
     "text": [
      "Processamento iniciado!\n",
      "Arquivo gerado!\n",
      "Processamento realizado com sucesso!\n"
     ]
    }
   ],
   "source": [
    "diretorio = 'C:\\\\tmp\\\\json'\n",
    "\n",
    "importa_arquivo_gestao_acesso(diretorio)"
   ]
  },
  {
   "cell_type": "code",
   "execution_count": 25,
   "id": "863db180",
   "metadata": {},
   "outputs": [
    {
     "ename": "NameError",
     "evalue": "name 'dfPrimeiroLogin' is not defined",
     "output_type": "error",
     "traceback": [
      "\u001b[1;31m---------------------------------------------------------------------------\u001b[0m",
      "\u001b[1;31mNameError\u001b[0m                                 Traceback (most recent call last)",
      "\u001b[1;32m~\\AppData\\Local\\Temp/ipykernel_3980/4239314214.py\u001b[0m in \u001b[0;36m<module>\u001b[1;34m\u001b[0m\n\u001b[1;32m----> 1\u001b[1;33m \u001b[0mdfPrimeiroLogin\u001b[0m\u001b[1;33m.\u001b[0m\u001b[0msort_values\u001b[0m\u001b[1;33m(\u001b[0m\u001b[0mby\u001b[0m\u001b[1;33m=\u001b[0m\u001b[1;34m'DataCriacao'\u001b[0m\u001b[1;33m,\u001b[0m\u001b[0mascending\u001b[0m\u001b[1;33m=\u001b[0m\u001b[1;32mFalse\u001b[0m\u001b[1;33m)\u001b[0m\u001b[1;33m.\u001b[0m\u001b[0mhead\u001b[0m\u001b[1;33m(\u001b[0m\u001b[1;36m40\u001b[0m\u001b[1;33m)\u001b[0m\u001b[1;33m\u001b[0m\u001b[1;33m\u001b[0m\u001b[0m\n\u001b[0m",
      "\u001b[1;31mNameError\u001b[0m: name 'dfPrimeiroLogin' is not defined"
     ]
    }
   ],
   "source": [
    "dfPrimeiroLogin.sort_values(by='DataCriacao',ascending=False).head(40)"
   ]
  }
 ],
 "metadata": {
  "celltoolbar": "Tags",
  "kernelspec": {
   "display_name": "Python 3",
   "language": "python",
   "name": "python3"
  },
  "language_info": {
   "codemirror_mode": {
    "name": "ipython",
    "version": 3
   },
   "file_extension": ".py",
   "mimetype": "text/x-python",
   "name": "python",
   "nbconvert_exporter": "python",
   "pygments_lexer": "ipython3",
   "version": "3.8.8"
  }
 },
 "nbformat": 4,
 "nbformat_minor": 5
}
