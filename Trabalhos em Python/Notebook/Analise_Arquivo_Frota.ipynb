{
 "cells": [
  {
   "cell_type": "code",
   "execution_count": 53,
   "id": "e9ef6f87",
   "metadata": {},
   "outputs": [],
   "source": [
    "import warnings\n",
    "import pandas as pd\n",
    "from pandas.core.common import SettingWithCopyWarning\n",
    "import numpy as np\n",
    "import json"
   ]
  },
  {
   "cell_type": "code",
   "execution_count": 54,
   "id": "a45b9969",
   "metadata": {},
   "outputs": [],
   "source": [
    "pd.options.display.max_rows = 999\n",
    "pd.options.display.max_columns=999\n",
    "warnings.simplefilter(action=\"ignore\", category=SettingWithCopyWarning)"
   ]
  },
  {
   "cell_type": "code",
   "execution_count": 55,
   "id": "93ffca4f",
   "metadata": {},
   "outputs": [],
   "source": [
    "colunas = ['FLEET'\n",
    ",'EQUIPMENT'\n",
    ",'FLEET_NUM'\n",
    ",'FLEET_VIN'\n",
    ",'CHASSISNUM'\n",
    ",'LICENSENUM'\n",
    ",'FL_EXP_DAT'\n",
    ",'FLEET_CAT'\n",
    ",'ENGINE_TYP'\n",
    ",'ENGINE_CYL'\n",
    ",'FUEL_PRI'\n",
    ",'FUEL_SEC'\n",
    ",'OIL_TYPE'\n",
    ",'CH_NAXLE'\n",
    ",'HE_MAXCAP'\n",
    ",'CH_BAUJJ'\n",
    ",'CH_TYPBZ'\n",
    ",'CH_HERST'\n",
    ",'CH_VEHSTA'\n",
    ",'CH_OWNFLG'\n",
    ",'CH_CARRIE'\n",
    ",'CH_CL_GRP'\n",
    ",'PLANT'\n",
    ",'COSTCENTER'\n",
    ",'OI_VHLTYP'    \n",
    ",'ZCASTOBJ1'\n",
    ",'ZCASTOBJ2']\n",
    "\n",
    "datatype = {'FLEET':'str'\n",
    "            ,'EQUIPMENT':'str'\n",
    "            ,'FLEET_NUM':'str'\n",
    "            ,'FLEET_VIN':'str'\n",
    "            ,'CHASSISNUM':'str'\n",
    "            ,'LICENSENUM':'str'\n",
    "            ,'FL_EXP_DAT':'str'\n",
    "            ,'FLEET_CAT':'str'\n",
    "            ,'ENGINE_TYP':'str'\n",
    "            ,'ENGINE_CYL':'str'\n",
    "            ,'FUEL_PRI':'str'\n",
    "            ,'FUEL_SEC':'str'\n",
    "            ,'OIL_TYPE':'str'\n",
    "            ,'CH_NAXLE':'str'\n",
    "            ,'HE_MAXCAP':'str'\n",
    "            ,'CH_BAUJJ':'str'\n",
    "            ,'CH_TYPBZ':'str'\n",
    "            ,'CH_HERST':'str'\n",
    "            ,'CH_VEHSTA':'str'\n",
    "            ,'CH_OWNFLG':'str'\n",
    "            ,'CH_CARRIE':'str'\n",
    "            ,'CH_CL_GRP':'str'\n",
    "            ,'PLANT':'str'\n",
    "            ,'COSTCENTER':'str'\n",
    "            ,'OI_VHLTYP':'str'\n",
    "            ,'ZCASTOBJ1':'str'\n",
    "            ,'ZCASTOBJ2':'str'}"
   ]
  },
  {
   "cell_type": "code",
   "execution_count": 56,
   "id": "e677c70a",
   "metadata": {},
   "outputs": [],
   "source": [
    "arquivo = '0FLEET.20220705.204027'\n",
    "\n",
    "dfFrota = pd.read_csv(arquivo, sep=';', dtype=datatype, names= colunas)"
   ]
  },
  {
   "cell_type": "code",
   "execution_count": 57,
   "id": "4d0cd840",
   "metadata": {},
   "outputs": [
    {
     "data": {
      "text/html": [
       "<div>\n",
       "<style scoped>\n",
       "    .dataframe tbody tr th:only-of-type {\n",
       "        vertical-align: middle;\n",
       "    }\n",
       "\n",
       "    .dataframe tbody tr th {\n",
       "        vertical-align: top;\n",
       "    }\n",
       "\n",
       "    .dataframe thead th {\n",
       "        text-align: right;\n",
       "    }\n",
       "</style>\n",
       "<table border=\"1\" class=\"dataframe\">\n",
       "  <thead>\n",
       "    <tr style=\"text-align: right;\">\n",
       "      <th></th>\n",
       "      <th>LICENSENUM</th>\n",
       "      <th>HE_MAXCAP</th>\n",
       "    </tr>\n",
       "  </thead>\n",
       "  <tbody>\n",
       "    <tr>\n",
       "      <th>196</th>\n",
       "      <td>LRT3428</td>\n",
       "      <td>0.000</td>\n",
       "    </tr>\n",
       "    <tr>\n",
       "      <th>556</th>\n",
       "      <td>PDP2384</td>\n",
       "      <td>21000.000</td>\n",
       "    </tr>\n",
       "    <tr>\n",
       "      <th>581</th>\n",
       "      <td>PLA1383</td>\n",
       "      <td>21000.000</td>\n",
       "    </tr>\n",
       "    <tr>\n",
       "      <th>1047</th>\n",
       "      <td>BDU5A15</td>\n",
       "      <td>0.000</td>\n",
       "    </tr>\n",
       "    <tr>\n",
       "      <th>1166</th>\n",
       "      <td>EBL6779</td>\n",
       "      <td>19958400.000</td>\n",
       "    </tr>\n",
       "  </tbody>\n",
       "</table>\n",
       "</div>"
      ],
      "text/plain": [
       "     LICENSENUM      HE_MAXCAP\n",
       "196     LRT3428         0.000 \n",
       "556     PDP2384     21000.000 \n",
       "581     PLA1383     21000.000 \n",
       "1047    BDU5A15         0.000 \n",
       "1166    EBL6779  19958400.000 "
      ]
     },
     "execution_count": 57,
     "metadata": {},
     "output_type": "execute_result"
    }
   ],
   "source": [
    "dfFrota[dfFrota['LICENSENUM'].isin(['EBL6779','BDU5A15','LRT3428','PDP2384','PLA1383'])][\n",
    "    ['LICENSENUM'\n",
    "     ,'HE_MAXCAP']]"
   ]
  },
  {
   "cell_type": "code",
   "execution_count": 58,
   "id": "0660ad95",
   "metadata": {},
   "outputs": [],
   "source": [
    "dfFrota[dfFrota['LICENSENUM'].isin(['EBL6779','BDU5A15','LRT3428','PDP2384','PLA1383'])][\n",
    "    ['LICENSENUM'\n",
    "     ,'HE_MAXCAP']]\n",
    "\n",
    "dfFrota.rename(columns={'HE_MAXCAP':'NumCapacMax_ANTES_RDM','LICENSENUM':'CodPlaca'},inplace=True)"
   ]
  },
  {
   "cell_type": "code",
   "execution_count": 59,
   "id": "58e13986",
   "metadata": {},
   "outputs": [],
   "source": [
    "arquivoPosRDM = '0FLEET.20220706.163609'\n",
    "\n",
    "dfFrotaPosRDM = pd.read_csv(arquivoPosRDM, sep=';', dtype=datatype, names= colunas)"
   ]
  },
  {
   "cell_type": "code",
   "execution_count": 60,
   "id": "517db660",
   "metadata": {},
   "outputs": [],
   "source": [
    "dfFrotaPosRDM[dfFrotaPosRDM['LICENSENUM'].isin(['EBL6779','BDU5A15','LRT3428','PDP2384','PLA1383'])][\n",
    "    ['LICENSENUM'\n",
    "     ,'HE_MAXCAP']]\n",
    "\n",
    "\n",
    "dfFrotaPosRDM.rename(columns={'HE_MAXCAP':'NumCapacMax_POS_RDM','LICENSENUM':'CodPlaca'},inplace=True)"
   ]
  },
  {
   "cell_type": "code",
   "execution_count": 61,
   "id": "562111aa",
   "metadata": {},
   "outputs": [
    {
     "data": {
      "text/html": [
       "<div>\n",
       "<style scoped>\n",
       "    .dataframe tbody tr th:only-of-type {\n",
       "        vertical-align: middle;\n",
       "    }\n",
       "\n",
       "    .dataframe tbody tr th {\n",
       "        vertical-align: top;\n",
       "    }\n",
       "\n",
       "    .dataframe thead th {\n",
       "        text-align: right;\n",
       "    }\n",
       "</style>\n",
       "<table border=\"1\" class=\"dataframe\">\n",
       "  <thead>\n",
       "    <tr style=\"text-align: right;\">\n",
       "      <th></th>\n",
       "      <th>CodPlaca</th>\n",
       "      <th>NumCapacMax_ANTES_RDM</th>\n",
       "      <th>NumCapacMax_POS_RDM</th>\n",
       "    </tr>\n",
       "  </thead>\n",
       "  <tbody>\n",
       "    <tr>\n",
       "      <th>211</th>\n",
       "      <td>LRT3428</td>\n",
       "      <td>0.000</td>\n",
       "      <td>14354.396</td>\n",
       "    </tr>\n",
       "    <tr>\n",
       "      <th>571</th>\n",
       "      <td>PDP2384</td>\n",
       "      <td>21000.000</td>\n",
       "      <td>21000.000</td>\n",
       "    </tr>\n",
       "    <tr>\n",
       "      <th>596</th>\n",
       "      <td>PLA1383</td>\n",
       "      <td>21000.000</td>\n",
       "      <td>21000.000</td>\n",
       "    </tr>\n",
       "    <tr>\n",
       "      <th>1059</th>\n",
       "      <td>BDU5A15</td>\n",
       "      <td>0.000</td>\n",
       "      <td>16318.681</td>\n",
       "    </tr>\n",
       "    <tr>\n",
       "      <th>1178</th>\n",
       "      <td>EBL6779</td>\n",
       "      <td>19958400.000</td>\n",
       "      <td>22000.000</td>\n",
       "    </tr>\n",
       "  </tbody>\n",
       "</table>\n",
       "</div>"
      ],
      "text/plain": [
       "     CodPlaca NumCapacMax_ANTES_RDM NumCapacMax_POS_RDM\n",
       "211   LRT3428                0.000           14354.396 \n",
       "571   PDP2384            21000.000           21000.000 \n",
       "596   PLA1383            21000.000           21000.000 \n",
       "1059  BDU5A15                0.000           16318.681 \n",
       "1178  EBL6779         19958400.000           22000.000 "
      ]
     },
     "execution_count": 61,
     "metadata": {},
     "output_type": "execute_result"
    }
   ],
   "source": [
    "dfFinalFrota = pd.merge(left=dfFrota\n",
    "                              , right=dfFrotaPosRDM\n",
    "                              , left_on='CodPlaca'\n",
    "                              , right_on='CodPlaca'\n",
    "                                                                                              \n",
    "                                    )\n",
    "\n",
    "dfFinalFrota[dfFinalFrota['CodPlaca'].isin(['EBL6779','BDU5A15','LRT3428','PDP2384','PLA1383'])][\n",
    "    ['CodPlaca'\n",
    "     ,'NumCapacMax_ANTES_RDM'\n",
    "    ,'NumCapacMax_POS_RDM']]"
   ]
  }
 ],
 "metadata": {
  "kernelspec": {
   "display_name": "Python 3",
   "language": "python",
   "name": "python3"
  },
  "language_info": {
   "codemirror_mode": {
    "name": "ipython",
    "version": 3
   },
   "file_extension": ".py",
   "mimetype": "text/x-python",
   "name": "python",
   "nbconvert_exporter": "python",
   "pygments_lexer": "ipython3",
   "version": "3.8.8"
  }
 },
 "nbformat": 4,
 "nbformat_minor": 5
}
