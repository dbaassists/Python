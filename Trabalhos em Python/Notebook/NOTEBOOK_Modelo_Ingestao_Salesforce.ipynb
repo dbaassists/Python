{
 "cells": [
  {
   "cell_type": "code",
   "execution_count": null,
   "id": "70187fba",
   "metadata": {},
   "outputs": [],
   "source": [
    "import os\n",
    "import datetime\n",
    "import pandas as pd\n",
    "from simple_salesforce import Salesforce, SalesforceLogin, SFType\n",
    "from datetime import datetime\n",
    "from pathlib import Path\n",
    "from os.path import getmtime\n",
    "from os import scandir\n",
    "\n",
    "# Instalação Biblioteca \n",
    "#pip install simple_salesforce\n"
   ]
  },
  {
   "cell_type": "code",
   "execution_count": null,
   "id": "4a753178",
   "metadata": {},
   "outputs": [],
   "source": [
    "# CONEXÃO COM O SALESFORCE\n",
    "\n",
    "sf = Salesforce(\n",
    "username = 'SEU_USUARIO', \n",
    "password = 'SUA_SENHA', \n",
    "security_token= 'SEU_TOKEN',\n",
    "domain= 'SEU_DOMINIO')"
   ]
  },
  {
   "cell_type": "code",
   "execution_count": null,
   "id": "fef1c2f8",
   "metadata": {},
   "outputs": [],
   "source": [
    "# FUNÇÃO QUE CRIA DIRETÓRIO\n",
    "\n",
    "def fn_cria_diretorio(diretorio):\n",
    "    \n",
    "    vDiretorio = Path(diretorio)    \n",
    "    dataInicio = datetime.now()    \n",
    "    vAno = dataInicio.strftime('%Y')\n",
    "    vMes = dataInicio.strftime('%m')\n",
    "    vDia = dataInicio.strftime('%d')\n",
    "    \n",
    "    datafinal = vAno+vMes+vDia \n",
    "\n",
    "    # Verifica se o diretório existe\n",
    "    if not os.path.isdir(vDiretorio/vAno):\n",
    "        \n",
    "        dir1 = vDiretorio / vAno / vMes        \n",
    "        # Criando o primeiro diretório (Ano)\n",
    "        os.mkdir(vDiretorio / vAno)\n",
    "        # Criando o sub diretório (Mes)\n",
    "        os.mkdir(vDiretorio / vAno / vMes)\n",
    "\n",
    "        "
   ]
  },
  {
   "cell_type": "code",
   "execution_count": null,
   "id": "4668add1",
   "metadata": {},
   "outputs": [],
   "source": [
    "# FUNÇÃO QUE EXTRAI OS DADOS DO SALESFORCE\n",
    "\n",
    "def fn_extrai_dados_salesforce(query,arquivo,diretorio):\n",
    "    \n",
    "    dataInicio = datetime.now()\n",
    "    vAno = dataInicio.strftime('%Y')\n",
    "    vMes = dataInicio.strftime('%m')\n",
    "    vDia = dataInicio.strftime('%d') \n",
    "\n",
    "    fn_cria_diretorio(diretorio)\n",
    "    \n",
    "    diretorio = diretorio + vAno +'\\\\' + vMes + '\\\\' + arquivo + '_' + vAno+vMes+vDia + '.csv'\n",
    "    \n",
    "    sf_dataExtracaoDadosSalesforce = sf.query_all(query)\n",
    "  \n",
    "    sf_dataExtracaoDadosSalesforce = pd.DataFrame(sf_dataExtracaoDadosSalesforce['records']) \\\n",
    "                                                    .drop(columns='attributes')\n",
    "\n",
    "    sf_dataExtracaoDadosSalesforce.to_csv(diretorio , sep=';', index=False)"
   ]
  },
  {
   "cell_type": "code",
   "execution_count": null,
   "id": "e47681e1",
   "metadata": {},
   "outputs": [],
   "source": [
    "query = \"\"\"SELECT Id FROM Account limit 100\"\"\"\n",
    "arquivo = 'ACCOUNT'\n",
    "diretorio = 'C:\\\\Temp\\\\Salesforce\\\\'\n",
    "\n",
    "fn_extrai_dados_salesforce(query,arquivo,diretorio)"
   ]
  }
 ],
 "metadata": {
  "kernelspec": {
   "display_name": "Python 3 (ipykernel)",
   "language": "python",
   "name": "python3"
  },
  "language_info": {
   "codemirror_mode": {
    "name": "ipython",
    "version": 3
   },
   "file_extension": ".py",
   "mimetype": "text/x-python",
   "name": "python",
   "nbconvert_exporter": "python",
   "pygments_lexer": "ipython3",
   "version": "3.9.13"
  }
 },
 "nbformat": 4,
 "nbformat_minor": 5
}
