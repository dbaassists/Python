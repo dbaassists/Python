{
 "cells": [
  {
   "cell_type": "code",
   "execution_count": 1,
   "id": "688cf28b",
   "metadata": {},
   "outputs": [],
   "source": [
    "import pandas as pd"
   ]
  },
  {
   "cell_type": "code",
   "execution_count": 2,
   "id": "b7acd5a1",
   "metadata": {},
   "outputs": [],
   "source": [
    "arquivoValoresZerados = 'C:\\\\Temp\\\\RT\\\\VALORES_ZERADOS.xlsx'\n",
    "arquivoDatabricks = 'C:\\\\Temp\\\\RT\\\\CARGA_DATABRICKS.csv'"
   ]
  },
  {
   "cell_type": "code",
   "execution_count": 3,
   "id": "c73649c2",
   "metadata": {},
   "outputs": [],
   "source": [
    "dffat_indicadores_frete_ZLIQ  = pd.read_csv(arquivoDatabricks, sep=',', encoding='latin-1'\n",
    "                                            ,usecols=[8,9,10,39,40]\n",
    "                                            ,names=['NumDocContabil'\n",
    "                                              , 'NumDocCompra'\n",
    "                                              , 'CodDocVenda'\n",
    "                                              , 'VlrLiqItemOrdem'\n",
    "                                              , 'VlrPesoLiqItem']\n",
    "                                                ,dtype={'NumDocContabil':'str'\n",
    "                                              , 'NumDocCompra':'str'\n",
    "                                              , 'CodDocVenda':'str'\n",
    "                                              , 'VlrLiqItemOrdem':'float64'\n",
    "                                              , 'VlrPesoLiqItem':'float64'}\n",
    "                                            ,skiprows=1\n",
    "                                            ,header=None\n",
    "                                            ,low_memory=False)\n",
    "\n",
    "\n",
    "dfValoresZerados  = pd.read_excel(arquivoValoresZerados\n",
    "                                 , usecols=[0,1,2,5,6,7,8]\n",
    "                                  ,names=['CodDocVenda'\n",
    "                                          , 'NumDocCompra'\n",
    "                                          , 'NumDocContabil'\n",
    "                                          , 'VlrLiqItemOrdem'\n",
    "                                          , 'VlrPesoLiqItem'\n",
    "                                          , 'VlrPesoLiqItem_Bruno'\n",
    "                                          , 'VlrLiqItemOrdem_Bruno']\n",
    "                                  ,dtype={'CodDocVenda':'str'\n",
    "                                          , 'NumDocCompra':'str'\n",
    "                                          , 'NumDocContabil':'str'\n",
    "                                          , 'VlrLiqItemOrdem':'float64'\n",
    "                                          , 'VlrPesoLiqItem':'float64'\n",
    "                                          , 'VlrPesoLiqItem_Bruno':'float64'\n",
    "                                          , 'VlrLiqItemOrdem_Bruno':'float64'}\n",
    "                                 )"
   ]
  },
  {
   "cell_type": "code",
   "execution_count": 4,
   "id": "3f939231",
   "metadata": {},
   "outputs": [],
   "source": [
    "dfValoresZerados['Chave'] = dfValoresZerados['CodDocVenda'] + '_' + \\\n",
    "                                            dfValoresZerados['NumDocCompra'] + '_' + \\\n",
    "                                            dfValoresZerados['NumDocContabil']\n",
    "\n",
    "dffat_indicadores_frete_ZLIQ['Chave'] = dffat_indicadores_frete_ZLIQ['CodDocVenda'] + '_' + \\\n",
    "                                            dffat_indicadores_frete_ZLIQ['NumDocCompra'] + '_' + \\\n",
    "                                            dffat_indicadores_frete_ZLIQ['NumDocContabil']\n",
    "\n",
    "dffat_indicadores_frete_ZLIQ_agg = dffat_indicadores_frete_ZLIQ.groupby(['CodDocVenda'\n",
    "                                      ,'NumDocCompra'\n",
    "                                      ,'NumDocContabil'\n",
    "                                      ,'Chave'],as_index=False).agg(VlrLiqItemOrdem_y=('VlrLiqItemOrdem','sum')\n",
    "                                                     ,VlrPesoLiqItem_y=('VlrPesoLiqItem','sum'))[['CodDocVenda'\n",
    "                                                                                              , 'NumDocCompra'\n",
    "                                                                                              , 'NumDocContabil'\n",
    "                                                                                              , 'Chave'\n",
    "                                                                                              , 'VlrLiqItemOrdem_y'\n",
    "                                                                                              , 'VlrPesoLiqItem_y']]\n",
    "\n",
    "\n",
    "dffat_indicadores_frete_ZLIQ_agg['VlrLiqItemOrdem_y'] = dffat_indicadores_frete_ZLIQ_agg['VlrLiqItemOrdem_y'].astype('float',errors='ignore')\n",
    "dffat_indicadores_frete_ZLIQ_agg['VlrLiqItemOrdem_y'] = dffat_indicadores_frete_ZLIQ_agg['VlrLiqItemOrdem_y'].astype('float',errors='ignore')"
   ]
  },
  {
   "cell_type": "code",
   "execution_count": 5,
   "id": "f6853104",
   "metadata": {},
   "outputs": [],
   "source": [
    "resultLiqItem = pd.merge(left=dfValoresZerados\n",
    "                              , right=dffat_indicadores_frete_ZLIQ_agg\n",
    "                              , left_on='Chave'\n",
    "                              , right_on='Chave' \n",
    "                              , how='left'\n",
    "                                    )[['CodDocVenda_x'\n",
    "                                      , 'NumDocCompra_x'\n",
    "                                      , 'NumDocContabil_x'\n",
    "                                      , 'Chave'\n",
    "                                      , 'VlrLiqItemOrdem_y'\n",
    "                                      , 'VlrLiqItemOrdem_Bruno'                                       \n",
    "                                      ]]\n",
    "\n",
    "resultLiqItem.fillna(0,inplace=True)\n",
    "\n",
    "\n",
    "resultPesoLiq = pd.merge(left=dfValoresZerados\n",
    "                              , right=dffat_indicadores_frete_ZLIQ_agg\n",
    "                              , left_on='Chave'\n",
    "                              , right_on='Chave' \n",
    "                              , how='left'\n",
    "                                    )[['CodDocVenda_x'\n",
    "                                      , 'NumDocCompra_x'\n",
    "                                      , 'NumDocContabil_x'\n",
    "                                      , 'Chave'\n",
    "                                      , 'VlrPesoLiqItem_y'\n",
    "                                      , 'VlrPesoLiqItem_Bruno'                                       \n",
    "                                      ]]\n",
    "\n",
    "resultPesoLiq.fillna(0,inplace=True)"
   ]
  },
  {
   "cell_type": "code",
   "execution_count": 6,
   "id": "8db0e4d4",
   "metadata": {},
   "outputs": [],
   "source": [
    "resultPesoLiq.loc[resultPesoLiq['VlrPesoLiqItem_y'] == resultPesoLiq['VlrPesoLiqItem_Bruno'], 'Comparacao_VlrPesoLiqItem'] = 'Igual'\n",
    "resultPesoLiq.loc[resultPesoLiq['VlrPesoLiqItem_y'] != resultPesoLiq['VlrPesoLiqItem_Bruno'], 'Comparacao_VlrPesoLiqItem'] = 'Diferente'\n",
    "\n",
    "resultLiqItem.loc[resultLiqItem['VlrLiqItemOrdem_y'] == resultLiqItem['VlrLiqItemOrdem_Bruno'], 'Comparacao_VlrLiqItemOrdem'] = 'Igual'\n",
    "resultLiqItem.loc[resultLiqItem['VlrLiqItemOrdem_y'] != resultLiqItem['VlrLiqItemOrdem_Bruno'], 'Comparacao_VlrLiqItemOrdem'] = 'Diferente'"
   ]
  },
  {
   "cell_type": "code",
   "execution_count": 13,
   "id": "537fc7fd",
   "metadata": {},
   "outputs": [
    {
     "data": {
      "text/html": [
       "<div>\n",
       "<style scoped>\n",
       "    .dataframe tbody tr th:only-of-type {\n",
       "        vertical-align: middle;\n",
       "    }\n",
       "\n",
       "    .dataframe tbody tr th {\n",
       "        vertical-align: top;\n",
       "    }\n",
       "\n",
       "    .dataframe thead th {\n",
       "        text-align: right;\n",
       "    }\n",
       "</style>\n",
       "<table border=\"1\" class=\"dataframe\">\n",
       "  <thead>\n",
       "    <tr style=\"text-align: right;\">\n",
       "      <th></th>\n",
       "      <th>CodDocVenda_x</th>\n",
       "      <th>NumDocCompra_x</th>\n",
       "      <th>NumDocContabil_x</th>\n",
       "      <th>Chave</th>\n",
       "      <th>VlrPesoLiqItem_y</th>\n",
       "      <th>VlrPesoLiqItem_Bruno</th>\n",
       "      <th>Comparacao_VlrPesoLiqItem</th>\n",
       "    </tr>\n",
       "  </thead>\n",
       "  <tbody>\n",
       "  </tbody>\n",
       "</table>\n",
       "</div>"
      ],
      "text/plain": [
       "Empty DataFrame\n",
       "Columns: [CodDocVenda_x, NumDocCompra_x, NumDocContabil_x, Chave, VlrPesoLiqItem_y, VlrPesoLiqItem_Bruno, Comparacao_VlrPesoLiqItem]\n",
       "Index: []"
      ]
     },
     "execution_count": 13,
     "metadata": {},
     "output_type": "execute_result"
    }
   ],
   "source": [
    "#resultPesoLiq[resultPesoLiq['Comparacao_VlrPesoLiqItem']=='Diferente'].head(5)\n",
    "\n",
    "resultPesoLiq[resultPesoLiq['CodDocVenda_x']=='4000240586'].head(5)"
   ]
  },
  {
   "cell_type": "code",
   "execution_count": 8,
   "id": "b5afae7b",
   "metadata": {},
   "outputs": [],
   "source": [
    "resultLiqItem[resultLiqItem['Comparacao_VlrLiqItemOrdem']=='Diferente'].to_csv('Comparacao_VlrLiqItemOrdem.csv')\n",
    "#.head(5)"
   ]
  },
  {
   "cell_type": "code",
   "execution_count": 12,
   "id": "7e88ec6f",
   "metadata": {},
   "outputs": [
    {
     "data": {
      "text/html": [
       "<div>\n",
       "<style scoped>\n",
       "    .dataframe tbody tr th:only-of-type {\n",
       "        vertical-align: middle;\n",
       "    }\n",
       "\n",
       "    .dataframe tbody tr th {\n",
       "        vertical-align: top;\n",
       "    }\n",
       "\n",
       "    .dataframe thead th {\n",
       "        text-align: right;\n",
       "    }\n",
       "</style>\n",
       "<table border=\"1\" class=\"dataframe\">\n",
       "  <thead>\n",
       "    <tr style=\"text-align: right;\">\n",
       "      <th></th>\n",
       "      <th>CodDocVenda_x</th>\n",
       "      <th>NumDocCompra_x</th>\n",
       "      <th>NumDocContabil_x</th>\n",
       "      <th>Chave</th>\n",
       "      <th>VlrLiqItemOrdem_y</th>\n",
       "      <th>VlrLiqItemOrdem_Bruno</th>\n",
       "      <th>Comparacao_VlrLiqItemOrdem</th>\n",
       "    </tr>\n",
       "  </thead>\n",
       "  <tbody>\n",
       "  </tbody>\n",
       "</table>\n",
       "</div>"
      ],
      "text/plain": [
       "Empty DataFrame\n",
       "Columns: [CodDocVenda_x, NumDocCompra_x, NumDocContabil_x, Chave, VlrLiqItemOrdem_y, VlrLiqItemOrdem_Bruno, Comparacao_VlrLiqItemOrdem]\n",
       "Index: []"
      ]
     },
     "execution_count": 12,
     "metadata": {},
     "output_type": "execute_result"
    }
   ],
   "source": [
    "resultLiqItem[resultLiqItem['CodDocVenda_x']=='4000240586'].head(5)"
   ]
  }
 ],
 "metadata": {
  "kernelspec": {
   "display_name": "Python 3",
   "language": "python",
   "name": "python3"
  },
  "language_info": {
   "codemirror_mode": {
    "name": "ipython",
    "version": 3
   },
   "file_extension": ".py",
   "mimetype": "text/x-python",
   "name": "python",
   "nbconvert_exporter": "python",
   "pygments_lexer": "ipython3",
   "version": "3.8.8"
  }
 },
 "nbformat": 4,
 "nbformat_minor": 5
}
