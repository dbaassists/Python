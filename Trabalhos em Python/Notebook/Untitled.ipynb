{
 "cells": [
  {
   "cell_type": "code",
   "execution_count": 1,
   "id": "45927bb8",
   "metadata": {},
   "outputs": [],
   "source": [
    "import os\n",
    "import pandas as pd\n",
    "import time\n",
    "import pyodbc\n",
    "import psycopg2\n",
    "import pandas as pd\n",
    "import csv\n",
    "from pathlib import Path\n",
    "from os.path import getmtime\n",
    "from os import scandir"
   ]
  },
  {
   "cell_type": "code",
   "execution_count": null,
   "id": "3c7b7d40",
   "metadata": {},
   "outputs": [],
   "source": [
    "#pip install psycopg2"
   ]
  },
  {
   "cell_type": "code",
   "execution_count": 3,
   "id": "221d6ca0",
   "metadata": {},
   "outputs": [],
   "source": [
    "\n",
    "ip_servidor = 'ec2-34-194-158-81.compute-1.amazonaws.com'\n",
    "porta = '5432'\n",
    "banco = 'd1napn6u194q5g'\n",
    "usuario = 'bi-supergasbras'\n",
    "senha = 'pe481a293f60c5476d1e04f89270b9d52e915c80555244908673e10f13096403d'\n",
    "\n",
    "enginepostgre = psycopg2.connect(host=ip_servidor,database=banco,user=usuario,password=senha)\n",
    "\n",
    "con = psycopg2.connect(host=ip_servidor , database=banco ,user=usuario , password=senha )\n",
    "\n"
   ]
  },
  {
   "cell_type": "code",
   "execution_count": 10,
   "id": "ccd3ca0d",
   "metadata": {},
   "outputs": [],
   "source": [
    "con = psycopg2.connect(  host=ip_servidor \n",
    "                           , database=banco \n",
    "                           , user=usuario \n",
    "                           , password=senha )\n",
    "    \n",
    "query = \"SELECT id,regexp_replace(name, E'[\\\\n\\\\r\\\\f\\\\u000B\\\\u0085\\\\u2028\\\\u2029]+', ' ', 'g' ) nome,email,telephone,cellphone,cpf,business_model,best_contact_time,utm_source,utm_medium,utm_campaign,street,number,complement,neighbourhood,city,state,cep,privacy_policy_accepted_at,serasa_checked_at,serasa_status,created_at,updated_at,status,input_channel,cylinder_type,cancel_reason,regexp_replace(cancel_comments, E'[\\\\n\\\\r]+', ' ', 'g' ) cancel_comments,null as contact_attempt_comments,null as last_contact_attempt_at,regexp_replace(observations, E'[\\\\n\\\\r]+', ' ', 'g' ) observations,schedule_due_date,reschedule_due_date,schedule_period,reschedule_period,how_did_you_know,client_id,full_name,null birthdate,consumption_days,referrer_id,referrer_code,null as first_contact_attempt_at FROM public.leads ORDER BY 1 DESC\"\n",
    "\n",
    "outputquery = \"copy ({0}) to stdout with DELIMITER ';' csv header\".format(query)\n",
    "\n"
   ]
  },
  {
   "cell_type": "code",
   "execution_count": 11,
   "id": "fa5223ef",
   "metadata": {},
   "outputs": [
    {
     "ename": "UnicodeEncodeError",
     "evalue": "'charmap' codec can't encode characters in position 6-18: character maps to <undefined>",
     "output_type": "error",
     "traceback": [
      "\u001b[1;31m---------------------------------------------------------------------------\u001b[0m",
      "\u001b[1;31mUnicodeEncodeError\u001b[0m                        Traceback (most recent call last)",
      "\u001b[1;32m~\\AppData\\Local\\Temp\\ipykernel_30960\\239889369.py\u001b[0m in \u001b[0;36m<module>\u001b[1;34m\u001b[0m\n\u001b[0;32m      3\u001b[0m \u001b[1;32mwith\u001b[0m \u001b[0mopen\u001b[0m\u001b[1;33m(\u001b[0m\u001b[1;34m'C:\\Temp\\lead.csv'\u001b[0m\u001b[1;33m,\u001b[0m \u001b[1;34m'w'\u001b[0m\u001b[1;33m)\u001b[0m \u001b[1;32mas\u001b[0m \u001b[0mf\u001b[0m\u001b[1;33m:\u001b[0m\u001b[1;33m\u001b[0m\u001b[1;33m\u001b[0m\u001b[0m\n\u001b[0;32m      4\u001b[0m \u001b[1;33m\u001b[0m\u001b[0m\n\u001b[1;32m----> 5\u001b[1;33m         \u001b[0mcur\u001b[0m\u001b[1;33m.\u001b[0m\u001b[0mcopy_expert\u001b[0m\u001b[1;33m(\u001b[0m\u001b[0moutputquery\u001b[0m\u001b[1;33m,\u001b[0m \u001b[0mf\u001b[0m\u001b[1;33m)\u001b[0m\u001b[1;33m\u001b[0m\u001b[1;33m\u001b[0m\u001b[0m\n\u001b[0m",
      "\u001b[1;32mC:\\ProgramData\\Anaconda3\\lib\\encodings\\cp1252.py\u001b[0m in \u001b[0;36mencode\u001b[1;34m(self, input, final)\u001b[0m\n\u001b[0;32m     17\u001b[0m \u001b[1;32mclass\u001b[0m \u001b[0mIncrementalEncoder\u001b[0m\u001b[1;33m(\u001b[0m\u001b[0mcodecs\u001b[0m\u001b[1;33m.\u001b[0m\u001b[0mIncrementalEncoder\u001b[0m\u001b[1;33m)\u001b[0m\u001b[1;33m:\u001b[0m\u001b[1;33m\u001b[0m\u001b[1;33m\u001b[0m\u001b[0m\n\u001b[0;32m     18\u001b[0m     \u001b[1;32mdef\u001b[0m \u001b[0mencode\u001b[0m\u001b[1;33m(\u001b[0m\u001b[0mself\u001b[0m\u001b[1;33m,\u001b[0m \u001b[0minput\u001b[0m\u001b[1;33m,\u001b[0m \u001b[0mfinal\u001b[0m\u001b[1;33m=\u001b[0m\u001b[1;32mFalse\u001b[0m\u001b[1;33m)\u001b[0m\u001b[1;33m:\u001b[0m\u001b[1;33m\u001b[0m\u001b[1;33m\u001b[0m\u001b[0m\n\u001b[1;32m---> 19\u001b[1;33m         \u001b[1;32mreturn\u001b[0m \u001b[0mcodecs\u001b[0m\u001b[1;33m.\u001b[0m\u001b[0mcharmap_encode\u001b[0m\u001b[1;33m(\u001b[0m\u001b[0minput\u001b[0m\u001b[1;33m,\u001b[0m\u001b[0mself\u001b[0m\u001b[1;33m.\u001b[0m\u001b[0merrors\u001b[0m\u001b[1;33m,\u001b[0m\u001b[0mencoding_table\u001b[0m\u001b[1;33m)\u001b[0m\u001b[1;33m[\u001b[0m\u001b[1;36m0\u001b[0m\u001b[1;33m]\u001b[0m\u001b[1;33m\u001b[0m\u001b[1;33m\u001b[0m\u001b[0m\n\u001b[0m\u001b[0;32m     20\u001b[0m \u001b[1;33m\u001b[0m\u001b[0m\n\u001b[0;32m     21\u001b[0m \u001b[1;32mclass\u001b[0m \u001b[0mIncrementalDecoder\u001b[0m\u001b[1;33m(\u001b[0m\u001b[0mcodecs\u001b[0m\u001b[1;33m.\u001b[0m\u001b[0mIncrementalDecoder\u001b[0m\u001b[1;33m)\u001b[0m\u001b[1;33m:\u001b[0m\u001b[1;33m\u001b[0m\u001b[1;33m\u001b[0m\u001b[0m\n",
      "\u001b[1;31mUnicodeEncodeError\u001b[0m: 'charmap' codec can't encode characters in position 6-18: character maps to <undefined>"
     ]
    }
   ],
   "source": [
    "cur = con.cursor()\n",
    "\n",
    "with open('C:\\Temp\\lead.csv', 'w') as f:\n",
    "              \n",
    "        cur.copy_expert(outputquery, f)\n"
   ]
  }
 ],
 "metadata": {
  "kernelspec": {
   "display_name": "Python 3 (ipykernel)",
   "language": "python",
   "name": "python3"
  },
  "language_info": {
   "codemirror_mode": {
    "name": "ipython",
    "version": 3
   },
   "file_extension": ".py",
   "mimetype": "text/x-python",
   "name": "python",
   "nbconvert_exporter": "python",
   "pygments_lexer": "ipython3",
   "version": "3.9.13"
  }
 },
 "nbformat": 4,
 "nbformat_minor": 5
}
