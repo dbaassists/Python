{
 "cells": [
  {
   "cell_type": "code",
   "execution_count": 5,
   "id": "7b2de44e",
   "metadata": {},
   "outputs": [
    {
     "name": "stdout",
     "output_type": "stream",
     "text": [
      "(43533, datetime.datetime(2023, 1, 4, 9, 47, 6, 543178))\n"
     ]
    }
   ],
   "source": [
    "import psycopg2\n",
    "\n",
    "ip_servidor = 'ec2-34-194-158-81.compute-1.amazonaws.com'\n",
    "porta = '5432'\n",
    "banco = 'd1napn6u194q5g'\n",
    "usuario = 'bi-supergasbras'\n",
    "senha = 'pe481a293f60c5476d1e04f89270b9d52e915c80555244908673e10f13096403d'\n",
    "\n",
    "enginepostgre = psycopg2.connect(host=ip_servidor,database=banco,user=usuario,password=senha)\n",
    "\n",
    "con = psycopg2.connect(host=ip_servidor , database=banco ,user=usuario , password=senha )\n",
    "\n",
    "cur = con.cursor()\n",
    "\n",
    "cur.execute('SELECT max(id), max(created_at) FROM public.leads ORDER BY 1 DESC')\n",
    "\n",
    "recset = cur.fetchall()\n",
    "for rec in recset:\n",
    "    print (rec)\n",
    "\n",
    "con.close()"
   ]
  },
  {
   "cell_type": "code",
   "execution_count": null,
   "id": "5ba5d436",
   "metadata": {},
   "outputs": [],
   "source": []
  }
 ],
 "metadata": {
  "kernelspec": {
   "display_name": "Python 3 (ipykernel)",
   "language": "python",
   "name": "python3"
  },
  "language_info": {
   "codemirror_mode": {
    "name": "ipython",
    "version": 3
   },
   "file_extension": ".py",
   "mimetype": "text/x-python",
   "name": "python",
   "nbconvert_exporter": "python",
   "pygments_lexer": "ipython3",
   "version": "3.9.13"
  }
 },
 "nbformat": 4,
 "nbformat_minor": 5
}
