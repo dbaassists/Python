{
 "cells": [
  {
   "cell_type": "code",
   "execution_count": 1,
   "metadata": {},
   "outputs": [],
   "source": [
    "from arquivo import DataFrame\n",
    "import pandas as pd"
   ]
  },
  {
   "cell_type": "code",
   "execution_count": 2,
   "metadata": {},
   "outputs": [],
   "source": [
    "arquivoDadosSelecao = '../BaseDados_Copa_Catar_2022/catar2022_base_selecoes.csv'\n",
    "arquivoDadosJogador = '../BaseDados_Copa_Catar_2022/catar2022_base_jogadores.csv'\n",
    "arquivoDadosGrupo = '../BaseDados_Copa_Catar_2022/catar2022_base_grupo.csv'\n",
    "arquivoDadosEstadio = '../BaseDados_Copa_Catar_2022/catar2022_base_estadios.csv'\n",
    "\n",
    "separador = ';'\n",
    "encoding = 'latin1'\n",
    "header = 0\n",
    "numeroColunas = [0,2]\n",
    "nomeColunas = ['NomeSelecao','NomeTreinador']"
   ]
  },
  {
   "cell_type": "code",
   "execution_count": 3,
   "metadata": {},
   "outputs": [
    {
     "data": {
      "text/html": [
       "<div>\n",
       "<style scoped>\n",
       "    .dataframe tbody tr th:only-of-type {\n",
       "        vertical-align: middle;\n",
       "    }\n",
       "\n",
       "    .dataframe tbody tr th {\n",
       "        vertical-align: top;\n",
       "    }\n",
       "\n",
       "    .dataframe thead th {\n",
       "        text-align: right;\n",
       "    }\n",
       "</style>\n",
       "<table border=\"1\" class=\"dataframe\">\n",
       "  <thead>\n",
       "    <tr style=\"text-align: right;\">\n",
       "      <th></th>\n",
       "      <th>NomeSelecao</th>\n",
       "      <th>NomeTreinador</th>\n",
       "    </tr>\n",
       "  </thead>\n",
       "  <tbody>\n",
       "    <tr>\n",
       "      <th>0</th>\n",
       "      <td>( FRANÇA ou MORROCOS )</td>\n",
       "      <td>NÃO DEFINIDO</td>\n",
       "    </tr>\n",
       "    <tr>\n",
       "      <th>1</th>\n",
       "      <td>( ARGENTINA ou CROÁCIA )</td>\n",
       "      <td>NÃO DEFINIDO</td>\n",
       "    </tr>\n",
       "  </tbody>\n",
       "</table>\n",
       "</div>"
      ],
      "text/plain": [
       "                NomeSelecao NomeTreinador\n",
       "0    ( FRANÇA ou MORROCOS )  NÃO DEFINIDO\n",
       "1  ( ARGENTINA ou CROÁCIA )  NÃO DEFINIDO"
      ]
     },
     "execution_count": 3,
     "metadata": {},
     "output_type": "execute_result"
    }
   ],
   "source": [
    "numeroColunas = [0,2]\n",
    "nomeColunas = ['NomeSelecao','NomeTreinador']\n",
    "parametro = 0\n",
    "\n",
    "dataframe = DataFrame(arquivoDadosSelecao,separador,encoding,header,numeroColunas,nomeColunas,parametro)\n",
    "\n",
    "dfSelecao = dataframe.carregaArquivo()\n",
    "\n",
    "dfSelecao.head(2)"
   ]
  },
  {
   "cell_type": "code",
   "execution_count": 4,
   "metadata": {},
   "outputs": [
    {
     "data": {
      "text/html": [
       "<div>\n",
       "<style scoped>\n",
       "    .dataframe tbody tr th:only-of-type {\n",
       "        vertical-align: middle;\n",
       "    }\n",
       "\n",
       "    .dataframe tbody tr th {\n",
       "        vertical-align: top;\n",
       "    }\n",
       "\n",
       "    .dataframe thead th {\n",
       "        text-align: right;\n",
       "    }\n",
       "</style>\n",
       "<table border=\"1\" class=\"dataframe\">\n",
       "  <thead>\n",
       "    <tr style=\"text-align: right;\">\n",
       "      <th></th>\n",
       "      <th>NOMJOGADOR</th>\n",
       "      <th>NOMPOSICAO</th>\n",
       "    </tr>\n",
       "  </thead>\n",
       "  <tbody>\n",
       "    <tr>\n",
       "      <th>0</th>\n",
       "      <td>AL-SHEEB</td>\n",
       "      <td>GOL</td>\n",
       "    </tr>\n",
       "    <tr>\n",
       "      <th>1</th>\n",
       "      <td>PEDRO MIGUEL</td>\n",
       "      <td>LAD</td>\n",
       "    </tr>\n",
       "  </tbody>\n",
       "</table>\n",
       "</div>"
      ],
      "text/plain": [
       "     NOMJOGADOR NOMPOSICAO\n",
       "0      AL-SHEEB        GOL\n",
       "1  PEDRO MIGUEL        LAD"
      ]
     },
     "execution_count": 4,
     "metadata": {},
     "output_type": "execute_result"
    }
   ],
   "source": [
    "numeroColunas = [0,2]\n",
    "nomeColunas = ''\n",
    "parametro = 1\n",
    "\n",
    "dataframeJogador = DataFrame(arquivoDadosJogador,separador,encoding,header,numeroColunas,nomeColunas,parametro)\n",
    "\n",
    "dfJogador = dataframeJogador.carregaArquivo()\n",
    "\n",
    "dfJogador.head(2)"
   ]
  },
  {
   "cell_type": "code",
   "execution_count": 5,
   "metadata": {},
   "outputs": [
    {
     "data": {
      "text/html": [
       "<div>\n",
       "<style scoped>\n",
       "    .dataframe tbody tr th:only-of-type {\n",
       "        vertical-align: middle;\n",
       "    }\n",
       "\n",
       "    .dataframe tbody tr th {\n",
       "        vertical-align: top;\n",
       "    }\n",
       "\n",
       "    .dataframe thead th {\n",
       "        text-align: right;\n",
       "    }\n",
       "</style>\n",
       "<table border=\"1\" class=\"dataframe\">\n",
       "  <thead>\n",
       "    <tr style=\"text-align: right;\">\n",
       "      <th></th>\n",
       "      <th>NomeGrupo</th>\n",
       "    </tr>\n",
       "  </thead>\n",
       "  <tbody>\n",
       "    <tr>\n",
       "      <th>0</th>\n",
       "      <td>FINAL</td>\n",
       "    </tr>\n",
       "    <tr>\n",
       "      <th>1</th>\n",
       "      <td>GRUPO A</td>\n",
       "    </tr>\n",
       "  </tbody>\n",
       "</table>\n",
       "</div>"
      ],
      "text/plain": [
       "  NomeGrupo\n",
       "0     FINAL\n",
       "1   GRUPO A"
      ]
     },
     "execution_count": 5,
     "metadata": {},
     "output_type": "execute_result"
    }
   ],
   "source": [
    "numeroColunas = ''\n",
    "nomeColunas = ['NomeGrupo']\n",
    "parametro = 2\n",
    "\n",
    "dataframeGrupo = DataFrame(arquivoDadosGrupo,separador,encoding,header,numeroColunas,nomeColunas,parametro)\n",
    "\n",
    "dfGrupo = dataframeGrupo.carregaArquivo()\n",
    "\n",
    "dfGrupo.head(2)"
   ]
  },
  {
   "cell_type": "code",
   "execution_count": 6,
   "metadata": {},
   "outputs": [
    {
     "data": {
      "text/html": [
       "<div>\n",
       "<style scoped>\n",
       "    .dataframe tbody tr th:only-of-type {\n",
       "        vertical-align: middle;\n",
       "    }\n",
       "\n",
       "    .dataframe tbody tr th {\n",
       "        vertical-align: top;\n",
       "    }\n",
       "\n",
       "    .dataframe thead th {\n",
       "        text-align: right;\n",
       "    }\n",
       "</style>\n",
       "<table border=\"1\" class=\"dataframe\">\n",
       "  <thead>\n",
       "    <tr style=\"text-align: right;\">\n",
       "      <th></th>\n",
       "      <th>NOMESTADIO</th>\n",
       "      <th>NUMCAPACIDADE</th>\n",
       "    </tr>\n",
       "  </thead>\n",
       "  <tbody>\n",
       "    <tr>\n",
       "      <th>0</th>\n",
       "      <td>KHALIFA INTERNACIONAL STADIUM</td>\n",
       "      <td>45857</td>\n",
       "    </tr>\n",
       "    <tr>\n",
       "      <th>1</th>\n",
       "      <td>AHMAD BIN ALI STADIUM</td>\n",
       "      <td>45032</td>\n",
       "    </tr>\n",
       "  </tbody>\n",
       "</table>\n",
       "</div>"
      ],
      "text/plain": [
       "                      NOMESTADIO  NUMCAPACIDADE\n",
       "0  KHALIFA INTERNACIONAL STADIUM          45857\n",
       "1          AHMAD BIN ALI STADIUM          45032"
      ]
     },
     "execution_count": 6,
     "metadata": {},
     "output_type": "execute_result"
    }
   ],
   "source": [
    "numeroColunas = ''\n",
    "nomeColunas = ''\n",
    "parametro = 3\n",
    "\n",
    "dataframeEstadio = DataFrame(arquivoDadosEstadio,separador,encoding,header,numeroColunas,nomeColunas,parametro)\n",
    "\n",
    "dfEstadio = dataframeEstadio.carregaArquivo()\n",
    "\n",
    "dfEstadio.head(2)"
   ]
  }
 ],
 "metadata": {
  "kernelspec": {
   "display_name": "Python 3 (ipykernel)",
   "language": "python",
   "name": "python3"
  },
  "language_info": {
   "codemirror_mode": {
    "name": "ipython",
    "version": 3
   },
   "file_extension": ".py",
   "mimetype": "text/x-python",
   "name": "python",
   "nbconvert_exporter": "python",
   "pygments_lexer": "ipython3",
   "version": "3.9.12"
  },
  "vscode": {
   "interpreter": {
    "hash": "de9a480ac2d69f014995308faa9d28f0c967d23d19bc3f82a4d113f283b4c467"
   }
  }
 },
 "nbformat": 4,
 "nbformat_minor": 2
}
