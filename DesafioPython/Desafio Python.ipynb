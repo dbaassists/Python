{
 "cells": [
  {
   "cell_type": "markdown",
   "id": "e8b6a092",
   "metadata": {},
   "source": [
    "1) Crie um dicionário e adicione nele as 5 pessoas que estão mais próximas de você. Esse dicionário deve ter como chave o nome e a cor da camisa que a pessoa está usando."
   ]
  },
  {
   "cell_type": "code",
   "execution_count": null,
   "id": "4598a18d",
   "metadata": {},
   "outputs": [],
   "source": [
    "amigos = {}\n",
    "\n",
    "for i in range(5):\n",
    "    Nome = input(\"Digite o nome do seu amigo: \")\n",
    "    CorCamisa = input(\"Digite a cor da sua camisa: \")\n",
    "\n",
    "    amigos[Nome] = CorCamisa\n",
    "\n",
    "print(amigos)"
   ]
  },
  {
   "cell_type": "markdown",
   "id": "3f93afab",
   "metadata": {},
   "source": [
    "2) Crie um dicionário vazio e ele deve possuir como chave cada dia da semana e a aula que você tem em cada dia. Lembrando que o sábado e domingo devem ficar vazios, ou seja, são dias de descanso."
   ]
  },
  {
   "cell_type": "code",
   "execution_count": null,
   "id": "c5ac2f09",
   "metadata": {},
   "outputs": [],
   "source": [
    "dados={}\n",
    "aulas = open('agendaAulas.txt','w')\n",
    "dias = 5\n",
    "\n",
    "while dias >= 1:\n",
    "    \n",
    "    if dias == 5:\n",
    "        segunda= input('Segunda-Feira: ')      \n",
    "    elif dias == 4:        \n",
    "        terca= input('Terça-Feira: ')\n",
    "    elif dias == 3:        \n",
    "        quarta= input('Quarta-Feira: ')\n",
    "    elif dias == 2:        \n",
    "        quinta= input('Quinta-Feira: ')\n",
    "    elif dias == 1:        \n",
    "        sexta= input('Sexta-Feira: ')    \n",
    "    sabado= 'Sem Aula - Folga'\n",
    "    domingo= 'Sem Aula - Folga'    \n",
    "    dias = dias - 1\n",
    "\n",
    "aulas.write('{0},{1},{2},{3},{4},{5},{6}'.format(segunda,terca,quarta,quinta,sexta,sabado,domingo))\n",
    "aulas.close()\n",
    "\n",
    "agendaAulas = open('agendaAulas.txt','r')\n",
    "\n",
    "for aulasSemana in agendaAulas:\n",
    "    valores = aulasSemana.split(',')\n",
    "    dadosAula={'segunda-feira':valores[0],'terça-feira':valores[1],'quarta-feira':valores[2],'quinta-feira':valores[3],'sexta-feira':valores[4],'sabado':valores[5],'domingo':valores[6]}\n",
    "    print(dadosAula)\n"
   ]
  },
  {
   "cell_type": "markdown",
   "id": "009414fd",
   "metadata": {},
   "source": [
    "3) Crie um dicionário vazio e nomeie ele de filmes. Esse dicionario deve possuir como chave o nome de um filme, o vilão e o ano em que o filme foi lançado. Inclua pelo menos 5 filmes."
   ]
  },
  {
   "cell_type": "code",
   "execution_count": null,
   "id": "5987eb33",
   "metadata": {},
   "outputs": [],
   "source": [
    "cabecalho = ['filme', 'vilao', 'ano']\n",
    "\n",
    "lista_filme = [\n",
    "['Eternos','Kang','2021']\n",
    ",['Viúva Negra','General Dreykov','2021']\n",
    ",['Venom: Tempo de Carnificina','Carnificina','2021']\n",
    ",['Duna','Elvis','2021']\n",
    ",['Esquadrão Suicida','Starro','2021']\n",
    "]\n",
    "\n",
    "filme = {}\n",
    "\n",
    "for i in range(len(lista_filme)):\n",
    "\n",
    "    filme = dict(zip(['filme', 'vilao', 'ano'], [lista_filme[i][0],lista_filme[i][1],lista_filme[i][2]]))\n",
    "              \n",
    "    print(filme)        "
   ]
  },
  {
   "cell_type": "markdown",
   "id": "4e88afd8",
   "metadata": {},
   "source": [
    "4) Escreva uma função que retorne uma lista com todas as chaves de um dicionário que contém um certo valor.\n",
    "Exemplo, se o seu dicionário possuir os seguintes valores, {'a': 1, 'b': 2, 'c': 1, 'd': 4}, a função deve retornar ['a', 'c'] caso o valor procurado seja 1 e deverá retornar [] caso procure pelo valor 999."
   ]
  },
  {
   "cell_type": "code",
   "execution_count": null,
   "id": "70b313da",
   "metadata": {},
   "outputs": [],
   "source": [
    "def listaRegistrosDicionario(dicionario):\n",
    "\n",
    "    lista = []\n",
    "\n",
    "    valor = int(input('Informe o valor que deseja procurar: '))\n",
    "\n",
    "    for a in dic.keys():\n",
    "        if dic[a] == valor:\n",
    "            lista.append(a)\n",
    "        elif valor == 999:\n",
    "            lista = lista\n",
    "\n",
    "    print (lista)\n",
    "\n",
    "dic = {'valor_a': 1, 'valor_b': 2, 'valor_c': 1, 'valor_d': 4}\n",
    "    \n",
    "listaRegistrosDicionario(dic)"
   ]
  },
  {
   "cell_type": "markdown",
   "id": "abb16e52",
   "metadata": {},
   "source": [
    "5) Crie um dicionário para armazenar nele os dados fornecidos pelo usuário. Esse dicionário deverá ter como chave o nome, a idade, o telefone e o endereço."
   ]
  },
  {
   "cell_type": "code",
   "execution_count": null,
   "id": "8f100dc9",
   "metadata": {},
   "outputs": [],
   "source": [
    "pessoa = {}\n",
    "\n",
    "Nome = input(\"Digite o nome do seu amigo: \")\n",
    "Idade = input(\"Digite a idade: \")\n",
    "Telefone = input(\"Digite o telefone: \")\n",
    "Endereco = input(\"Digite o endereço: \")\n",
    "\n",
    "pessoa={'nome':Nome,'idade':Idade,'telefone':Telefone,'endereco':Endereco}\n",
    "\n",
    "print(pessoa)"
   ]
  },
  {
   "cell_type": "markdown",
   "id": "b3db0a0f",
   "metadata": {},
   "source": [
    "6) Crie um dicionário que funcione igual a uma agenda. Esse dicionário deve possuir os seguintes dados como chave cpf,  nome, idade, telefone. \n",
    "O programa deve ler quantidade indeterminada de dados, criar a agenda e retornar todos os itens no formato chave: cpf-nome-idade-telefone."
   ]
  },
  {
   "cell_type": "code",
   "execution_count": null,
   "id": "704339e4",
   "metadata": {},
   "outputs": [],
   "source": [
    "dados={}\n",
    "\n",
    "agenda = open('agenda.txt','w')\n",
    "\n",
    "s_ou_n='s'\n",
    "\n",
    "while s_ou_n=='s':\n",
    "\n",
    "    cpf= input('Pode Informar seu CPF: ')\n",
    "    nome= input('Qual é o seu Nome?')\n",
    "    idade= input('E a sua idade? ')\n",
    "    telefone= input('Por último, qual o seu telefone: ')\n",
    "    \n",
    "    agenda.write('{0},{1},{2},{3}'.format(cpf,nome,idade,telefone))\n",
    "    agenda.write(\"\\n\")\n",
    "   \n",
    "    s_ou_n= input('Quintellão, você deseja adicionar outro contato? (s/n)')\n",
    "    \n",
    "    if s_ou_n == 'n':\n",
    "        \n",
    "        agenda.close()\n",
    "\n",
    "agendaContatos = open('agenda.txt','r')\n",
    "\n",
    "for linhas in agendaContatos:\n",
    "\n",
    "    valores = linhas.split(',')\n",
    "    \n",
    "    dados={'cpf':valores[0],'nome':valores[1],'idade':valores[2],'telefone':valores[3]}\n",
    "    \n",
    "    print(dados)"
   ]
  },
  {
   "cell_type": "markdown",
   "id": "cba4c3e5",
   "metadata": {},
   "source": [
    "7) Crie um programa que cadastre informações de várias pessoas. Esse programa deverá receber informações de nome, idade e cpf. Depois armazene em um dicionário no formato chave nome-idade-cpf. "
   ]
  },
  {
   "cell_type": "code",
   "execution_count": null,
   "id": "791cd24d",
   "metadata": {},
   "outputs": [],
   "source": [
    "dicContatos = {}\n",
    "\n",
    "inicio = 1\n",
    "fim = 0\n",
    "\n",
    "while inicio != fim:\n",
    "\n",
    "    dicContatos[inicio] = {}\n",
    "    dicContatos[inicio]['nome'] = input('Nome: ')\n",
    "    dicContatos[inicio]['idade'] = int(input('Idade: '))\n",
    "    dicContatos[inicio]['cpf'] = input('CPF: ')\n",
    "    \n",
    "    fim = input('Deseja continuar? ')\n",
    "    \n",
    "    if (fim == 'n') | (fim == 'N'):\n",
    "        fim = inicio    \n",
    "    else:    \n",
    "        inicio = inicio + 1\n"
   ]
  }
 ],
 "metadata": {
  "kernelspec": {
   "display_name": "Python 3 (ipykernel)",
   "language": "python",
   "name": "python3"
  },
  "language_info": {
   "codemirror_mode": {
    "name": "ipython",
    "version": 3
   },
   "file_extension": ".py",
   "mimetype": "text/x-python",
   "name": "python",
   "nbconvert_exporter": "python",
   "pygments_lexer": "ipython3",
   "version": "3.9.12"
  }
 },
 "nbformat": 4,
 "nbformat_minor": 5
}
