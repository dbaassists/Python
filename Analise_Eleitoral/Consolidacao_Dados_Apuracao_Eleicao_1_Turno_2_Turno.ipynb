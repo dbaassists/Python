{
 "cells": [
  {
   "cell_type": "markdown",
   "id": "3cf53b63",
   "metadata": {},
   "source": [
    "pip install bar-chart-race"
   ]
  },
  {
   "cell_type": "markdown",
   "id": "39f20e00",
   "metadata": {},
   "source": [
    "pip install ffmpeg-python"
   ]
  },
  {
   "cell_type": "code",
   "execution_count": 36,
   "id": "85a67977",
   "metadata": {},
   "outputs": [],
   "source": [
    "import pandas as pd\n",
    "import os\n",
    "import bar_chart_race as bcr"
   ]
  },
  {
   "cell_type": "code",
   "execution_count": 37,
   "id": "90230011",
   "metadata": {},
   "outputs": [],
   "source": [
    "diretorio_arquivo_apuracao_eleitoral_primeiro_turno = 'C:\\\\Temp\\\\Apuracao\\\\1_Turno\\\\Arquivos_Apuracao_Presidente\\\\'\n",
    "\n",
    "apuracao_eleitoral_primeiro_turno = pd.DataFrame()\n",
    "\n",
    "for arquivo in os.listdir(diretorio_arquivo_apuracao_eleitoral_primeiro_turno):\n",
    "    \n",
    "    if arquivo.endswith('csv'):\n",
    "\n",
    "        path_arquivo_apuracao_eleitoral = diretorio_arquivo_apuracao_eleitoral_primeiro_turno + arquivo\n",
    "\n",
    "        dfarquivo_apuracao_eleitoral_primeiro_turno = pd.read_csv(\n",
    "                           path_arquivo_apuracao_eleitoral\n",
    "                         , encoding='latin-1' \n",
    "                         , sep=';'\n",
    "                         , header=0\n",
    "                         , low_memory=False\n",
    "                         , usecols=[0,1,3]\n",
    "                         , names=['candidato','voto','data']\n",
    "                         , parse_dates=[2]\n",
    "        )\n",
    "\n",
    "        apuracao_eleitoral_primeiro_turno = pd.concat([apuracao_eleitoral_primeiro_turno, dfarquivo_apuracao_eleitoral_primeiro_turno])\n",
    "        "
   ]
  },
  {
   "cell_type": "code",
   "execution_count": 38,
   "id": "047d4c26",
   "metadata": {},
   "outputs": [],
   "source": [
    "apuracao_eleitoral_primeiro_turno_consolidado =  pd.DataFrame(apuracao_eleitoral_primeiro_turno.groupby(['candidato'\n",
    "                                                                                    ,'data']).sum()['voto']).unstack().T.droplevel(level=0)"
   ]
  },
  {
   "cell_type": "code",
   "execution_count": null,
   "id": "46abb9f0",
   "metadata": {
    "scrolled": false
   },
   "outputs": [
    {
     "name": "stderr",
     "output_type": "stream",
     "text": [
      "C:\\Users\\lacer\\AppData\\Roaming\\Python\\Python39\\site-packages\\bar_chart_race\\_make_chart.py:286: UserWarning: FixedFormatter should only be used together with FixedLocator\n",
      "  ax.set_yticklabels(self.df_values.columns)\n",
      "C:\\Users\\lacer\\AppData\\Roaming\\Python\\Python39\\site-packages\\bar_chart_race\\_make_chart.py:287: UserWarning: FixedFormatter should only be used together with FixedLocator\n",
      "  ax.set_xticklabels([max_val] * len(ax.get_xticks()))\n"
     ]
    }
   ],
   "source": [
    "bcr.bar_chart_race( df =apuracao_eleitoral_primeiro_turno_consolidado,\n",
    "                   n_bars = 5, \n",
    "                   sort='desc',\n",
    "                   title='Apuração Eleitoral Presidente 2022 - Primeiro Turno',\n",
    "                   filename = 'C:\\\\Temp\\\\Apuracao\\\\1_Turno\\\\apuracao_presidente_primeiro_turno.mp4'\n",
    ")"
   ]
  },
  {
   "cell_type": "code",
   "execution_count": null,
   "id": "722dc0a4",
   "metadata": {},
   "outputs": [],
   "source": [
    "apuracao_eleitoral_segundo_turno = pd.DataFrame()\n",
    "\n",
    "diretorio_arquivo_apuracao_eleitoral_segundo_turno = 'C:\\\\Temp\\\\Apuracao\\\\2_Turno\\\\Arquivos_Apuracao_Presidente_BR\\\\'\n",
    "\n",
    "for arquivo in os.listdir(diretorio_arquivo_apuracao_eleitoral_segundo_turno):\n",
    "    \n",
    "    if arquivo.endswith('csv'):\n",
    "\n",
    "        path_arquivo_apuracao_eleitoral_segundo_turno = diretorio_arquivo_apuracao_eleitoral_segundo_turno+arquivo\n",
    "\n",
    "        dfarquivo_apuracao_eleitoral_segundo_turno = pd.read_csv(\n",
    "                           path_arquivo_apuracao_eleitoral_segundo_turno\n",
    "                         , encoding='latin-1' \n",
    "                         , sep=';'\n",
    "                         , header=0\n",
    "                         , low_memory=False\n",
    "                         , usecols=[0,1,3]\n",
    "                         , names=['candidato','voto','data']\n",
    "                         , parse_dates=[2]\n",
    "        )    \n",
    "    \n",
    "    \n",
    "    apuracao_eleitoral_segundo_turno = pd.concat([apuracao_eleitoral_segundo_turno, dfarquivo_apuracao_eleitoral_segundo_turno])"
   ]
  },
  {
   "cell_type": "code",
   "execution_count": null,
   "id": "69764e55",
   "metadata": {},
   "outputs": [],
   "source": [
    "apuracao_eleitoral_segundo_turno"
   ]
  },
  {
   "cell_type": "code",
   "execution_count": null,
   "id": "6a986ace",
   "metadata": {},
   "outputs": [],
   "source": [
    "apuracao_eleitoral_segundo_turno_consolidado =  pd.DataFrame(apuracao_eleitoral_segundo_turno.groupby(['candidato'\n",
    "                                                                                   ,'data']).sum()['voto']).unstack().T.droplevel(level=0)"
   ]
  },
  {
   "cell_type": "code",
   "execution_count": null,
   "id": "455359f0",
   "metadata": {},
   "outputs": [],
   "source": [
    "bcr.bar_chart_race( df =apuracao_eleitoral_segundo_turno_consolidado ,\n",
    "                   n_bars = 2, \n",
    "                   sort='desc',\n",
    "                   title='Apuração Eleitoral Presidente 2022 - Segundo Turno',\n",
    "                   filename = 'C:\\\\Temp\\\\Apuracao\\\\2_Turno\\\\apuracao_presidente_segundo_turno.mp4'\n",
    "                \n",
    ")"
   ]
  }
 ],
 "metadata": {
  "kernelspec": {
   "display_name": "Python 3 (ipykernel)",
   "language": "python",
   "name": "python3"
  },
  "language_info": {
   "codemirror_mode": {
    "name": "ipython",
    "version": 3
   },
   "file_extension": ".py",
   "mimetype": "text/x-python",
   "name": "python",
   "nbconvert_exporter": "python",
   "pygments_lexer": "ipython3",
   "version": "3.9.12"
  }
 },
 "nbformat": 4,
 "nbformat_minor": 5
}
