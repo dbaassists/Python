{
 "cells": [
  {
   "cell_type": "code",
   "execution_count": 4,
   "id": "0e096323",
   "metadata": {},
   "outputs": [],
   "source": [
    "#############################################################################################\n",
    "############################ DEFINIÇÃO DE BIBLIOTECAS #######################################\n",
    "#############################################################################################\n",
    "\n",
    "import requests\n",
    "import json\n",
    "import pandas as pd\n",
    "from datetime import datetime\n",
    "from datetime import date\n",
    "import time"
   ]
  },
  {
   "cell_type": "markdown",
   "id": "e0e7c70f",
   "metadata": {},
   "source": [
    "#############################################################################################\n",
    "################################### DOCUMENTAÇÃO  ##########################################\n",
    "#############################################################################################\n",
    "\n",
    "# fonte => https://www.tse.jus.br/eleicoes/eleicoes-2022/interessados-na-divulgacao-de-resultados-2022\n"
   ]
  },
  {
   "cell_type": "code",
   "execution_count": 5,
   "id": "dd1311d3",
   "metadata": {},
   "outputs": [],
   "source": [
    "#############################################################################################\n",
    "############################ DEFINIÇÃO DE VARIÁVEIS #########################################\n",
    "#############################################################################################\n",
    "\n",
    "data_e_hora_atuais = datetime.now()\n",
    "data = data_e_hora_atuais.strftime('%Y%m%d')\n",
    "data_e_hora_inicio = data_e_hora_atuais.strftime('%Y%m%d%H%M%S')\n",
    "data_e_hora_fim = '20221031235959'\n",
    "\n",
    "estados = ['RR', 'GO', 'SP', 'CE', 'AP', 'BA', 'RJ', 'DF', 'ES', 'PA', 'MS',\n",
    "       'PR', 'MG', 'RO', 'PE', 'SC', 'MA', 'AC', 'RN', 'AM', 'AL', 'MT',\n",
    "       'PI', 'SE', 'RS', 'TO', 'PB', 'BR','ZZ']"
   ]
  },
  {
   "cell_type": "code",
   "execution_count": 6,
   "id": "5df0937d",
   "metadata": {},
   "outputs": [
    {
     "ename": "KeyboardInterrupt",
     "evalue": "",
     "output_type": "error",
     "traceback": [
      "\u001b[1;31m---------------------------------------------------------------------------\u001b[0m",
      "\u001b[1;31mKeyboardInterrupt\u001b[0m                         Traceback (most recent call last)",
      "Input \u001b[1;32mIn [6]\u001b[0m, in \u001b[0;36m<cell line: 5>\u001b[1;34m()\u001b[0m\n\u001b[0;32m     51\u001b[0m     df_eleicoes\u001b[38;5;241m.\u001b[39mto_csv(\u001b[38;5;124m'\u001b[39m\u001b[38;5;124mC:\u001b[39m\u001b[38;5;130;01m\\\\\u001b[39;00m\u001b[38;5;124mTemp\u001b[39m\u001b[38;5;130;01m\\\\\u001b[39;00m\u001b[38;5;124mApuracao\u001b[39m\u001b[38;5;130;01m\\\\\u001b[39;00m\u001b[38;5;132;01m{3}\u001b[39;00m\u001b[38;5;130;01m\\\\\u001b[39;00m\u001b[38;5;124mapuracao_presidente_\u001b[39m\u001b[38;5;132;01m{0}\u001b[39;00m\u001b[38;5;124m_\u001b[39m\u001b[38;5;132;01m{1}\u001b[39;00m\u001b[38;5;124m_\u001b[39m\u001b[38;5;132;01m{2}\u001b[39;00m\u001b[38;5;124m.csv\u001b[39m\u001b[38;5;124m'\u001b[39m\u001b[38;5;241m.\u001b[39mformat(turno\n\u001b[0;32m     52\u001b[0m                                                                                   ,uf\n\u001b[0;32m     53\u001b[0m                                                                                   ,data_e_hora_em_texto\n\u001b[1;32m   (...)\u001b[0m\n\u001b[0;32m     56\u001b[0m                                                                                    ,index\u001b[38;5;241m=\u001b[39m\u001b[38;5;28;01mFalse\u001b[39;00m\n\u001b[0;32m     57\u001b[0m                                                                                    ,encoding\u001b[38;5;241m=\u001b[39m\u001b[38;5;124m'\u001b[39m\u001b[38;5;124mlatin-1\u001b[39m\u001b[38;5;124m'\u001b[39m)\n\u001b[0;32m     59\u001b[0m     data_e_hora_inicio \u001b[38;5;241m=\u001b[39m data_e_hora_em_texto\n\u001b[1;32m---> 61\u001b[0m \u001b[43mtime\u001b[49m\u001b[38;5;241;43m.\u001b[39;49m\u001b[43msleep\u001b[49m\u001b[43m(\u001b[49m\u001b[38;5;241;43m60\u001b[39;49m\u001b[43m)\u001b[49m\n",
      "\u001b[1;31mKeyboardInterrupt\u001b[0m: "
     ]
    }
   ],
   "source": [
    "#############################################################################################\n",
    "############################ EXTRAÇÃO DADOS APURAÇÃO ########################################\n",
    "#############################################################################################\n",
    "\n",
    "while data_e_hora_inicio <= data_e_hora_fim: \n",
    "    \n",
    "    data_e_hora_atuais = datetime.now()\n",
    "    data_atual = date.today()\n",
    "    data_e_hora_em_texto = data_e_hora_atuais.strftime('%Y%m%d%H%M%S')\n",
    "    turno = '2_Turno'      \n",
    "    \n",
    "    if data == '20221002':\n",
    "        diretorioArquivos = '1_Turno'\n",
    "        \n",
    "    elif data == '20221030':\n",
    "        diretorioArquivos = '2_Turno'\n",
    "    \n",
    "    for uf in estados: \n",
    "        \n",
    "        if data == '20221002':\n",
    "            \n",
    "            linkAPI = 'https://resultados.tse.jus.br/oficial/ele2022/544/dados-simplificados/{0}/{1}-c0001-e000544-r.json'.format(uf.lower(),uf.lower())\n",
    "   \n",
    "        else:\n",
    "    \n",
    "            linkAPI = 'https://resultados.tse.jus.br/oficial/ele2022/545/dados-simplificados/{0}/{1}-c0001-e000545-r.json'.format(uf.lower(),uf.lower())\n",
    "    \n",
    "        dadosApuracao = requests.get(linkAPI)\n",
    "        \n",
    "        json_dadosApuracao = json.loads(dadosApuracao.content)\n",
    "\n",
    "        candidato = []\n",
    "        partido = []\n",
    "        votos = []\n",
    "        porcentagem = []\n",
    "\n",
    "        for informacoes in json_dadosApuracao['cand']:\n",
    "\n",
    "            if  informacoes['seq']== '1' or  informacoes['seq']== '2':\n",
    "\n",
    "                candidato.append(informacoes['nm'])\n",
    "                votos.append(informacoes['vap'])\n",
    "                porcentagem.append(informacoes['pvap'])\n",
    "\n",
    "        df_eleicoes = pd.DataFrame(list(zip(candidato,votos,porcentagem)),columns=['Candidato','Nº Votos', 'Porcentagem'])\n",
    "\n",
    "        df_eleicoes['datahora'] = data_e_hora_em_texto\n",
    "\n",
    "        data_e_hora_em_texto\n",
    "\n",
    "        df_eleicoes.to_csv('C:\\\\Temp\\\\Apuracao\\\\{3}\\\\apuracao_presidente_{0}_{1}_{2}.csv'.format(turno\n",
    "                                                                                      ,uf\n",
    "                                                                                      ,data_e_hora_em_texto\n",
    "                                                                                      ,diretorioArquivos)\n",
    "                                                                                       ,sep=';'\n",
    "                                                                                       ,index=False\n",
    "                                                                                       ,encoding='latin-1')\n",
    "\n",
    "        data_e_hora_inicio = data_e_hora_em_texto\n",
    "        \n",
    "    time.sleep(60)"
   ]
  }
 ],
 "metadata": {
  "kernelspec": {
   "display_name": "Python 3 (ipykernel)",
   "language": "python",
   "name": "python3"
  },
  "language_info": {
   "codemirror_mode": {
    "name": "ipython",
    "version": 3
   },
   "file_extension": ".py",
   "mimetype": "text/x-python",
   "name": "python",
   "nbconvert_exporter": "python",
   "pygments_lexer": "ipython3",
   "version": "3.9.12"
  }
 },
 "nbformat": 4,
 "nbformat_minor": 5
}
